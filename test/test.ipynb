{
 "cells": [
  {
   "cell_type": "code",
   "execution_count": 1,
   "metadata": {},
   "outputs": [],
   "source": [
    "import uproot as up\n",
    "import awkward as ak\n",
    "import coffea\n",
    "from coffea.nanoevents import NanoEventsFactory, NanoAODSchema, BaseSchema, TreeMakerSchema\n",
    "from coffea.nanoevents.methods import candidate\n",
    "from coffea import lookup_tools\n",
    "from coffea.lookup_tools import extractor\n",
    "from coffea.jetmet_tools import FactorizedJetCorrector, JetCorrectionUncertainty\n",
    "from coffea.jetmet_tools import JECStack, CorrectedJetsFactory, CorrectedMETFactory\n",
    "from coffea.btag_tools.btagscalefactor import BTagScaleFactor\n",
    "\n",
    "ak.behavior.update(candidate.behavior)\n",
    "import numpy as np\n",
    "import time\n",
    "import cachetools"
   ]
  },
  {
   "cell_type": "code",
   "execution_count": 27,
   "metadata": {},
   "outputs": [],
   "source": [
    "file_path = \"/data/pubfs/xiaoj/download/datasets/nanov9/SingleMuon/Run2018A-UL2018_MiniAODv2_NanoAODv9-v2/NANOAOD/1F6BA314-D63C-FD45-9DFF-A5E4C475F4A3.root\"\n",
    "file_path = \"/data/pubfs/xiaoj/download/datasets/nanov7/VBFHToMuMu_M-125_TuneCP5_PSweights_withDipoleRecoil_13TeV_powheg_pythia8/RunIIAutumn18NanoAODv7-Nano02Apr2020_102X_upgrade2018_realistic_v21-v1/NANOAODSIM/022CA59D-F8E3-9042-AB61-98024125D229.root\"\n",
    "# events = up.open(f\"{file_path}:Events\")\n",
    "events = NanoEventsFactory.from_root(file_path, schemaclass=NanoAODSchema).events()"
   ]
  },
  {
   "cell_type": "code",
   "execution_count": 28,
   "metadata": {},
   "outputs": [
    {
     "data": {
      "text/plain": [
       "'0.7.11'"
      ]
     },
     "execution_count": 28,
     "metadata": {},
     "output_type": "execute_result"
    }
   ],
   "source": [
    "# taus = events.Tau\n",
    "# boost_taus = events.boostedTau\n",
    "coffea.__version__"
   ]
  },
  {
   "cell_type": "code",
   "execution_count": 29,
   "metadata": {},
   "outputs": [],
   "source": [
    "# good pv\n",
    "sel_pv = events.PV.npvsGood > 0\n",
    "events = events.mask[sel_pv]"
   ]
  },
  {
   "cell_type": "code",
   "execution_count": 30,
   "metadata": {},
   "outputs": [],
   "source": [
    "# muons =events['Muon_pt']\n",
    "# muons"
   ]
  },
  {
   "cell_type": "code",
   "execution_count": 31,
   "metadata": {},
   "outputs": [],
   "source": [
    "# muons\n",
    "muons = events.Muon\n",
    "sel_mu_1 = (muons.mediumId) & (muons.pt > 15)  & (abs(muons.eta) < 2.4)\n",
    "sel_mu_2 = (abs(muons.dxy) < 0.2) & (abs(muons.dz) < 0.5)\n",
    "sel_mu_3 = (muons.pfIsoId >= 2) # loose relPFIso\n",
    "\n",
    "good_muon_mask = (sel_mu_1) & (sel_mu_2) & (sel_mu_3) \n",
    "# Rochester correction\n",
    "\n",
    "# Dress the muons by FSR Photons\n",
    "sel_good_muon = (ak.sum(good_muon_mask,axis=1) > 1)\n",
    "muons = muons.mask[sel_good_muon]\n",
    "good_muons = muons[good_muon_mask]\n",
    "events = events.mask[sel_good_muon]\n",
    "\n"
   ]
  },
  {
   "cell_type": "code",
   "execution_count": 32,
   "metadata": {},
   "outputs": [],
   "source": [
    "# https://gitlab.cern.ch/akhukhun/roccor\n",
    "# https://github.com/CoffeaTeam/coffea/blob/master/coffea/lookup_tools/rochester_lookup.py\n",
    "# https://github.com/TopEFT/topcoffea/blob/master/topcoffea/modules/corrections.py#L359\n",
    "def apply_rochester_correction(mu, is_mc=True, year='2018'):\n",
    "    if year=='2016': rochester_data = lookup_tools.txt_converters.convert_rochester_file(\"data/MuonScale/RoccoR2016.txt\", loaduncs=True)\n",
    "    elif year=='2017': rochester_data = lookup_tools.txt_converters.convert_rochester_file(\"data/MuonScale/RoccoR2017.txt\", loaduncs=True)\n",
    "    elif year=='2018': rochester_data = lookup_tools.txt_converters.convert_rochester_file(\"/data/pubfs/xiaoj/test/roc/RoccoR/RoccoR2018.txt\", loaduncs=True)\n",
    "    rochester = lookup_tools.rochester_lookup.rochester_lookup(rochester_data)\n",
    "    if is_mc:\n",
    "        hasgen = ~np.isnan(ak.fill_none(mu.matched_gen.pt, np.nan))\n",
    "        mc_rand = np.random.rand(*ak.to_numpy(ak.flatten(mu.pt)).shape)\n",
    "        mc_rand = ak.unflatten(mc_rand, ak.num(mu.pt, axis=1))\n",
    "        corrections = np.array(ak.flatten(ak.ones_like(mu.pt)))\n",
    "        errors = np.array(ak.flatten(ak.ones_like(mu.pt)))\n",
    "        \n",
    "        mc_kspread = rochester.kSpreadMC(mu.charge[hasgen],mu.pt[hasgen],mu.eta[hasgen],mu.phi[hasgen],mu.matched_gen.pt[hasgen])\n",
    "        mc_ksmear = rochester.kSmearMC(mu.charge[~hasgen],mu.pt[~hasgen],mu.eta[~hasgen],mu.phi[~hasgen],mu.nTrackerLayers[~hasgen],mc_rand[~hasgen])\n",
    "        errspread = rochester.kSpreadMCerror(mu.charge[hasgen],mu.pt[hasgen],mu.eta[hasgen],mu.phi[hasgen],mu.matched_gen.pt[hasgen])\n",
    "        errsmear = rochester.kSmearMCerror(mu.charge[~hasgen],mu.pt[~hasgen],mu.eta[~hasgen],mu.phi[~hasgen],mu.nTrackerLayers[~hasgen],mc_rand[~hasgen])\n",
    "        hasgen_flat = np.array(ak.flatten(hasgen))\n",
    "        corrections[hasgen_flat] = np.array(ak.flatten(mc_kspread))\n",
    "        corrections[~hasgen_flat] = np.array(ak.flatten(mc_ksmear))\n",
    "        errors[hasgen_flat] = np.array(ak.flatten(errspread))\n",
    "        errors[~hasgen_flat] = np.array(ak.flatten(errsmear))\n",
    "        corrections = ak.unflatten(corrections, ak.num(mu.pt, axis=1))\n",
    "        errors = ak.unflatten(errors, ak.num(mu.pt, axis=1))\n",
    "    else:\n",
    "        corrections = rochester.kScaleDT(mu.charge, mu.pt, mu.eta, mu.phi)\n",
    "        errors = rochester.kScaleDTerror(mu.charge, mu.pt, mu.eta, mu.phi)\n",
    "    \n",
    "    pt_nom = mu.pt * corrections\n",
    "    pt_err = mu.pt * errors\n",
    "    # tmp = np.array(ak.flatten(pt_nom + pt_err))\n",
    "    # tmp[tmp < 0] = 0\n",
    "    # pt_up = ak.unflatten(tmp, ak.num(pt_nom, axis=1))\n",
    "    # tmp = np.array(ak.flatten(pt_nom - pt_err))\n",
    "    # tmp[tmp < 0] = 0\n",
    "    # pt_down = ak.unflatten(tmp, ak.num(pt_nom, axis=1))\n",
    "    return pt_nom, pt_nom + pt_err, pt_nom - pt_err"
   ]
  },
  {
   "cell_type": "code",
   "execution_count": 33,
   "metadata": {},
   "outputs": [],
   "source": [
    "good_muons['newpt'] , good_muons['newpt_up'] , good_muons['newpt_down'] = apply_rochester_correction(good_muons)"
   ]
  },
  {
   "cell_type": "code",
   "execution_count": 34,
   "metadata": {},
   "outputs": [],
   "source": [
    "# final_mask = ak.fill_none(events.run!=None, False)\n",
    "# good_muons=good_muons[final_mask]\n",
    "# events = events[final_mask]\n"
   ]
  },
  {
   "cell_type": "code",
   "execution_count": 35,
   "metadata": {},
   "outputs": [],
   "source": [
    "# with up.recreate(\"new_test.root\", compression=None) as fout:\n",
    "#     fout['Events'] = {\n",
    "#         'Muon': good_muons,\n",
    "#     }\n",
    "\n",
    "# hah = up.lazy(\"new_test.root:Events\")\n",
    "# events = NanoEventsFactory.from_root(\"new_test.root\", schemaclass=BaseSchema).events()"
   ]
  },
  {
   "cell_type": "code",
   "execution_count": 36,
   "metadata": {},
   "outputs": [],
   "source": [
    "eles = events.Electron\n",
    "# electrons\n",
    "good_ele_mask = (eles.pt > 20) & (abs(eles.eta + eles.deltaEtaSC) < 2.5) & (eles.mvaFall17V2Iso_WP90)\n",
    "\n",
    "sel_no_ele = (ak.sum(good_ele_mask,axis=1) < 1)\n",
    "\n",
    "events = events.mask[sel_no_ele]"
   ]
  },
  {
   "cell_type": "code",
   "execution_count": 37,
   "metadata": {},
   "outputs": [],
   "source": [
    "def is_clean(obj_A, obj_B, drmin=0.4):\n",
    "   ## Method 1\n",
    "   # pair_obj = ak.cartesian([obj_A, obj_B],nested=True)\n",
    "   # obj1, obj2 = ak.unzip(pair_obj)\n",
    "   # dr_jm = obj1.delta_r(obj2)\n",
    "   # min_dr_jm = ak.min(dr_jm,axis=2)\n",
    "   # mask = min_dr_jm > drmin\n",
    "   \n",
    "   ## Method 2\n",
    "   objB_near, objB_dr = obj_A.nearest(obj_B, return_metric=True)\n",
    "   mask = ak.fill_none(objB_dr > drmin, True) # I guess to use True is because if there are no objB, all the objA are clean\n",
    "   return (mask)\n"
   ]
  },
  {
   "cell_type": "code",
   "execution_count": 38,
   "metadata": {},
   "outputs": [],
   "source": [
    "# jets\n",
    "jets = events.Jet\n",
    "# jet cleaned w.r.t. muons\n",
    "clean_jet_mask = is_clean(jets, good_muons, 0.4)\n",
    "# clean jets\n",
    "sel_clean_jet = (ak.sum(clean_jet_mask,axis=1) > 0)\n",
    "jets = jets.mask[sel_clean_jet]\n",
    "clean_jets = jets[clean_jet_mask]\n",
    "events = events.mask[sel_clean_jet]\n",
    "# sel_cleanj_1 = (clean_jets.pt > 25) & (abs(clean_jets.eta) < 4.7) & (clean_jets.isTight)\n",
    "\n",
    "# bjets \n",
    "# sel_bjet = (sel_jet) & "
   ]
  },
  {
   "cell_type": "code",
   "execution_count": 13,
   "metadata": {},
   "outputs": [
    {
     "data": {
      "text/plain": [
       "[[28.859375],\n",
       " [72.4375, 38.03125, 34.90625, 21.859375, 18.21875, 16.703125],\n",
       " None]"
      ]
     },
     "execution_count": 13,
     "metadata": {},
     "output_type": "execute_result"
    }
   ],
   "source": [
    "clean_jets[:3].pt.to_list()"
   ]
  },
  {
   "cell_type": "code",
   "execution_count": 44,
   "metadata": {},
   "outputs": [],
   "source": [
    "total_sel = ak.fill_none(events.run!=None, False)\n",
    "events = events[total_sel]\n",
    "good_muons = good_muons[total_sel]\n",
    "clean_jets = clean_jets[total_sel]\n",
    "good_jets = good_jets[total_sel]"
   ]
  },
  {
   "cell_type": "code",
   "execution_count": 46,
   "metadata": {},
   "outputs": [],
   "source": []
  },
  {
   "cell_type": "code",
   "execution_count": 14,
   "metadata": {},
   "outputs": [],
   "source": [
    "trigger = {}\n",
    "for idx, ihlt in enumerate(['IsoMu24']):\n",
    "    trigger[ihlt] = events.HLT[ihlt]\n",
    "jet_dict = {}\n",
    "for ibr in ['area', 'btagCSVV2', 'btagDeepB']:\n",
    "    # cross indexing should be romoved, e.g., muonIdxG\n",
    "    if (not 'Idx' in ibr) and (not ibr.endswith('G')):\n",
    "        jet_dict[ibr] = ak.Array(clean_jets[ibr].to_list())"
   ]
  },
  {
   "cell_type": "code",
   "execution_count": 15,
   "metadata": {},
   "outputs": [],
   "source": [
    "# with up.recreate(\"new_test.root\", compression=None) as fout:\n",
    "#     fout['Events'] = {\n",
    "#         'Jet': jet_dict,\n",
    "#         # 'basic': {\n",
    "#         #     'run':events.run,\n",
    "#         #     'luminosityBlock': events.luminosityBlock,\n",
    "#         #     'event': events.event,\n",
    "#         # },\n",
    "#         # 'Muon': good_muons,\n",
    "#         # 'MET': events.MET,\n",
    "#         # 'PuppiMET': events.PuppiMET,\n",
    "#         # 'HLT': trigger,\n",
    "#     }"
   ]
  },
  {
   "cell_type": "code",
   "execution_count": 39,
   "metadata": {},
   "outputs": [],
   "source": [
    "import os\n",
    "def abs_path(path_in_repo):\n",
    "    return os.path.join(\"/data/pubfs/xiaoj/pkutree/data/\", path_in_repo)\n"
   ]
  },
  {
   "cell_type": "code",
   "execution_count": 40,
   "metadata": {},
   "outputs": [],
   "source": [
    "### JES JER\n",
    "def apply_jet_corrections(year, corr_type=\"jet\"):\n",
    "    extract = extractor()\n",
    "    extract.add_weight_sets(\n",
    "        [\n",
    "            f\"* * {abs_path('jes/2018/Autumn18_V19_MC_L1FastJet_AK4PFchs.jec.txt')}\",\n",
    "            f\"* * {abs_path('jes/2018/Autumn18_V19_MC_L2Relative_AK4PFchs.jec.txt')}\",\n",
    "            f\"* * {abs_path('jes/2018/Autumn18_V19_MC_L3Absolute_AK4PFchs.jec.txt')}\",\n",
    "            f\"* * {abs_path('jes/2018/Autumn18_V19_MC_L2L3Residual_AK4PFchs.jec.txt')}\",\n",
    "            f\"* * {abs_path('jes/2018/Regrouped_Autumn18_V19_MC_UncertaintySources_AK4PFchs.junc.txt')}\",\n",
    "            f\"* * {abs_path('jer/2018/Autumn18_V7b_MC_PtResolution_AK4PFchs.jr.txt')}\",\n",
    "            f\"* * {abs_path('jer/2018/Autumn18_V7b_MC_SF_AK4PFchs.jersf.txt')}\",\n",
    "        ]\n",
    "    )\n",
    "\n",
    "    extract.finalize()\n",
    "    evaluator = extract.make_evaluator()\n",
    "\n",
    "    jec_names = dir(evaluator)\n",
    "    print(jec_names)\n",
    "    jec_inputs = {name: evaluator[name] for name in jec_names}\n",
    "    jec_stack = JECStack(jec_inputs)\n",
    "    name_map = jec_stack.blank_name_map\n",
    "    name_map['JetPt'] = 'pt'\n",
    "    name_map['JetMass'] = 'mass'\n",
    "    name_map['JetEta'] = 'eta'\n",
    "    name_map['JetPhi'] = 'phi'\n",
    "    name_map['JetA'] = 'area'\n",
    "    name_map['ptGenJet'] = 'pt_gen'\n",
    "    name_map['ptRaw'] = 'pt_raw'\n",
    "    name_map['massRaw'] = 'mass_raw'\n",
    "    name_map['Rho'] = 'rho'\n",
    "    name_map['METpt'] = 'pt'\n",
    "    name_map['METphi'] = 'phi'\n",
    "    name_map['UnClusteredEnergyDeltaX'] = 'MetUnclustEnUpDeltaX'\n",
    "    name_map['UnClusteredEnergyDeltaY'] = 'MetUnclustEnUpDeltaY'\n",
    "    if corr_type=='met': return CorrectedMETFactory(name_map)\n",
    "    return CorrectedJetsFactory(name_map, jec_stack)\n"
   ]
  },
  {
   "cell_type": "code",
   "execution_count": 41,
   "metadata": {},
   "outputs": [],
   "source": [
    "good_jets = clean_jets"
   ]
  },
  {
   "cell_type": "code",
   "execution_count": 42,
   "metadata": {},
   "outputs": [
    {
     "name": "stderr",
     "output_type": "stream",
     "text": [
      "/home/pku/xiaoj/miniconda3/envs/xcu/lib/python3.9/site-packages/coffea/lookup_tools/txt_converters.py:288: UserWarning: JERSF file is in the new format with split-out systematic, only parsing totals!!!\n",
      "  warnings.warn(\n"
     ]
    },
    {
     "name": "stdout",
     "output_type": "stream",
     "text": [
      "['Autumn18_V19_MC_L1FastJet_AK4PFchs', 'Autumn18_V19_MC_L2L3Residual_AK4PFchs', 'Autumn18_V19_MC_L2Relative_AK4PFchs', 'Autumn18_V19_MC_L3Absolute_AK4PFchs', 'Autumn18_V7b_MC_PtResolution_AK4PFchs', 'Autumn18_V7b_MC_SF_AK4PFchs', 'Regrouped_Autumn18_V19_MC_UncertaintySources_AK4PFchs_Absolute', 'Regrouped_Autumn18_V19_MC_UncertaintySources_AK4PFchs_Absolute_2018', 'Regrouped_Autumn18_V19_MC_UncertaintySources_AK4PFchs_BBEC1', 'Regrouped_Autumn18_V19_MC_UncertaintySources_AK4PFchs_BBEC1_2018', 'Regrouped_Autumn18_V19_MC_UncertaintySources_AK4PFchs_EC2', 'Regrouped_Autumn18_V19_MC_UncertaintySources_AK4PFchs_EC2_2018', 'Regrouped_Autumn18_V19_MC_UncertaintySources_AK4PFchs_FlavorQCD', 'Regrouped_Autumn18_V19_MC_UncertaintySources_AK4PFchs_HF', 'Regrouped_Autumn18_V19_MC_UncertaintySources_AK4PFchs_HF_2018', 'Regrouped_Autumn18_V19_MC_UncertaintySources_AK4PFchs_RelativeBal', 'Regrouped_Autumn18_V19_MC_UncertaintySources_AK4PFchs_RelativeSample_2018', 'Regrouped_Autumn18_V19_MC_UncertaintySources_AK4PFchs_Total']\n"
     ]
    }
   ],
   "source": [
    "if not False:\n",
    "    good_jets[\"pt_raw\"] = (1 - good_jets.rawFactor)*good_jets.pt\n",
    "    good_jets[\"mass_raw\"] = (1 - good_jets.rawFactor)*good_jets.mass\n",
    "    good_jets[\"pt_gen\"] =ak.values_astype(ak.fill_none(good_jets.matched_gen.pt, 0), np.float32)\n",
    "    good_jets[\"rho\"] = ak.broadcast_arrays(events.fixedGridRhoFastjetAll, good_jets.pt)[0]\n",
    "    events_cache = events.caches[0]\n",
    "    corrected_jets = apply_jet_corrections('2018', corr_type='jets').build(good_jets, lazy_cache=events_cache)\n",
    "    jesr_unc = [i for i in corrected_jets.fields if i.startswith(\"JES\") or i.startswith(\"JER\")]\n",
    "    good_jets[\"pt\"] = corrected_jets.pt\n",
    "    good_jets[\"mass\"] = corrected_jets.mass\n",
    "    for ibr in jesr_unc:\n",
    "        good_jets[f\"pt_{ibr}_up\"] = corrected_jets[ibr].up.pt\n",
    "        good_jets[f\"pt_{ibr}_down\"] = corrected_jets[ibr].down.pt\n",
    "        good_jets[f\"mass_{ibr}_up\"] = corrected_jets[ibr].up.mass\n",
    "        good_jets[f\"mass_{ibr}_down\"] = corrected_jets[ibr].down.mass\n",
    "    # ordered by new pt: high -> low\n",
    "    index = ak.argsort(good_jets.pt, ascending=False)\n",
    "    good_jets = good_jets[index]\n"
   ]
  },
  {
   "cell_type": "code",
   "execution_count": 87,
   "metadata": {},
   "outputs": [
    {
     "data": {
      "text/plain": [
       "[[28.37080955505371],\n",
       " [72.52320098876953,\n",
       "  39.00069046020508,\n",
       "  36.415767669677734,\n",
       "  18.147533416748047,\n",
       "  18.720834732055664,\n",
       "  17.536344528198242],\n",
       " None,\n",
       " [136.62535095214844, 21.089109420776367],\n",
       " None]"
      ]
     },
     "execution_count": 87,
     "metadata": {},
     "output_type": "execute_result"
    }
   ],
   "source": [
    "cleanedJets.pt[:5].to_list()"
   ]
  },
  {
   "cell_type": "code",
   "execution_count": 86,
   "metadata": {},
   "outputs": [
    {
     "data": {
      "text/plain": [
       "[[28.37080955505371],\n",
       " [72.52320098876953,\n",
       "  39.00069046020508,\n",
       "  36.415767669677734,\n",
       "  18.720834732055664,\n",
       "  18.147533416748047,\n",
       "  17.536344528198242],\n",
       " None,\n",
       " [136.62535095214844, 21.089109420776367],\n",
       " None]"
      ]
     },
     "execution_count": 86,
     "metadata": {},
     "output_type": "execute_result"
    }
   ],
   "source": [
    "# sort according to p t: high -> low\n",
    "index=ak.argsort(cleanedJets.pt, ascending=False)\n",
    "leps=cleanedJets[index]\n",
    "leps.pt[:5].to_list()"
   ]
  },
  {
   "cell_type": "code",
   "execution_count": 37,
   "metadata": {},
   "outputs": [
    {
     "data": {
      "text/plain": [
       "[[2.2236328125],\n",
       " [-3.3955078125,\n",
       "  3.3330078125,\n",
       "  2.396484375,\n",
       "  -1.58544921875,\n",
       "  3.37646484375,\n",
       "  -1.072265625],\n",
       " None,\n",
       " [1.232421875, -4.3291015625],\n",
       " None]"
      ]
     },
     "execution_count": 37,
     "metadata": {},
     "output_type": "execute_result"
    }
   ],
   "source": [
    "cleanedJets.eta[:5].to_list()"
   ]
  },
  {
   "cell_type": "code",
   "execution_count": 38,
   "metadata": {},
   "outputs": [
    {
     "data": {
      "text/plain": [
       "[[2.2236328125],\n",
       " [-3.3955078125,\n",
       "  3.3330078125,\n",
       "  2.396484375,\n",
       "  -1.58544921875,\n",
       "  3.37646484375,\n",
       "  -1.072265625],\n",
       " None,\n",
       " [1.232421875, -4.3291015625],\n",
       " None]"
      ]
     },
     "execution_count": 38,
     "metadata": {},
     "output_type": "execute_result"
    }
   ],
   "source": [
    "good_jets.eta[:5].to_list()"
   ]
  },
  {
   "cell_type": "code",
   "execution_count": 43,
   "metadata": {},
   "outputs": [],
   "source": [
    "from copy import copy\n",
    "import cachetools\n",
    "lazy_cache = cachetools.Cache(np.inf)\n",
    "def corrected_polar_met(MET, obj_pt, obj_phi, obj_pt_orig, br_postfix=\"roccorr\",  deltas=None):\n",
    "    sj, cj = np.sin(obj_phi), np.cos(obj_phi)\n",
    "    x = MET.pt * np.cos(MET.phi) + ak.sum(\n",
    "        obj_pt * cj - obj_pt_orig * cj, axis=1\n",
    "    )\n",
    "    y = MET.pt * np.sin(MET.phi) + ak.sum(\n",
    "        obj_pt * sj - obj_pt_orig * sj, axis=1\n",
    "    )\n",
    "    if deltas:\n",
    "        positive, dx, dy = deltas\n",
    "        x = x + dx if positive else x - dx\n",
    "        y = y + dy if positive else y - dy\n",
    "    \n",
    "    new_pt, new_phi = np.hypot(x, y), np.arctan2(y, x)\n",
    "    print(new_pt.layout.form)\n",
    "    # create new MET\n",
    "    variant = copy(MET)\n",
    "    length = len(MET)\n",
    "    pt_form = {\n",
    "        \"class\": \"IndexedOptionArray64\",\n",
    "        \"index\": \"i64\",\n",
    "        \"content\": {\n",
    "            \"class\": \"NumpyArray\",\n",
    "            \"itemsize\": 4,\n",
    "            \"format\": \"f\",\n",
    "            \"primitive\": \"float32\",\n",
    "            \"parameters\": {\n",
    "                \"__doc__\": f\"pt_{br_postfix}\"\n",
    "            }\n",
    "        }\n",
    "    }\n",
    "\n",
    "    phi_form = {\n",
    "        \"class\": \"IndexedOptionArray64\",\n",
    "        \"index\": \"i64\",\n",
    "        \"content\": {\n",
    "            \"class\": \"NumpyArray\",\n",
    "            \"itemsize\": 4,\n",
    "            \"format\": \"f\",\n",
    "            \"primitive\": \"float32\",\n",
    "            \"parameters\": {\n",
    "                \"__doc__\": f\"phi_{br_postfix}\"\n",
    "            }\n",
    "        }\n",
    "    }\n",
    "\n",
    "    variant[f\"pt_{br_postfix}\"] = ak.virtual(\n",
    "        new_pt.to_list(),\n",
    "        length=length,\n",
    "        form=pt_form,\n",
    "        cache=lazy_cache,\n",
    "    )\n",
    "    variant[f\"phi_{br_postfix}\"] = ak.virtual(\n",
    "        new_phi.to_list(),\n",
    "        length=length,\n",
    "        form=phi_form,\n",
    "        cache=lazy_cache,\n",
    "    )\n",
    "\n",
    "    return variant\n"
   ]
  },
  {
   "cell_type": "code",
   "execution_count": 47,
   "metadata": {},
   "outputs": [],
   "source": [
    "MET = events.MET"
   ]
  },
  {
   "cell_type": "code",
   "execution_count": 48,
   "metadata": {},
   "outputs": [],
   "source": [
    "def corrected_polar_met(met_pt, met_phi, obj_pt, obj_phi, obj_pt_orig, deltas=None):\n",
    "    sj, cj = np.sin(obj_phi), np.cos(obj_phi)\n",
    "    x = met_pt * np.cos(met_phi) + ak.sum(\n",
    "        obj_pt * cj - obj_pt_orig * cj, axis=1\n",
    "    )\n",
    "    y = met_pt * np.sin(met_phi) + ak.sum(\n",
    "        obj_pt * sj - obj_pt_orig * sj, axis=1\n",
    "    )\n",
    "    if deltas:\n",
    "        positive, dx, dy = deltas\n",
    "        x = x + dx if positive else x - dx\n",
    "        y = y + dy if positive else y - dy\n",
    "    \n",
    "    # return ak.zip({\"pt\": np.hypot(x, y), \"phi\": np.arctan2(y, x)})\n",
    "    return np.hypot(x, y), np.arctan2(y, x)\n"
   ]
  },
  {
   "cell_type": "code",
   "execution_count": null,
   "metadata": {},
   "outputs": [],
   "source": []
  },
  {
   "cell_type": "code",
   "execution_count": 49,
   "metadata": {},
   "outputs": [],
   "source": [
    "MET['pt_roccorr'], MET['phi_roccorr'] = corrected_polar_met(MET.pt,MET.phi,good_muons.newpt,good_muons.phi,good_muons.phi)\n",
    "\n",
    "# the jer is applied after considering roccorr on Muon\n",
    "MET['pt'], MET['phi'] = corrected_polar_met(MET['pt_roccorr'],MET['phi_roccorr'],good_jets[\"pt\"],good_jets[\"phi\"],good_jets[\"pt_raw\"])\n",
    "MET['pt_UnclusteredEnergy_up'], MET['phi_UnclusteredEnergy_up'] = corrected_polar_met(\n",
    "    MET['pt_roccorr'],\n",
    "    MET['phi_roccorr'],\n",
    "    good_jets[\"pt\"],\n",
    "    good_jets[\"phi\"],\n",
    "    good_jets[\"pt_raw\"],\n",
    "    (\n",
    "        True,\n",
    "        MET.MetUnclustEnUpDeltaX,\n",
    "        MET.MetUnclustEnUpDeltaY,\n",
    "    ),\n",
    ")\n",
    "MET['pt_UnclusteredEnergy_down'], MET['phi_UnclusteredEnergy_down'] = corrected_polar_met(\n",
    "    MET['pt_roccorr'],\n",
    "    MET['phi_roccorr'],\n",
    "    good_jets[\"pt\"],\n",
    "    good_jets[\"phi\"],\n",
    "    good_jets[\"pt_raw\"],\n",
    "    (\n",
    "        False,\n",
    "        MET.MetUnclustEnUpDeltaX,\n",
    "        MET.MetUnclustEnUpDeltaY,\n",
    "    ),\n",
    ")\n",
    "for ibr in jesr_unc:\n",
    "    MET[f\"pt_{ibr}_up\"], MET[f\"phi_{ibr}_up\"] = corrected_polar_met(MET['pt'],MET['phi'],good_jets[f\"pt_{ibr}_up\"],good_jets[\"phi\"],good_jets[\"pt_raw\"])\n",
    "    MET[f\"pt_{ibr}_down\"], MET[f\"phi_{ibr}_down\"] = corrected_polar_met(MET['pt'],MET['phi'],good_jets[f\"pt_{ibr}_down\"],good_jets[\"phi\"],good_jets[\"pt_raw\"])\n"
   ]
  },
  {
   "cell_type": "code",
   "execution_count": 52,
   "metadata": {},
   "outputs": [],
   "source": [
    "with up.recreate(\"new_test.root\", compression=None) as fout:\n",
    "    fout['Events'] = {\n",
    "        'MET': MET,\n",
    "    }"
   ]
  },
  {
   "cell_type": "code",
   "execution_count": 59,
   "metadata": {},
   "outputs": [
    {
     "name": "stdout",
     "output_type": "stream",
     "text": [
      "29531\n"
     ]
    },
    {
     "data": {
      "text/plain": [
       "{\n",
       "    \"class\": \"IndexedOptionArray64\",\n",
       "    \"index\": \"i64\",\n",
       "    \"content\": \"float32\"\n",
       "}"
      ]
     },
     "execution_count": 59,
     "metadata": {},
     "output_type": "execute_result"
    }
   ],
   "source": [
    "print(len(MET.pt))\n",
    "MET.pt.layout.form"
   ]
  },
  {
   "cell_type": "code",
   "execution_count": 60,
   "metadata": {},
   "outputs": [
    {
     "data": {
      "text/plain": [
       "array([ 37,  94, 110, ..., 116, 149, 251], dtype=int32)"
      ]
     },
     "execution_count": 60,
     "metadata": {},
     "output_type": "execute_result"
    }
   ],
   "source": [
    "np.array(ak.to_list(MET.pt),dtype=np.int32)"
   ]
  },
  {
   "cell_type": "code",
   "execution_count": 63,
   "metadata": {},
   "outputs": [
    {
     "data": {
      "text/plain": [
       "array([ 37.932514,  94.55633 , 110.74531 , ..., 116.96571 , 149.32442 ,\n",
       "       251.36964 ], dtype=float32)"
      ]
     },
     "execution_count": 63,
     "metadata": {},
     "output_type": "execute_result"
    }
   ],
   "source": [
    "MET.pt.to_numpy().data"
   ]
  },
  {
   "cell_type": "code",
   "execution_count": 40,
   "metadata": {},
   "outputs": [
    {
     "data": {
      "text/plain": [
       "[[64.12452697753906, 23.723495483398438],\n",
       " [77.15625, 30.405256271362305],\n",
       " None,\n",
       " [141.04873657226562, 23.364160537719727],\n",
       " None]"
      ]
     },
     "execution_count": 40,
     "metadata": {},
     "output_type": "execute_result"
    }
   ],
   "source": [
    "good_muons.pt[0:5].to_list()"
   ]
  },
  {
   "cell_type": "code",
   "execution_count": 41,
   "metadata": {},
   "outputs": [
    {
     "data": {
      "text/plain": [
       "[[64.13423919677734, 23.719892501831055],\n",
       " [77.39348602294922, 30.450531005859375],\n",
       " None,\n",
       " [141.38211059570312, 23.37615394592285],\n",
       " None]"
      ]
     },
     "execution_count": 41,
     "metadata": {},
     "output_type": "execute_result"
    }
   ],
   "source": [
    "good_muons.newpt[0:5].to_list()"
   ]
  },
  {
   "cell_type": "code",
   "execution_count": 23,
   "metadata": {},
   "outputs": [
    {
     "data": {
      "text/plain": [
       "{\n",
       "    \"class\": \"IndexedOptionArray64\",\n",
       "    \"index\": \"i64\",\n",
       "    \"content\": {\n",
       "        \"class\": \"VirtualArray\",\n",
       "        \"form\": {\n",
       "            \"class\": \"IndexedArray64\",\n",
       "            \"index\": \"i64\",\n",
       "            \"content\": {\n",
       "                \"class\": \"VirtualArray\",\n",
       "                \"form\": {\n",
       "                    \"class\": \"NumpyArray\",\n",
       "                    \"itemsize\": 4,\n",
       "                    \"format\": \"f\",\n",
       "                    \"primitive\": \"float32\",\n",
       "                    \"parameters\": {\n",
       "                        \"__doc__\": \"phi\"\n",
       "                    },\n",
       "                    \"form_key\": \"MET_phi%2C%21load\"\n",
       "                },\n",
       "                \"has_length\": true\n",
       "            }\n",
       "        },\n",
       "        \"has_length\": true,\n",
       "        \"parameters\": {\n",
       "            \"__doc__\": \"phi\"\n",
       "        }\n",
       "    }\n",
       "}"
      ]
     },
     "execution_count": 23,
     "metadata": {},
     "output_type": "execute_result"
    }
   ],
   "source": [
    "MET.phi.layout.form"
   ]
  },
  {
   "cell_type": "code",
   "execution_count": 45,
   "metadata": {},
   "outputs": [
    {
     "ename": "AttributeError",
     "evalue": "no field named 'pt_orig'\n\n(https://github.com/scikit-hep/awkward-1.0/blob/1.7.0/src/awkward/highlevel.py#L1131)",
     "output_type": "error",
     "traceback": [
      "\u001b[0;31m---------------------------------------------------------------------------\u001b[0m",
      "\u001b[0;31mAttributeError\u001b[0m                            Traceback (most recent call last)",
      "\u001b[0;32m/tmp/ipykernel_242866/4120367154.py\u001b[0m in \u001b[0;36m<module>\u001b[0;34m\u001b[0m\n\u001b[0;32m----> 1\u001b[0;31m \u001b[0mMET\u001b[0m\u001b[0;34m.\u001b[0m\u001b[0mpt_orig\u001b[0m\u001b[0;34m.\u001b[0m\u001b[0mlayout\u001b[0m\u001b[0;34m.\u001b[0m\u001b[0mform\u001b[0m\u001b[0;34m\u001b[0m\u001b[0;34m\u001b[0m\u001b[0m\n\u001b[0m",
      "\u001b[0;32m~/miniconda3/envs/xcu/lib/python3.9/site-packages/awkward/highlevel.py\u001b[0m in \u001b[0;36m__getattr__\u001b[0;34m(self, where)\u001b[0m\n\u001b[1;32m   1127\u001b[0m                     )\n\u001b[1;32m   1128\u001b[0m             \u001b[0;32melse\u001b[0m\u001b[0;34m:\u001b[0m\u001b[0;34m\u001b[0m\u001b[0;34m\u001b[0m\u001b[0m\n\u001b[0;32m-> 1129\u001b[0;31m                 raise AttributeError(\n\u001b[0m\u001b[1;32m   1130\u001b[0m                     \u001b[0;34m\"no field named {0}\"\u001b[0m\u001b[0;34m.\u001b[0m\u001b[0mformat\u001b[0m\u001b[0;34m(\u001b[0m\u001b[0mrepr\u001b[0m\u001b[0;34m(\u001b[0m\u001b[0mwhere\u001b[0m\u001b[0;34m)\u001b[0m\u001b[0;34m)\u001b[0m\u001b[0;34m\u001b[0m\u001b[0;34m\u001b[0m\u001b[0m\n\u001b[1;32m   1131\u001b[0m                     \u001b[0;34m+\u001b[0m \u001b[0mak\u001b[0m\u001b[0;34m.\u001b[0m\u001b[0m_util\u001b[0m\u001b[0;34m.\u001b[0m\u001b[0mexception_suffix\u001b[0m\u001b[0;34m(\u001b[0m\u001b[0m__file__\u001b[0m\u001b[0;34m)\u001b[0m\u001b[0;34m\u001b[0m\u001b[0;34m\u001b[0m\u001b[0m\n",
      "\u001b[0;31mAttributeError\u001b[0m: no field named 'pt_orig'\n\n(https://github.com/scikit-hep/awkward-1.0/blob/1.7.0/src/awkward/highlevel.py#L1131)"
     ]
    }
   ],
   "source": [
    "MET.pt_orig.layout.form"
   ]
  },
  {
   "cell_type": "code",
   "execution_count": 25,
   "metadata": {},
   "outputs": [
    {
     "data": {
      "text/plain": [
       "{\n",
       "    \"class\": \"IndexedOptionArray64\",\n",
       "    \"index\": \"i64\",\n",
       "    \"content\": {\n",
       "        \"class\": \"ListOffsetArray64\",\n",
       "        \"offsets\": \"i64\",\n",
       "        \"content\": \"float32\"\n",
       "    }\n",
       "}"
      ]
     },
     "execution_count": 25,
     "metadata": {},
     "output_type": "execute_result"
    }
   ],
   "source": [
    "good_muons.newpt.layout.form"
   ]
  },
  {
   "cell_type": "code",
   "execution_count": 26,
   "metadata": {},
   "outputs": [
    {
     "data": {
      "text/plain": [
       "{\n",
       "    \"class\": \"IndexedOptionArray64\",\n",
       "    \"index\": \"i64\",\n",
       "    \"content\": {\n",
       "        \"class\": \"ListOffsetArray64\",\n",
       "        \"offsets\": \"i64\",\n",
       "        \"content\": {\n",
       "            \"class\": \"NumpyArray\",\n",
       "            \"itemsize\": 4,\n",
       "            \"format\": \"f\",\n",
       "            \"primitive\": \"float32\",\n",
       "            \"parameters\": {\n",
       "                \"__doc__\": \"pt\"\n",
       "            }\n",
       "        }\n",
       "    }\n",
       "}"
      ]
     },
     "execution_count": 26,
     "metadata": {},
     "output_type": "execute_result"
    }
   ],
   "source": [
    "good_muons.pt.layout.form"
   ]
  },
  {
   "cell_type": "code",
   "execution_count": 27,
   "metadata": {},
   "outputs": [
    {
     "data": {
      "text/plain": [
       "{\n",
       "    \"class\": \"IndexedOptionArray64\",\n",
       "    \"index\": \"i64\",\n",
       "    \"content\": {\n",
       "        \"class\": \"VirtualArray\",\n",
       "        \"form\": {\n",
       "            \"class\": \"IndexedArray64\",\n",
       "            \"index\": \"i64\",\n",
       "            \"content\": {\n",
       "                \"class\": \"VirtualArray\",\n",
       "                \"form\": {\n",
       "                    \"class\": \"NumpyArray\",\n",
       "                    \"itemsize\": 4,\n",
       "                    \"format\": \"f\",\n",
       "                    \"primitive\": \"float32\",\n",
       "                    \"parameters\": {\n",
       "                        \"__doc__\": \"phi\"\n",
       "                    },\n",
       "                    \"form_key\": \"MET_phi%2C%21load\"\n",
       "                },\n",
       "                \"has_length\": true\n",
       "            }\n",
       "        },\n",
       "        \"has_length\": true,\n",
       "        \"parameters\": {\n",
       "            \"__doc__\": \"phi\"\n",
       "        }\n",
       "    }\n",
       "}"
      ]
     },
     "execution_count": 27,
     "metadata": {},
     "output_type": "execute_result"
    }
   ],
   "source": [
    "MET.phi.layout.form"
   ]
  },
  {
   "cell_type": "code",
   "execution_count": 23,
   "metadata": {},
   "outputs": [],
   "source": [
    "junc_names = [i for i in dir(evaluator) if \"Regrouped_\" in i]\n",
    "junc = JetCorrectionUncertainty(**{name: evaluator[name] for name in junc_names})"
   ]
  },
  {
   "cell_type": "code",
   "execution_count": 26,
   "metadata": {},
   "outputs": [],
   "source": [
    "juncs = junc.getUncertainty(JetEta=good_jets.eta, JetPt=good_jets.pt)"
   ]
  },
  {
   "cell_type": "code",
   "execution_count": 32,
   "metadata": {},
   "outputs": [
    {
     "data": {
      "text/plain": [
       "[('Absolute',\n",
       "  <Array [[[1.01, 0.99], ... [1.05, 0.949]]] type='824 * option[var * 2 * float32]'>),\n",
       " ('Absolute_2018',\n",
       "  <Array [[[1.01, 0.992], ... [1.01, 0.994]]] type='824 * option[var * 2 * float32]'>),\n",
       " ('BBEC1',\n",
       "  <Array [[[1, 1], [1, 1, ... 0.984], [1, 1]]] type='824 * option[var * 2 * float32]'>),\n",
       " ('BBEC1_2018',\n",
       "  <Array [[[1, 0.998], [1, 1, ... 1, 1], [1, 1]]] type='824 * option[var * 2 * flo...'>),\n",
       " ('EC2',\n",
       "  <Array [[[1, 1], [1, 1]], ... [1, 1], [1, 1]]] type='824 * option[var * 2 * floa...'>),\n",
       " ('EC2_2018',\n",
       "  <Array [[[1.02, 0.981], [1, 1, ... 1], [1, 1]]] type='824 * option[var * 2 * flo...'>),\n",
       " ('FlavorQCD',\n",
       "  <Array [[[1.01, 0.991], ... [1.02, 0.984]]] type='824 * option[var * 2 * float32]'>),\n",
       " ('HF',\n",
       "  <Array [[[1, 1], [1.01, ... 1], [1.01, 0.987]]] type='824 * option[var * 2 * flo...'>),\n",
       " ('HF_2018',\n",
       "  <Array [[[1, 1], [1.01, ... 1], [1, 0.997]]] type='824 * option[var * 2 * float32]'>),\n",
       " ('RelativeBal',\n",
       "  <Array [[[1, 0.995], ... [1.04, 0.965]]] type='824 * option[var * 2 * float32]'>),\n",
       " ('RelativeSample_2018',\n",
       "  <Array [[[1.02, 0.985], ... [1.06, 0.944]]] type='824 * option[var * 2 * float32]'>),\n",
       " ('Total',\n",
       "  <Array [[[1.03, 0.971], ... [1.09, 0.914]]] type='824 * option[var * 2 * float32]'>)]"
      ]
     },
     "execution_count": 32,
     "metadata": {},
     "output_type": "execute_result"
    }
   ],
   "source": [
    "juncs"
   ]
  },
  {
   "cell_type": "code",
   "execution_count": 72,
   "metadata": {},
   "outputs": [
    {
     "name": "stdout",
     "output_type": "stream",
     "text": [
      "['Autumn18_V19_MC_L1FastJet_AK4PFchs', 'Autumn18_V19_MC_L2L3Residual_AK4PFchs', 'Autumn18_V19_MC_L2Relative_AK4PFchs', 'Autumn18_V19_MC_L3Absolute_AK4PFchs', 'Regrouped_Autumn18_V19_MC_UncertaintySources_AK4PFchs_Absolute', 'Regrouped_Autumn18_V19_MC_UncertaintySources_AK4PFchs_Absolute_2018', 'Regrouped_Autumn18_V19_MC_UncertaintySources_AK4PFchs_BBEC1', 'Regrouped_Autumn18_V19_MC_UncertaintySources_AK4PFchs_BBEC1_2018', 'Regrouped_Autumn18_V19_MC_UncertaintySources_AK4PFchs_EC2', 'Regrouped_Autumn18_V19_MC_UncertaintySources_AK4PFchs_EC2_2018', 'Regrouped_Autumn18_V19_MC_UncertaintySources_AK4PFchs_FlavorQCD', 'Regrouped_Autumn18_V19_MC_UncertaintySources_AK4PFchs_HF', 'Regrouped_Autumn18_V19_MC_UncertaintySources_AK4PFchs_HF_2018', 'Regrouped_Autumn18_V19_MC_UncertaintySources_AK4PFchs_RelativeBal', 'Regrouped_Autumn18_V19_MC_UncertaintySources_AK4PFchs_RelativeSample_2018', 'Regrouped_Autumn18_V19_MC_UncertaintySources_AK4PFchs_Total', 'Summer19UL18_JRV2_MC_PtResolution_AK4PFchs', 'Summer19UL18_JRV2_MC_SF_AK4PFchs']\n"
     ]
    }
   ],
   "source": [
    "is_data = False\n",
    "met = events.MET\n",
    "\n",
    "if not is_data:\n",
    "    clean_jets[\"pt_raw\"] = (1 - clean_jets.rawFactor)*clean_jets.pt\n",
    "    clean_jets[\"mass_raw\"] = (1 - clean_jets.rawFactor)*clean_jets.mass\n",
    "    clean_jets[\"pt_gen\"] =ak.values_astype(ak.fill_none(clean_jets.matched_gen.pt, 0), np.float32)\n",
    "    clean_jets[\"rho\"] = ak.broadcast_arrays(events.fixedGridRhoFastjetAll, clean_jets.pt)[0]\n",
    "    events_cache = events.caches[0]\n",
    "    new_clean_jets = apply_jet_corrections(2018, corr_type='jets').build(clean_jets, lazy_cache=events_cache)\n",
    "    # new_met = apply_jet_corrections(2018, corr_type='met').build(met, new_clean_jets, lazy_cache=events_cache)\n",
    "    # # SYSTEMATICS\n",
    "    # cleanedJets=ApplyJetSystematics(cleanedJets,syst_var)\n",
    "    # met=ApplyJetCorrections(year, corr_type='met').build(met_raw, cleanedJets, lazy_cache=events_cache)\n",
    "    \n",
    "    # clean_jets['JER_up'] = new_clean_jets.JER.up"
   ]
  },
  {
   "cell_type": "code",
   "execution_count": 63,
   "metadata": {},
   "outputs": [
    {
     "data": {
      "text/plain": [
       "[None, None, [70.88551330566406, 33.272789001464844]]"
      ]
     },
     "execution_count": 63,
     "metadata": {},
     "output_type": "execute_result"
    }
   ],
   "source": [
    "events.HLT.IsoMu24"
   ]
  },
  {
   "cell_type": "code",
   "execution_count": 64,
   "metadata": {},
   "outputs": [
    {
     "data": {
      "text/plain": [
       "[None, None, [69.25, 32.9375]]"
      ]
     },
     "execution_count": 64,
     "metadata": {},
     "output_type": "execute_result"
    }
   ],
   "source": [
    "clean_jets[134:137].pt.to_list()"
   ]
  },
  {
   "cell_type": "code",
   "execution_count": 65,
   "metadata": {},
   "outputs": [
    {
     "data": {
      "text/plain": [
       "[None, None, None, None, None, None, [69.25, 32.9375], None, None, None]"
      ]
     },
     "execution_count": 65,
     "metadata": {},
     "output_type": "execute_result"
    }
   ],
   "source": [
    "clean_jets[130:140].pt.to_list()"
   ]
  },
  {
   "cell_type": "code",
   "execution_count": 68,
   "metadata": {},
   "outputs": [],
   "source": [
    "def get_btagsf(eta, pt, flavor, year='2018', sys='nominal'):\n",
    "  # Efficiencies and SFs for UL only available for 2016APV, 2017 and 2018\n",
    "  # light flavor SFs and unc. missed for 2016APV\n",
    "  if   (year == '2016' or year == '2016APV'): SFevaluatorBtag = BTagScaleFactor(\"data/btagSF/DeepFlav_2016.csv\",\"MEDIUM\") \n",
    "  elif year == '2017': SFevaluatorBtag = BTagScaleFactor(\"data/btagSF/UL/DeepJet_UL17.csv\",\"MEDIUM\")\n",
    "  elif year == '2018': SFevaluatorBtag = BTagScaleFactor(\"/data/pubfs/xiaoj/test/DeepFlav_2018.csv\",\"MEDIUM\")\n",
    "  else: raise Exception(f\"Error: Unknown year \\\"{year}\\\".\")\n",
    "\n",
    "  return SFevaluatorBtag.eval(\"central\",flavor,eta,pt), SFevaluatorBtag.eval(\"up\",flavor,eta,pt), SFevaluatorBtag.eval(\"down\",flavor,eta,pt)\n"
   ]
  },
  {
   "cell_type": "code",
   "execution_count": 69,
   "metadata": {},
   "outputs": [],
   "source": [
    "isData=False\n",
    "if not isData:\n",
    "    pt = clean_jets.pt; abseta = np.abs(clean_jets.eta); flav = clean_jets.hadronFlavour\n",
    "\n",
    "    clean_jets['btagSF'], clean_jets['btagSF_up'], clean_jets['btagSF_down']  = get_btagsf(abseta, pt, flav, '2018')\n"
   ]
  },
  {
   "cell_type": "code",
   "execution_count": 70,
   "metadata": {},
   "outputs": [
    {
     "data": {
      "text/plain": [
       "<Array [None, None, [1.27, 1.3]] type='3 * option[var * float64]'>"
      ]
     },
     "execution_count": 70,
     "metadata": {},
     "output_type": "execute_result"
    }
   ],
   "source": [
    "clean_jets.btagSF_down[134:137]"
   ]
  },
  {
   "cell_type": "code",
   "execution_count": 31,
   "metadata": {},
   "outputs": [
    {
     "data": {
      "text/plain": [
       "'1.22.0'"
      ]
     },
     "execution_count": 31,
     "metadata": {},
     "output_type": "execute_result"
    }
   ],
   "source": [
    "np.__version__"
   ]
  },
  {
   "cell_type": "code",
   "execution_count": null,
   "metadata": {},
   "outputs": [],
   "source": []
  },
  {
   "cell_type": "code",
   "execution_count": null,
   "metadata": {},
   "outputs": [
    {
     "data": {
      "text/plain": [
       "[[57.96875, 19.421875], [47.28125, 35.3125, 28.03125], [35.96875, 15.609375]]"
      ]
     },
     "execution_count": 23,
     "metadata": {},
     "output_type": "execute_result"
    }
   ],
   "source": [
    "ak.to_list(jtmp.pt)"
   ]
  },
  {
   "cell_type": "code",
   "execution_count": null,
   "metadata": {},
   "outputs": [
    {
     "data": {
      "text/plain": [
       "[[53.41250228881836],\n",
       " [42.005924224853516, 31.437562942504883],\n",
       " [32.56406784057617]]"
      ]
     },
     "execution_count": 24,
     "metadata": {},
     "output_type": "execute_result"
    }
   ],
   "source": [
    "ak.to_list(mtmp.pt)"
   ]
  },
  {
   "cell_type": "code",
   "execution_count": 60,
   "metadata": {},
   "outputs": [
    {
     "ename": "UFuncTypeError",
     "evalue": "ufunc '_deltaphi_kernel' did not contain a loop with signature matching types (<class 'numpy.dtype[float32]'>, <class 'numpy.dtype[float32]'>) -> None",
     "output_type": "error",
     "traceback": [
      "\u001b[0;31m---------------------------------------------------------------------------\u001b[0m",
      "\u001b[0;31mUFuncTypeError\u001b[0m                            Traceback (most recent call last)",
      "\u001b[0;32m/tmp/ipykernel_22085/2129671521.py\u001b[0m in \u001b[0;36m<module>\u001b[0;34m\u001b[0m\n\u001b[1;32m     18\u001b[0m \u001b[0mpair_obj\u001b[0m \u001b[0;34m=\u001b[0m \u001b[0mak\u001b[0m\u001b[0;34m.\u001b[0m\u001b[0mcartesian\u001b[0m\u001b[0;34m(\u001b[0m\u001b[0;34m[\u001b[0m\u001b[0mjtmp\u001b[0m\u001b[0;34m,\u001b[0m \u001b[0mmtmp\u001b[0m\u001b[0;34m]\u001b[0m\u001b[0;34m,\u001b[0m\u001b[0mnested\u001b[0m\u001b[0;34m=\u001b[0m\u001b[0;32mTrue\u001b[0m\u001b[0;34m)\u001b[0m\u001b[0;34m\u001b[0m\u001b[0;34m\u001b[0m\u001b[0m\n\u001b[1;32m     19\u001b[0m \u001b[0mobj1\u001b[0m\u001b[0;34m,\u001b[0m \u001b[0mobj2\u001b[0m \u001b[0;34m=\u001b[0m \u001b[0mak\u001b[0m\u001b[0;34m.\u001b[0m\u001b[0munzip\u001b[0m\u001b[0;34m(\u001b[0m\u001b[0mpair_obj\u001b[0m\u001b[0;34m)\u001b[0m\u001b[0;34m\u001b[0m\u001b[0;34m\u001b[0m\u001b[0m\n\u001b[0;32m---> 20\u001b[0;31m \u001b[0mobj1\u001b[0m\u001b[0;34m.\u001b[0m\u001b[0mdelta_r\u001b[0m\u001b[0;34m(\u001b[0m\u001b[0mobj2\u001b[0m\u001b[0;34m)\u001b[0m\u001b[0;34m\u001b[0m\u001b[0;34m\u001b[0m\u001b[0m\n\u001b[0m",
      "\u001b[0;32m~/miniconda3/envs/xcu/lib/python3.9/site-packages/coffea/nanoevents/methods/vector.py\u001b[0m in \u001b[0;36mdelta_r\u001b[0;34m(self, other)\u001b[0m\n\u001b[1;32m    569\u001b[0m         \u001b[0;34m:\u001b[0m\u001b[0mmath\u001b[0m\u001b[0;34m:\u001b[0m\u001b[0;31m`\u001b[0m\u001b[0;31m\\\u001b[0m\u001b[0msqrt\u001b[0m\u001b[0;34m{\u001b[0m\u001b[0;31m\\\u001b[0m\u001b[0mDelta\u001b[0m\u001b[0;31m\\\u001b[0m\u001b[0meta\u001b[0m\u001b[0;34m^\u001b[0m\u001b[0;36m2\u001b[0m \u001b[0;34m+\u001b[0m\u001b[0;31m \u001b[0m\u001b[0;31m\\\u001b[0m\u001b[0mDelta\u001b[0m\u001b[0;31m\\\u001b[0m\u001b[0mphi\u001b[0m\u001b[0;34m^\u001b[0m\u001b[0;36m2\u001b[0m\u001b[0;34m}\u001b[0m\u001b[0;31m`\u001b[0m\u001b[0;34m\u001b[0m\u001b[0;34m\u001b[0m\u001b[0m\n\u001b[1;32m    570\u001b[0m         \"\"\"\n\u001b[0;32m--> 571\u001b[0;31m         \u001b[0;32mreturn\u001b[0m \u001b[0mnumpy\u001b[0m\u001b[0;34m.\u001b[0m\u001b[0mhypot\u001b[0m\u001b[0;34m(\u001b[0m\u001b[0mself\u001b[0m\u001b[0;34m.\u001b[0m\u001b[0meta\u001b[0m \u001b[0;34m-\u001b[0m \u001b[0mother\u001b[0m\u001b[0;34m.\u001b[0m\u001b[0meta\u001b[0m\u001b[0;34m,\u001b[0m \u001b[0mself\u001b[0m\u001b[0;34m.\u001b[0m\u001b[0mdelta_phi\u001b[0m\u001b[0;34m(\u001b[0m\u001b[0mother\u001b[0m\u001b[0;34m)\u001b[0m\u001b[0;34m)\u001b[0m\u001b[0;34m\u001b[0m\u001b[0;34m\u001b[0m\u001b[0m\n\u001b[0m\u001b[1;32m    572\u001b[0m \u001b[0;34m\u001b[0m\u001b[0m\n\u001b[1;32m    573\u001b[0m     \u001b[0;34m@\u001b[0m\u001b[0mawkward\u001b[0m\u001b[0;34m.\u001b[0m\u001b[0mmixin_class_method\u001b[0m\u001b[0;34m(\u001b[0m\u001b[0mnumpy\u001b[0m\u001b[0;34m.\u001b[0m\u001b[0mnegative\u001b[0m\u001b[0;34m)\u001b[0m\u001b[0;34m\u001b[0m\u001b[0;34m\u001b[0m\u001b[0m\n",
      "\u001b[0;32m~/miniconda3/envs/xcu/lib/python3.9/site-packages/coffea/nanoevents/methods/vector.py\u001b[0m in \u001b[0;36mdelta_phi\u001b[0;34m(self, other)\u001b[0m\n\u001b[1;32m    186\u001b[0m         \u001b[0mReturns\u001b[0m \u001b[0ma\u001b[0m \u001b[0mvalue\u001b[0m \u001b[0mwithin\u001b[0m \u001b[0;34m[\u001b[0m\u001b[0;34m-\u001b[0m\u001b[0mpi\u001b[0m\u001b[0;34m,\u001b[0m \u001b[0mpi\u001b[0m\u001b[0;34m)\u001b[0m\u001b[0;34m\u001b[0m\u001b[0;34m\u001b[0m\u001b[0m\n\u001b[1;32m    187\u001b[0m         \"\"\"\n\u001b[0;32m--> 188\u001b[0;31m         \u001b[0;32mreturn\u001b[0m \u001b[0m_deltaphi_kernel\u001b[0m\u001b[0;34m(\u001b[0m\u001b[0mself\u001b[0m\u001b[0;34m.\u001b[0m\u001b[0mphi\u001b[0m\u001b[0;34m,\u001b[0m \u001b[0mother\u001b[0m\u001b[0;34m.\u001b[0m\u001b[0mphi\u001b[0m\u001b[0;34m)\u001b[0m\u001b[0;34m\u001b[0m\u001b[0;34m\u001b[0m\u001b[0m\n\u001b[0m\u001b[1;32m    189\u001b[0m \u001b[0;34m\u001b[0m\u001b[0m\n\u001b[1;32m    190\u001b[0m     \u001b[0;32mdef\u001b[0m \u001b[0mdot\u001b[0m\u001b[0;34m(\u001b[0m\u001b[0mself\u001b[0m\u001b[0;34m,\u001b[0m \u001b[0mother\u001b[0m\u001b[0;34m)\u001b[0m\u001b[0;34m:\u001b[0m\u001b[0;34m\u001b[0m\u001b[0;34m\u001b[0m\u001b[0m\n",
      "\u001b[0;32m~/miniconda3/envs/xcu/lib/python3.9/site-packages/awkward/highlevel.py\u001b[0m in \u001b[0;36m__array_ufunc__\u001b[0;34m(self, ufunc, method, *inputs, **kwargs)\u001b[0m\n\u001b[1;32m   1416\u001b[0m         \"\"\"\n\u001b[1;32m   1417\u001b[0m         \u001b[0;32mif\u001b[0m \u001b[0;32mnot\u001b[0m \u001b[0mhasattr\u001b[0m\u001b[0;34m(\u001b[0m\u001b[0mself\u001b[0m\u001b[0;34m,\u001b[0m \u001b[0;34m\"_tracers\"\u001b[0m\u001b[0;34m)\u001b[0m\u001b[0;34m:\u001b[0m\u001b[0;34m\u001b[0m\u001b[0;34m\u001b[0m\u001b[0m\n\u001b[0;32m-> 1418\u001b[0;31m             \u001b[0;32mreturn\u001b[0m \u001b[0mak\u001b[0m\u001b[0;34m.\u001b[0m\u001b[0m_connect\u001b[0m\u001b[0;34m.\u001b[0m\u001b[0m_numpy\u001b[0m\u001b[0;34m.\u001b[0m\u001b[0marray_ufunc\u001b[0m\u001b[0;34m(\u001b[0m\u001b[0mufunc\u001b[0m\u001b[0;34m,\u001b[0m \u001b[0mmethod\u001b[0m\u001b[0;34m,\u001b[0m \u001b[0minputs\u001b[0m\u001b[0;34m,\u001b[0m \u001b[0mkwargs\u001b[0m\u001b[0;34m)\u001b[0m\u001b[0;34m\u001b[0m\u001b[0;34m\u001b[0m\u001b[0m\n\u001b[0m\u001b[1;32m   1419\u001b[0m         \u001b[0;32melse\u001b[0m\u001b[0;34m:\u001b[0m\u001b[0;34m\u001b[0m\u001b[0;34m\u001b[0m\u001b[0m\n\u001b[1;32m   1420\u001b[0m             return ak._connect._jax.jax_utils.array_ufunc(\n",
      "\u001b[0;32m~/miniconda3/envs/xcu/lib/python3.9/site-packages/awkward/_connect/_numpy.py\u001b[0m in \u001b[0;36marray_ufunc\u001b[0;34m(ufunc, method, inputs, kwargs)\u001b[0m\n\u001b[1;32m    262\u001b[0m         \u001b[0;32mreturn\u001b[0m \u001b[0;32mNone\u001b[0m\u001b[0;34m\u001b[0m\u001b[0;34m\u001b[0m\u001b[0m\n\u001b[1;32m    263\u001b[0m \u001b[0;34m\u001b[0m\u001b[0m\n\u001b[0;32m--> 264\u001b[0;31m     out = ak._util.broadcast_and_apply(\n\u001b[0m\u001b[1;32m    265\u001b[0m         \u001b[0minputs\u001b[0m\u001b[0;34m,\u001b[0m \u001b[0mgetfunction\u001b[0m\u001b[0;34m,\u001b[0m \u001b[0mbehavior\u001b[0m\u001b[0;34m,\u001b[0m \u001b[0mallow_records\u001b[0m\u001b[0;34m=\u001b[0m\u001b[0;32mFalse\u001b[0m\u001b[0;34m,\u001b[0m \u001b[0mpass_depth\u001b[0m\u001b[0;34m=\u001b[0m\u001b[0;32mFalse\u001b[0m\u001b[0;34m\u001b[0m\u001b[0;34m\u001b[0m\u001b[0m\n\u001b[1;32m    266\u001b[0m     )\n",
      "\u001b[0;32m~/miniconda3/envs/xcu/lib/python3.9/site-packages/awkward/_util.py\u001b[0m in \u001b[0;36mbroadcast_and_apply\u001b[0;34m(inputs, getfunction, behavior, allow_records, pass_depth, pass_user, user, left_broadcast, right_broadcast, numpy_to_regular, regular_to_jagged)\u001b[0m\n\u001b[1;32m   1180\u001b[0m     \u001b[0;32melse\u001b[0m\u001b[0;34m:\u001b[0m\u001b[0;34m\u001b[0m\u001b[0;34m\u001b[0m\u001b[0m\n\u001b[1;32m   1181\u001b[0m         \u001b[0misscalar\u001b[0m \u001b[0;34m=\u001b[0m \u001b[0;34m[\u001b[0m\u001b[0;34m]\u001b[0m\u001b[0;34m\u001b[0m\u001b[0;34m\u001b[0m\u001b[0m\n\u001b[0;32m-> 1182\u001b[0;31m         \u001b[0mout\u001b[0m \u001b[0;34m=\u001b[0m \u001b[0mapply\u001b[0m\u001b[0;34m(\u001b[0m\u001b[0mbroadcast_pack\u001b[0m\u001b[0;34m(\u001b[0m\u001b[0minputs\u001b[0m\u001b[0;34m,\u001b[0m \u001b[0misscalar\u001b[0m\u001b[0;34m)\u001b[0m\u001b[0;34m,\u001b[0m \u001b[0;36m0\u001b[0m\u001b[0;34m,\u001b[0m \u001b[0muser\u001b[0m\u001b[0;34m)\u001b[0m\u001b[0;34m\u001b[0m\u001b[0;34m\u001b[0m\u001b[0m\n\u001b[0m\u001b[1;32m   1183\u001b[0m         \u001b[0;32massert\u001b[0m \u001b[0misinstance\u001b[0m\u001b[0;34m(\u001b[0m\u001b[0mout\u001b[0m\u001b[0;34m,\u001b[0m \u001b[0mtuple\u001b[0m\u001b[0;34m)\u001b[0m\u001b[0;34m\u001b[0m\u001b[0;34m\u001b[0m\u001b[0m\n\u001b[1;32m   1184\u001b[0m         \u001b[0;32mreturn\u001b[0m \u001b[0mtuple\u001b[0m\u001b[0;34m(\u001b[0m\u001b[0mbroadcast_unpack\u001b[0m\u001b[0;34m(\u001b[0m\u001b[0mx\u001b[0m\u001b[0;34m,\u001b[0m \u001b[0misscalar\u001b[0m\u001b[0;34m)\u001b[0m \u001b[0;32mfor\u001b[0m \u001b[0mx\u001b[0m \u001b[0;32min\u001b[0m \u001b[0mout\u001b[0m\u001b[0;34m)\u001b[0m\u001b[0;34m\u001b[0m\u001b[0;34m\u001b[0m\u001b[0m\n",
      "\u001b[0;32m~/miniconda3/envs/xcu/lib/python3.9/site-packages/awkward/_util.py\u001b[0m in \u001b[0;36mapply\u001b[0;34m(inputs, depth, user)\u001b[0m\n\u001b[1;32m    942\u001b[0m                     \u001b[0;34m[\u001b[0m\u001b[0mlen\u001b[0m\u001b[0;34m(\u001b[0m\u001b[0mx\u001b[0m\u001b[0;34m)\u001b[0m \u001b[0;32mfor\u001b[0m \u001b[0mx\u001b[0m \u001b[0;32min\u001b[0m \u001b[0mnextinputs\u001b[0m \u001b[0;32mif\u001b[0m \u001b[0misinstance\u001b[0m\u001b[0;34m(\u001b[0m\u001b[0mx\u001b[0m\u001b[0;34m,\u001b[0m \u001b[0mak\u001b[0m\u001b[0;34m.\u001b[0m\u001b[0mlayout\u001b[0m\u001b[0;34m.\u001b[0m\u001b[0mContent\u001b[0m\u001b[0;34m)\u001b[0m\u001b[0;34m]\u001b[0m\u001b[0;34m\u001b[0m\u001b[0;34m\u001b[0m\u001b[0m\n\u001b[1;32m    943\u001b[0m                 )\n\u001b[0;32m--> 944\u001b[0;31m                 \u001b[0moutcontent\u001b[0m \u001b[0;34m=\u001b[0m \u001b[0mapply\u001b[0m\u001b[0;34m(\u001b[0m\u001b[0mnextinputs\u001b[0m\u001b[0;34m,\u001b[0m \u001b[0mdepth\u001b[0m \u001b[0;34m+\u001b[0m \u001b[0;36m1\u001b[0m\u001b[0;34m,\u001b[0m \u001b[0muser\u001b[0m\u001b[0;34m)\u001b[0m\u001b[0;34m\u001b[0m\u001b[0;34m\u001b[0m\u001b[0m\n\u001b[0m\u001b[1;32m    945\u001b[0m                 \u001b[0;32massert\u001b[0m \u001b[0misinstance\u001b[0m\u001b[0;34m(\u001b[0m\u001b[0moutcontent\u001b[0m\u001b[0;34m,\u001b[0m \u001b[0mtuple\u001b[0m\u001b[0;34m)\u001b[0m\u001b[0;34m\u001b[0m\u001b[0;34m\u001b[0m\u001b[0m\n\u001b[1;32m    946\u001b[0m \u001b[0;34m\u001b[0m\u001b[0m\n",
      "\u001b[0;32m~/miniconda3/envs/xcu/lib/python3.9/site-packages/awkward/_util.py\u001b[0m in \u001b[0;36mapply\u001b[0;34m(inputs, depth, user)\u001b[0m\n\u001b[1;32m    895\u001b[0m                     \u001b[0mnextinputs\u001b[0m\u001b[0;34m.\u001b[0m\u001b[0mappend\u001b[0m\u001b[0;34m(\u001b[0m\u001b[0mx\u001b[0m\u001b[0;34m)\u001b[0m\u001b[0;34m\u001b[0m\u001b[0;34m\u001b[0m\u001b[0m\n\u001b[1;32m    896\u001b[0m \u001b[0;34m\u001b[0m\u001b[0m\n\u001b[0;32m--> 897\u001b[0;31m             \u001b[0moutcontent\u001b[0m \u001b[0;34m=\u001b[0m \u001b[0mapply\u001b[0m\u001b[0;34m(\u001b[0m\u001b[0mnextinputs\u001b[0m\u001b[0;34m,\u001b[0m \u001b[0mdepth\u001b[0m\u001b[0;34m,\u001b[0m \u001b[0muser\u001b[0m\u001b[0;34m)\u001b[0m\u001b[0;34m\u001b[0m\u001b[0;34m\u001b[0m\u001b[0m\n\u001b[0m\u001b[1;32m    898\u001b[0m             \u001b[0;32massert\u001b[0m \u001b[0misinstance\u001b[0m\u001b[0;34m(\u001b[0m\u001b[0moutcontent\u001b[0m\u001b[0;34m,\u001b[0m \u001b[0mtuple\u001b[0m\u001b[0;34m)\u001b[0m\u001b[0;34m\u001b[0m\u001b[0;34m\u001b[0m\u001b[0m\n\u001b[1;32m    899\u001b[0m             return tuple(\n",
      "\u001b[0;32m~/miniconda3/envs/xcu/lib/python3.9/site-packages/awkward/_util.py\u001b[0m in \u001b[0;36mapply\u001b[0;34m(inputs, depth, user)\u001b[0m\n\u001b[1;32m   1036\u001b[0m                         \u001b[0mnextinputs\u001b[0m\u001b[0;34m.\u001b[0m\u001b[0mappend\u001b[0m\u001b[0;34m(\u001b[0m\u001b[0mx\u001b[0m\u001b[0;34m)\u001b[0m\u001b[0;34m\u001b[0m\u001b[0;34m\u001b[0m\u001b[0m\n\u001b[1;32m   1037\u001b[0m \u001b[0;34m\u001b[0m\u001b[0m\n\u001b[0;32m-> 1038\u001b[0;31m                 \u001b[0moutcontent\u001b[0m \u001b[0;34m=\u001b[0m \u001b[0mapply\u001b[0m\u001b[0;34m(\u001b[0m\u001b[0mnextinputs\u001b[0m\u001b[0;34m,\u001b[0m \u001b[0mdepth\u001b[0m \u001b[0;34m+\u001b[0m \u001b[0;36m1\u001b[0m\u001b[0;34m,\u001b[0m \u001b[0muser\u001b[0m\u001b[0;34m)\u001b[0m\u001b[0;34m\u001b[0m\u001b[0;34m\u001b[0m\u001b[0m\n\u001b[0m\u001b[1;32m   1039\u001b[0m \u001b[0;34m\u001b[0m\u001b[0m\n\u001b[1;32m   1040\u001b[0m                 \u001b[0;32mif\u001b[0m \u001b[0misinstance\u001b[0m\u001b[0;34m(\u001b[0m\u001b[0moffsets\u001b[0m\u001b[0;34m,\u001b[0m \u001b[0mak\u001b[0m\u001b[0;34m.\u001b[0m\u001b[0mlayout\u001b[0m\u001b[0;34m.\u001b[0m\u001b[0mIndex32\u001b[0m\u001b[0;34m)\u001b[0m\u001b[0;34m:\u001b[0m\u001b[0;34m\u001b[0m\u001b[0;34m\u001b[0m\u001b[0m\n",
      "\u001b[0;32m~/miniconda3/envs/xcu/lib/python3.9/site-packages/awkward/_util.py\u001b[0m in \u001b[0;36mapply\u001b[0;34m(inputs, depth, user)\u001b[0m\n\u001b[1;32m    895\u001b[0m                     \u001b[0mnextinputs\u001b[0m\u001b[0;34m.\u001b[0m\u001b[0mappend\u001b[0m\u001b[0;34m(\u001b[0m\u001b[0mx\u001b[0m\u001b[0;34m)\u001b[0m\u001b[0;34m\u001b[0m\u001b[0;34m\u001b[0m\u001b[0m\n\u001b[1;32m    896\u001b[0m \u001b[0;34m\u001b[0m\u001b[0m\n\u001b[0;32m--> 897\u001b[0;31m             \u001b[0moutcontent\u001b[0m \u001b[0;34m=\u001b[0m \u001b[0mapply\u001b[0m\u001b[0;34m(\u001b[0m\u001b[0mnextinputs\u001b[0m\u001b[0;34m,\u001b[0m \u001b[0mdepth\u001b[0m\u001b[0;34m,\u001b[0m \u001b[0muser\u001b[0m\u001b[0;34m)\u001b[0m\u001b[0;34m\u001b[0m\u001b[0;34m\u001b[0m\u001b[0m\n\u001b[0m\u001b[1;32m    898\u001b[0m             \u001b[0;32massert\u001b[0m \u001b[0misinstance\u001b[0m\u001b[0;34m(\u001b[0m\u001b[0moutcontent\u001b[0m\u001b[0;34m,\u001b[0m \u001b[0mtuple\u001b[0m\u001b[0;34m)\u001b[0m\u001b[0;34m\u001b[0m\u001b[0;34m\u001b[0m\u001b[0m\n\u001b[1;32m    899\u001b[0m             return tuple(\n",
      "\u001b[0;32m~/miniconda3/envs/xcu/lib/python3.9/site-packages/awkward/_util.py\u001b[0m in \u001b[0;36mapply\u001b[0;34m(inputs, depth, user)\u001b[0m\n\u001b[1;32m   1036\u001b[0m                         \u001b[0mnextinputs\u001b[0m\u001b[0;34m.\u001b[0m\u001b[0mappend\u001b[0m\u001b[0;34m(\u001b[0m\u001b[0mx\u001b[0m\u001b[0;34m)\u001b[0m\u001b[0;34m\u001b[0m\u001b[0;34m\u001b[0m\u001b[0m\n\u001b[1;32m   1037\u001b[0m \u001b[0;34m\u001b[0m\u001b[0m\n\u001b[0;32m-> 1038\u001b[0;31m                 \u001b[0moutcontent\u001b[0m \u001b[0;34m=\u001b[0m \u001b[0mapply\u001b[0m\u001b[0;34m(\u001b[0m\u001b[0mnextinputs\u001b[0m\u001b[0;34m,\u001b[0m \u001b[0mdepth\u001b[0m \u001b[0;34m+\u001b[0m \u001b[0;36m1\u001b[0m\u001b[0;34m,\u001b[0m \u001b[0muser\u001b[0m\u001b[0;34m)\u001b[0m\u001b[0;34m\u001b[0m\u001b[0;34m\u001b[0m\u001b[0m\n\u001b[0m\u001b[1;32m   1039\u001b[0m \u001b[0;34m\u001b[0m\u001b[0m\n\u001b[1;32m   1040\u001b[0m                 \u001b[0;32mif\u001b[0m \u001b[0misinstance\u001b[0m\u001b[0;34m(\u001b[0m\u001b[0moffsets\u001b[0m\u001b[0;34m,\u001b[0m \u001b[0mak\u001b[0m\u001b[0;34m.\u001b[0m\u001b[0mlayout\u001b[0m\u001b[0;34m.\u001b[0m\u001b[0mIndex32\u001b[0m\u001b[0;34m)\u001b[0m\u001b[0;34m:\u001b[0m\u001b[0;34m\u001b[0m\u001b[0;34m\u001b[0m\u001b[0m\n",
      "\u001b[0;32m~/miniconda3/envs/xcu/lib/python3.9/site-packages/awkward/_util.py\u001b[0m in \u001b[0;36mapply\u001b[0;34m(inputs, depth, user)\u001b[0m\n\u001b[1;32m    796\u001b[0m                 \u001b[0;32melse\u001b[0m\u001b[0;34m:\u001b[0m\u001b[0;34m\u001b[0m\u001b[0;34m\u001b[0m\u001b[0m\n\u001b[1;32m    797\u001b[0m                     \u001b[0mnextinputs\u001b[0m\u001b[0;34m.\u001b[0m\u001b[0mappend\u001b[0m\u001b[0;34m(\u001b[0m\u001b[0mx\u001b[0m\u001b[0;34m)\u001b[0m\u001b[0;34m\u001b[0m\u001b[0;34m\u001b[0m\u001b[0m\n\u001b[0;32m--> 798\u001b[0;31m             \u001b[0;32mreturn\u001b[0m \u001b[0mapply\u001b[0m\u001b[0;34m(\u001b[0m\u001b[0mnextinputs\u001b[0m\u001b[0;34m,\u001b[0m \u001b[0mdepth\u001b[0m\u001b[0;34m,\u001b[0m \u001b[0muser\u001b[0m\u001b[0;34m)\u001b[0m\u001b[0;34m\u001b[0m\u001b[0;34m\u001b[0m\u001b[0m\n\u001b[0m\u001b[1;32m    799\u001b[0m \u001b[0;34m\u001b[0m\u001b[0m\n\u001b[1;32m    800\u001b[0m         \u001b[0;32melif\u001b[0m \u001b[0many\u001b[0m\u001b[0;34m(\u001b[0m\u001b[0misinstance\u001b[0m\u001b[0;34m(\u001b[0m\u001b[0mx\u001b[0m\u001b[0;34m,\u001b[0m \u001b[0muniontypes\u001b[0m\u001b[0;34m)\u001b[0m \u001b[0;32mfor\u001b[0m \u001b[0mx\u001b[0m \u001b[0;32min\u001b[0m \u001b[0minputs\u001b[0m\u001b[0;34m)\u001b[0m\u001b[0;34m:\u001b[0m\u001b[0;34m\u001b[0m\u001b[0;34m\u001b[0m\u001b[0m\n",
      "\u001b[0;32m~/miniconda3/envs/xcu/lib/python3.9/site-packages/awkward/_util.py\u001b[0m in \u001b[0;36mapply\u001b[0;34m(inputs, depth, user)\u001b[0m\n\u001b[1;32m    753\u001b[0m             \u001b[0margs\u001b[0m \u001b[0;34m=\u001b[0m \u001b[0margs\u001b[0m \u001b[0;34m+\u001b[0m \u001b[0;34m(\u001b[0m\u001b[0muser\u001b[0m\u001b[0;34m,\u001b[0m\u001b[0;34m)\u001b[0m\u001b[0;34m\u001b[0m\u001b[0;34m\u001b[0m\u001b[0m\n\u001b[1;32m    754\u001b[0m \u001b[0;34m\u001b[0m\u001b[0m\n\u001b[0;32m--> 755\u001b[0;31m         \u001b[0mcustom\u001b[0m \u001b[0;34m=\u001b[0m \u001b[0mgetfunction\u001b[0m\u001b[0;34m(\u001b[0m\u001b[0minputs\u001b[0m\u001b[0;34m,\u001b[0m \u001b[0;34m*\u001b[0m\u001b[0margs\u001b[0m\u001b[0;34m)\u001b[0m\u001b[0;34m\u001b[0m\u001b[0;34m\u001b[0m\u001b[0m\n\u001b[0m\u001b[1;32m    756\u001b[0m         \u001b[0;32mif\u001b[0m \u001b[0mcallable\u001b[0m\u001b[0;34m(\u001b[0m\u001b[0mcustom\u001b[0m\u001b[0;34m)\u001b[0m\u001b[0;34m:\u001b[0m\u001b[0;34m\u001b[0m\u001b[0;34m\u001b[0m\u001b[0m\n\u001b[1;32m    757\u001b[0m             \u001b[0;32mreturn\u001b[0m \u001b[0mcustom\u001b[0m\u001b[0;34m(\u001b[0m\u001b[0;34m)\u001b[0m\u001b[0;34m\u001b[0m\u001b[0;34m\u001b[0m\u001b[0m\n",
      "\u001b[0;32m~/miniconda3/envs/xcu/lib/python3.9/site-packages/awkward/_connect/_numpy.py\u001b[0m in \u001b[0;36mgetfunction\u001b[0;34m(inputs)\u001b[0m\n\u001b[1;32m    207\u001b[0m         ):\n\u001b[1;32m    208\u001b[0m             \u001b[0mnplike\u001b[0m \u001b[0;34m=\u001b[0m \u001b[0mak\u001b[0m\u001b[0;34m.\u001b[0m\u001b[0mnplike\u001b[0m\u001b[0;34m.\u001b[0m\u001b[0mof\u001b[0m\u001b[0;34m(\u001b[0m\u001b[0;34m*\u001b[0m\u001b[0minputs\u001b[0m\u001b[0;34m)\u001b[0m\u001b[0;34m\u001b[0m\u001b[0;34m\u001b[0m\u001b[0m\n\u001b[0;32m--> 209\u001b[0;31m             result = getattr(ufunc, method)(\n\u001b[0m\u001b[1;32m    210\u001b[0m                 \u001b[0;34m*\u001b[0m\u001b[0;34m[\u001b[0m\u001b[0mnplike\u001b[0m\u001b[0;34m.\u001b[0m\u001b[0masarray\u001b[0m\u001b[0;34m(\u001b[0m\u001b[0mx\u001b[0m\u001b[0;34m)\u001b[0m \u001b[0;32mfor\u001b[0m \u001b[0mx\u001b[0m \u001b[0;32min\u001b[0m \u001b[0minputs\u001b[0m\u001b[0;34m]\u001b[0m\u001b[0;34m,\u001b[0m \u001b[0;34m**\u001b[0m\u001b[0mkwargs\u001b[0m\u001b[0;34m\u001b[0m\u001b[0;34m\u001b[0m\u001b[0m\n\u001b[1;32m    211\u001b[0m             )\n",
      "\u001b[0;31mUFuncTypeError\u001b[0m: ufunc '_deltaphi_kernel' did not contain a loop with signature matching types (<class 'numpy.dtype[float32]'>, <class 'numpy.dtype[float32]'>) -> None"
     ]
    }
   ],
   "source": [
    "jtmp = ak.zip({\n",
    "            \"pt\": jets.pt,\n",
    "            \"eta\": jets.eta,\n",
    "            \"phi\": jets.phi,\n",
    "            \"mass\": jets.mass,\n",
    "            \"charge\": np.ones(len(jets.pt)),\n",
    "        }, with_name=\"PtEtaPhiMCandidate\")\n",
    "mtmp = ak.zip({\n",
    "            \"pt\": good_muons.pt,\n",
    "            \"eta\": good_muons.eta,\n",
    "            \"phi\": good_muons.phi,\n",
    "            \"mass\": good_muons.mass,\n",
    "            \"charge\": good_muons.charge,\n",
    "        }, with_name=\"PtEtaPhiMCandidate\")\n",
    "jtmp = jtmp[0:3]\n",
    "mtmp = mtmp[0:3]\n",
    "\n",
    "pair_obj = ak.cartesian([jtmp, mtmp],nested=True)\n",
    "obj1, obj2 = ak.unzip(pair_obj)\n",
    "obj1.delta_r(obj2)"
   ]
  },
  {
   "cell_type": "code",
   "execution_count": null,
   "metadata": {},
   "outputs": [],
   "source": []
  },
  {
   "cell_type": "code",
   "execution_count": null,
   "metadata": {},
   "outputs": [],
   "source": []
  },
  {
   "cell_type": "code",
   "execution_count": null,
   "metadata": {},
   "outputs": [],
   "source": []
  },
  {
   "cell_type": "code",
   "execution_count": null,
   "metadata": {},
   "outputs": [],
   "source": []
  },
  {
   "cell_type": "code",
   "execution_count": null,
   "metadata": {},
   "outputs": [],
   "source": []
  },
  {
   "cell_type": "code",
   "execution_count": null,
   "metadata": {},
   "outputs": [],
   "source": []
  },
  {
   "cell_type": "code",
   "execution_count": null,
   "metadata": {},
   "outputs": [],
   "source": []
  },
  {
   "cell_type": "code",
   "execution_count": null,
   "metadata": {},
   "outputs": [],
   "source": []
  },
  {
   "cell_type": "code",
   "execution_count": null,
   "metadata": {},
   "outputs": [],
   "source": []
  },
  {
   "cell_type": "code",
   "execution_count": null,
   "metadata": {},
   "outputs": [],
   "source": []
  },
  {
   "cell_type": "code",
   "execution_count": null,
   "metadata": {},
   "outputs": [],
   "source": []
  },
  {
   "cell_type": "markdown",
   "metadata": {},
   "source": [
    "## Don't remove, the place to make the \"clean\" with cartesian clear"
   ]
  },
  {
   "cell_type": "code",
   "execution_count": null,
   "metadata": {},
   "outputs": [
    {
     "data": {
      "text/plain": [
       "<Array [[[0.0113], [4.6, ... 0.00839], [1.43]]] type='3 * var * var * float32'>"
      ]
     },
     "execution_count": 135,
     "metadata": {},
     "output_type": "execute_result"
    }
   ],
   "source": [
    "jtmp = jets[0:3]\n",
    "mtmp = good_muons[0:3]\n",
    "\n",
    "pair_obj = ak.cartesian([jtmp, mtmp],nested=True)\n",
    "obj1, obj2 = ak.unzip(pair_obj)\n",
    "obj1.delta_r(obj2)"
   ]
  },
  {
   "cell_type": "code",
   "execution_count": null,
   "metadata": {},
   "outputs": [
    {
     "data": {
      "text/plain": [
       "[[[0.011299419216811657], [4.601864337921143]],\n",
       " [[0.005097805988043547, 3.1803181171417236],\n",
       "  [3.207820415496826, 0.028553511947393417],\n",
       "  [4.776998043060303, 3.171268939971924]],\n",
       " [[0.00838739424943924], [1.430845856666565]]]"
      ]
     },
     "execution_count": 136,
     "metadata": {},
     "output_type": "execute_result"
    }
   ],
   "source": [
    "obj1.delta_r(obj2).to_list()"
   ]
  },
  {
   "cell_type": "code",
   "execution_count": null,
   "metadata": {},
   "outputs": [
    {
     "data": {
      "text/plain": [
       "[[[57.96875], [19.421875]],\n",
       " [[47.28125, 47.28125], [35.3125, 35.3125], [28.03125, 28.03125]],\n",
       " [[35.96875], [15.609375]]]"
      ]
     },
     "execution_count": 137,
     "metadata": {},
     "output_type": "execute_result"
    }
   ],
   "source": [
    "obj1.pt.to_list()"
   ]
  },
  {
   "cell_type": "code",
   "execution_count": null,
   "metadata": {},
   "outputs": [
    {
     "data": {
      "text/plain": [
       "[[[53.41250228881836], [53.41250228881836]],\n",
       " [[42.005924224853516, 31.437562942504883],\n",
       "  [42.005924224853516, 31.437562942504883],\n",
       "  [42.005924224853516, 31.437562942504883]],\n",
       " [[32.56406784057617], [32.56406784057617]]]"
      ]
     },
     "execution_count": 138,
     "metadata": {},
     "output_type": "execute_result"
    }
   ],
   "source": [
    "obj2.pt.to_list()"
   ]
  },
  {
   "cell_type": "code",
   "execution_count": null,
   "metadata": {},
   "outputs": [
    {
     "data": {
      "text/plain": [
       "[[0.011299419216811657, 4.601864337921143],\n",
       " [0.005097805988043547, 0.028553511947393417, 3.171268939971924],\n",
       " [0.00838739424943924, 1.430845856666565]]"
      ]
     },
     "execution_count": 139,
     "metadata": {},
     "output_type": "execute_result"
    }
   ],
   "source": [
    "a = obj1.delta_r(obj2)\n",
    "ak.min(a,axis=2).to_list()"
   ]
  },
  {
   "cell_type": "code",
   "execution_count": null,
   "metadata": {},
   "outputs": [
    {
     "data": {
      "text/plain": [
       "[[57.96875, 19.421875], [47.28125, 35.3125, 28.03125], [35.96875, 15.609375]]"
      ]
     },
     "execution_count": 140,
     "metadata": {},
     "output_type": "execute_result"
    }
   ],
   "source": [
    "jtmp.pt.to_list()"
   ]
  },
  {
   "cell_type": "code",
   "execution_count": null,
   "metadata": {},
   "outputs": [
    {
     "data": {
      "text/plain": [
       "[[53.41250228881836],\n",
       " [42.005924224853516, 31.437562942504883],\n",
       " [32.56406784057617]]"
      ]
     },
     "execution_count": 141,
     "metadata": {},
     "output_type": "execute_result"
    }
   ],
   "source": [
    "mtmp.pt.to_list()"
   ]
  },
  {
   "cell_type": "code",
   "execution_count": null,
   "metadata": {},
   "outputs": [
    {
     "data": {
      "text/plain": [
       "[[0.011299419216811657],\n",
       " [0.005097805988043547, 3.1803181171417236],\n",
       " [0.00838739424943924]]"
      ]
     },
     "execution_count": 142,
     "metadata": {},
     "output_type": "execute_result"
    }
   ],
   "source": [
    "jtmp[:,0].delta_r(mtmp).to_list()"
   ]
  },
  {
   "cell_type": "code",
   "execution_count": null,
   "metadata": {},
   "outputs": [
    {
     "data": {
      "text/plain": [
       "[[4.601864337921143],\n",
       " [3.207820415496826, 0.028553511947393417],\n",
       " [1.430845856666565]]"
      ]
     },
     "execution_count": 143,
     "metadata": {},
     "output_type": "execute_result"
    }
   ],
   "source": [
    "jtmp[:,1].delta_r(mtmp).to_list()"
   ]
  },
  {
   "cell_type": "code",
   "execution_count": null,
   "metadata": {},
   "outputs": [
    {
     "data": {
      "text/plain": [
       "[0.011299419216811657, 0.005097805988043547, 0.00838739424943924]"
      ]
     },
     "execution_count": 144,
     "metadata": {},
     "output_type": "execute_result"
    }
   ],
   "source": [
    "jtmp[:,0].delta_r(mtmp[:,0]).to_list()"
   ]
  },
  {
   "cell_type": "code",
   "execution_count": null,
   "metadata": {},
   "outputs": [
    {
     "data": {
      "text/plain": [
       "[[19.421875], [28.03125], [15.609375]]"
      ]
     },
     "execution_count": 145,
     "metadata": {},
     "output_type": "execute_result"
    }
   ],
   "source": [
    "a = obj1.delta_r(obj2)\n",
    "b = ak.min(a,axis=2)\n",
    "c = (b > 0.4)\n",
    "clean_jets = jtmp[c]\n",
    "(clean_jets.pt).to_list()"
   ]
  },
  {
   "cell_type": "code",
   "execution_count": null,
   "metadata": {},
   "outputs": [],
   "source": []
  }
 ],
 "metadata": {
  "interpreter": {
   "hash": "5cb26a57e8c3bacca127120453f50d259d8e56da38e094311726df11d012d06d"
  },
  "kernelspec": {
   "display_name": "Python 3.9.7 64-bit ('xcu': conda)",
   "language": "python",
   "name": "python3"
  },
  "language_info": {
   "codemirror_mode": {
    "name": "ipython",
    "version": 3
   },
   "file_extension": ".py",
   "mimetype": "text/x-python",
   "name": "python",
   "nbconvert_exporter": "python",
   "pygments_lexer": "ipython3",
   "version": "3.9.9"
  },
  "orig_nbformat": 4
 },
 "nbformat": 4,
 "nbformat_minor": 2
}
