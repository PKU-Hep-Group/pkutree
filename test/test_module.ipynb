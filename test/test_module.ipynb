{
 "cells": [
  {
   "cell_type": "code",
   "execution_count": 36,
   "metadata": {},
   "outputs": [],
   "source": [
    "import uproot as up\n",
    "import awkward as ak\n",
    "import coffea\n",
    "from coffea.nanoevents.methods import candidate\n",
    "from coffea import lookup_tools\n",
    "from coffea.lookup_tools import extractor\n",
    "from coffea.jetmet_tools import FactorizedJetCorrector, JetCorrectionUncertainty\n",
    "from coffea.jetmet_tools import JECStack, CorrectedJetsFactory, CorrectedMETFactory\n",
    "from coffea.btag_tools.btagscalefactor import BTagScaleFactor\n",
    "from coffea.nanoevents import NanoEventsFactory, NanoAODSchema, BaseSchema, TreeMakerSchema\n",
    "from coffea import processor\n",
    "\n",
    "ak.behavior.update(candidate.behavior)\n",
    "import numpy as np\n",
    "import time\n",
    "import cachetools"
   ]
  },
  {
   "cell_type": "code",
   "execution_count": 2,
   "metadata": {},
   "outputs": [
    {
     "name": "stderr",
     "output_type": "stream",
     "text": [
      "distributed.diskutils - INFO - Found stale lock file and directory '/data/pubfs/xiaoj/pkutree/test/dask-worker-space/worker-8emhm8bt', purging\n",
      "distributed.diskutils - INFO - Found stale lock file and directory '/data/pubfs/xiaoj/pkutree/test/dask-worker-space/worker-4tbxitmy', purging\n"
     ]
    },
    {
     "data": {
      "text/html": [
       "<div>\n",
       "    <div style=\"width: 24px; height: 24px; background-color: #e1e1e1; border: 3px solid #9D9D9D; border-radius: 5px; position: absolute;\"> </div>\n",
       "    <div style=\"margin-left: 48px;\">\n",
       "        <h3 style=\"margin-bottom: 0px;\">Client</h3>\n",
       "        <p style=\"color: #9D9D9D; margin-bottom: 0px;\">Client-3fe64d77-824a-11ec-8e19-ecf4bbe02728</p>\n",
       "        <table style=\"width: 100%; text-align: left;\">\n",
       "\n",
       "        <tr>\n",
       "        \n",
       "            <td style=\"text-align: left;\"><strong>Connection method:</strong> Cluster object</td>\n",
       "            <td style=\"text-align: left;\"><strong>Cluster type:</strong> distributed.LocalCluster</td>\n",
       "        \n",
       "        </tr>\n",
       "\n",
       "        \n",
       "            <tr>\n",
       "                <td style=\"text-align: left;\">\n",
       "                    <strong>Dashboard: </strong> <a href=\"http://127.0.0.1:8787/status\" target=\"_blank\">http://127.0.0.1:8787/status</a>\n",
       "                </td>\n",
       "                <td style=\"text-align: left;\"></td>\n",
       "            </tr>\n",
       "        \n",
       "\n",
       "        </table>\n",
       "\n",
       "        \n",
       "            <details>\n",
       "            <summary style=\"margin-bottom: 20px;\"><h3 style=\"display: inline;\">Cluster Info</h3></summary>\n",
       "            <div class=\"jp-RenderedHTMLCommon jp-RenderedHTML jp-mod-trusted jp-OutputArea-output\">\n",
       "    <div style=\"width: 24px; height: 24px; background-color: #e1e1e1; border: 3px solid #9D9D9D; border-radius: 5px; position: absolute;\">\n",
       "    </div>\n",
       "    <div style=\"margin-left: 48px;\">\n",
       "        <h3 style=\"margin-bottom: 0px; margin-top: 0px;\">LocalCluster</h3>\n",
       "        <p style=\"color: #9D9D9D; margin-bottom: 0px;\">510b315d</p>\n",
       "        <table style=\"width: 100%; text-align: left;\">\n",
       "            <tr>\n",
       "                <td style=\"text-align: left;\">\n",
       "                    <strong>Dashboard:</strong> <a href=\"http://127.0.0.1:8787/status\" target=\"_blank\">http://127.0.0.1:8787/status</a>\n",
       "                </td>\n",
       "                <td style=\"text-align: left;\">\n",
       "                    <strong>Workers:</strong> 2\n",
       "                </td>\n",
       "            </tr>\n",
       "            <tr>\n",
       "                <td style=\"text-align: left;\">\n",
       "                    <strong>Total threads:</strong> 2\n",
       "                </td>\n",
       "                <td style=\"text-align: left;\">\n",
       "                    <strong>Total memory:</strong> 1.86 GiB\n",
       "                </td>\n",
       "            </tr>\n",
       "            \n",
       "            <tr>\n",
       "    <td style=\"text-align: left;\"><strong>Status:</strong> running</td>\n",
       "    <td style=\"text-align: left;\"><strong>Using processes:</strong> True</td>\n",
       "</tr>\n",
       "\n",
       "            \n",
       "        </table>\n",
       "\n",
       "        <details>\n",
       "            <summary style=\"margin-bottom: 20px;\">\n",
       "                <h3 style=\"display: inline;\">Scheduler Info</h3>\n",
       "            </summary>\n",
       "\n",
       "            <div style=\"\">\n",
       "    <div>\n",
       "        <div style=\"width: 24px; height: 24px; background-color: #FFF7E5; border: 3px solid #FF6132; border-radius: 5px; position: absolute;\"> </div>\n",
       "        <div style=\"margin-left: 48px;\">\n",
       "            <h3 style=\"margin-bottom: 0px;\">Scheduler</h3>\n",
       "            <p style=\"color: #9D9D9D; margin-bottom: 0px;\">Scheduler-79373ac8-dffe-4763-84f0-452c37b3dedb</p>\n",
       "            <table style=\"width: 100%; text-align: left;\">\n",
       "                <tr>\n",
       "                    <td style=\"text-align: left;\">\n",
       "                        <strong>Comm:</strong> tcp://127.0.0.1:27595\n",
       "                    </td>\n",
       "                    <td style=\"text-align: left;\">\n",
       "                        <strong>Workers:</strong> 2\n",
       "                    </td>\n",
       "                </tr>\n",
       "                <tr>\n",
       "                    <td style=\"text-align: left;\">\n",
       "                        <strong>Dashboard:</strong> <a href=\"http://127.0.0.1:8787/status\" target=\"_blank\">http://127.0.0.1:8787/status</a>\n",
       "                    </td>\n",
       "                    <td style=\"text-align: left;\">\n",
       "                        <strong>Total threads:</strong> 2\n",
       "                    </td>\n",
       "                </tr>\n",
       "                <tr>\n",
       "                    <td style=\"text-align: left;\">\n",
       "                        <strong>Started:</strong> Just now\n",
       "                    </td>\n",
       "                    <td style=\"text-align: left;\">\n",
       "                        <strong>Total memory:</strong> 1.86 GiB\n",
       "                    </td>\n",
       "                </tr>\n",
       "            </table>\n",
       "        </div>\n",
       "    </div>\n",
       "\n",
       "    <details style=\"margin-left: 48px;\">\n",
       "        <summary style=\"margin-bottom: 20px;\">\n",
       "            <h3 style=\"display: inline;\">Workers</h3>\n",
       "        </summary>\n",
       "\n",
       "        \n",
       "        <div style=\"margin-bottom: 20px;\">\n",
       "            <div style=\"width: 24px; height: 24px; background-color: #DBF5FF; border: 3px solid #4CC9FF; border-radius: 5px; position: absolute;\"> </div>\n",
       "            <div style=\"margin-left: 48px;\">\n",
       "            <details>\n",
       "                <summary>\n",
       "                    <h4 style=\"margin-bottom: 0px; display: inline;\">Worker: 0</h4>\n",
       "                </summary>\n",
       "                <table style=\"width: 100%; text-align: left;\">\n",
       "                    <tr>\n",
       "                        <td style=\"text-align: left;\">\n",
       "                            <strong>Comm: </strong> tcp://127.0.0.1:24074\n",
       "                        </td>\n",
       "                        <td style=\"text-align: left;\">\n",
       "                            <strong>Total threads: </strong> 1\n",
       "                        </td>\n",
       "                    </tr>\n",
       "                    <tr>\n",
       "                        <td style=\"text-align: left;\">\n",
       "                            <strong>Dashboard: </strong> <a href=\"http://127.0.0.1:22168/status\" target=\"_blank\">http://127.0.0.1:22168/status</a>\n",
       "                        </td>\n",
       "                        <td style=\"text-align: left;\">\n",
       "                            <strong>Memory: </strong> 0.93 GiB\n",
       "                        </td>\n",
       "                    </tr>\n",
       "                    <tr>\n",
       "                        <td style=\"text-align: left;\">\n",
       "                            <strong>Nanny: </strong> tcp://127.0.0.1:17329\n",
       "                        </td>\n",
       "                        <td style=\"text-align: left;\"></td>\n",
       "                    </tr>\n",
       "                    <tr>\n",
       "                        <td colspan=\"2\" style=\"text-align: left;\">\n",
       "                            <strong>Local directory: </strong> /data/pubfs/xiaoj/pkutree/test/dask-worker-space/worker-7niu22yo\n",
       "                        </td>\n",
       "                    </tr>\n",
       "\n",
       "                    \n",
       "\n",
       "                    \n",
       "\n",
       "                </table>\n",
       "            </details>\n",
       "            </div>\n",
       "        </div>\n",
       "        \n",
       "        <div style=\"margin-bottom: 20px;\">\n",
       "            <div style=\"width: 24px; height: 24px; background-color: #DBF5FF; border: 3px solid #4CC9FF; border-radius: 5px; position: absolute;\"> </div>\n",
       "            <div style=\"margin-left: 48px;\">\n",
       "            <details>\n",
       "                <summary>\n",
       "                    <h4 style=\"margin-bottom: 0px; display: inline;\">Worker: 1</h4>\n",
       "                </summary>\n",
       "                <table style=\"width: 100%; text-align: left;\">\n",
       "                    <tr>\n",
       "                        <td style=\"text-align: left;\">\n",
       "                            <strong>Comm: </strong> tcp://127.0.0.1:12368\n",
       "                        </td>\n",
       "                        <td style=\"text-align: left;\">\n",
       "                            <strong>Total threads: </strong> 1\n",
       "                        </td>\n",
       "                    </tr>\n",
       "                    <tr>\n",
       "                        <td style=\"text-align: left;\">\n",
       "                            <strong>Dashboard: </strong> <a href=\"http://127.0.0.1:8190/status\" target=\"_blank\">http://127.0.0.1:8190/status</a>\n",
       "                        </td>\n",
       "                        <td style=\"text-align: left;\">\n",
       "                            <strong>Memory: </strong> 0.93 GiB\n",
       "                        </td>\n",
       "                    </tr>\n",
       "                    <tr>\n",
       "                        <td style=\"text-align: left;\">\n",
       "                            <strong>Nanny: </strong> tcp://127.0.0.1:6768\n",
       "                        </td>\n",
       "                        <td style=\"text-align: left;\"></td>\n",
       "                    </tr>\n",
       "                    <tr>\n",
       "                        <td colspan=\"2\" style=\"text-align: left;\">\n",
       "                            <strong>Local directory: </strong> /data/pubfs/xiaoj/pkutree/test/dask-worker-space/worker-kk0_nphp\n",
       "                        </td>\n",
       "                    </tr>\n",
       "\n",
       "                    \n",
       "\n",
       "                    \n",
       "\n",
       "                </table>\n",
       "            </details>\n",
       "            </div>\n",
       "        </div>\n",
       "        \n",
       "\n",
       "    </details>\n",
       "</div>\n",
       "\n",
       "        </details>\n",
       "    </div>\n",
       "</div>\n",
       "            </details>\n",
       "        \n",
       "\n",
       "    </div>\n",
       "</div>"
      ],
      "text/plain": [
       "<Client: 'tcp://127.0.0.1:27595' processes=2 threads=2, memory=1.86 GiB>"
      ]
     },
     "execution_count": 2,
     "metadata": {},
     "output_type": "execute_result"
    }
   ],
   "source": [
    "from dask.distributed import Client, progress\n",
    "\n",
    "client = Client(n_workers=2, threads_per_worker=1, memory_limit='1GB')\n",
    "client"
   ]
  },
  {
   "cell_type": "code",
   "execution_count": 16,
   "metadata": {},
   "outputs": [],
   "source": [
    "from utils.run_helper import get_file_list\n",
    "get_file_list(\"/data/pubfs/xiaoj/hmm/2ntuple/nanov7/obj_sel/VBFHToMuMu_M-125\",\"*.parquet\")\n",
    "\n",
    "fdict = {\n",
    "    'vbf': get_file_list(\"/data/pubfs/xiaoj/hmm/2ntuple/nanov7/obj_sel/VBFHToMuMu_M-125\",\"*.parquet\"),\n",
    "}"
   ]
  },
  {
   "cell_type": "code",
   "execution_count": 26,
   "metadata": {},
   "outputs": [],
   "source": [
    "fdict = {'vbf': ['/data/pubfs/xiaoj/hmm/2ntuple/nanov7/obj_sel/VBFHToMuMu_M-125/VBFHToMuMu_M-125_BVAi06aP8hz.parquet']}"
   ]
  },
  {
   "cell_type": "code",
   "execution_count": 10,
   "metadata": {},
   "outputs": [],
   "source": [
    "events = NanoEventsFactory.from_parquet(\n",
    "    '/data/pubfs/xiaoj/hmm/2ntuple/nanov7/obj_sel/VBFHToMuMu_M-125/VBFHToMuMu_M-125_Z5yID0EUL2f.parquet',\n",
    "    entry_stop=10000,\n",
    "    metadata={\"dataset\": \"hha\"},\n",
    "    schemaclass=BaseSchema,\n",
    ").events()\n"
   ]
  },
  {
   "cell_type": "code",
   "execution_count": 12,
   "metadata": {},
   "outputs": [],
   "source": [
    "events = events.mask[events.HLT_IsoMu24>0.5]"
   ]
  },
  {
   "cell_type": "code",
   "execution_count": 4,
   "metadata": {},
   "outputs": [],
   "source": [
    "# events.HLT_IsoMu24.to_list()"
   ]
  },
  {
   "cell_type": "code",
   "execution_count": 37,
   "metadata": {},
   "outputs": [
    {
     "data": {
      "text/plain": [
       "[True, True, True, True, True]"
      ]
     },
     "execution_count": 37,
     "metadata": {},
     "output_type": "execute_result"
    }
   ],
   "source": [
    "eve = ak.from_parquet('/data/pubfs/xiaoj/hmm/ntuple/nanov7/obj_sel/VBFHToMuMu_M-125/VBFHToMuMu_M-125_BVAi06aP8hz.parquet')\n",
    "eve.metFilter[:5].to_list()"
   ]
  },
  {
   "cell_type": "code",
   "execution_count": 38,
   "metadata": {},
   "outputs": [],
   "source": [
    "run = processor.Runner(\n",
    "    executor=processor.FuturesExecutor(workers=30),\n",
    "    schema=NanoAODSchema,\n",
    "    format=\"parquet\",\n",
    "    chunksize=100000,\n",
    ")\n"
   ]
  },
  {
   "cell_type": "code",
   "execution_count": 39,
   "metadata": {},
   "outputs": [],
   "source": [
    "from coffea import hist as chist\n",
    "class vbf_sel(processor.ProcessorABC):\n",
    "    \"\"\"\n",
    "    VBF selection after Object selection\n",
    "    \"\"\"\n",
    "\n",
    "    def __init__(self, year='2018', data=False):\n",
    "        self._accumulator = processor.dict_accumulator(\n",
    "            {\n",
    "                \"ntot\": processor.defaultdict_accumulator(int),\n",
    "                \"npos\": processor.defaultdict_accumulator(int),\n",
    "                \"nneg\": processor.defaultdict_accumulator(int),\n",
    "                \"neff\": processor.defaultdict_accumulator(int),\n",
    "                \"npass\": processor.defaultdict_accumulator(int),\n",
    "                \"zmass\": chist.Hist(\n",
    "                    \"Events\",\n",
    "                    chist.Cat(\"dataset\", \"Dataset\"),\n",
    "                    chist.Bin(\"zmass\", \"$m_{\\mu\\mu}$ [GeV]\", 30, 76, 106),                 \n",
    "                ),                \n",
    "                \"hmass\": chist.Hist(\n",
    "                    \"Events\",\n",
    "                    chist.Cat(\"dataset\", \"Dataset\"),\n",
    "                    chist.Bin(\"hmass\", \"$m_{\\mu\\mu}$ [GeV]\", 40, 110, 150),                 \n",
    "                ),                \n",
    "                \"mass\": chist.Hist(\n",
    "                    \"Events\",\n",
    "                    chist.Cat(\"dataset\", \"Dataset\"),\n",
    "                    chist.Bin(\"mass\", \"$m_{\\mu\\mu}$ [GeV]\", 80, 70, 150),                 \n",
    "                ),                \n",
    "            }\n",
    "        )\n",
    "        self.year = year\n",
    "        self.data = data\n",
    "\n",
    "    @property\n",
    "    def accumulator(self):\n",
    "        return self._accumulator\n",
    "\n",
    "    def process(self, events):\n",
    "        result = self.accumulator.identity()\n",
    "        dataset = events.metadata['dataset']\n",
    "\n",
    "        if not self.data:\n",
    "            # count nevents\n",
    "            npos = ak.sum(events.Generator.weight > 0)\n",
    "            nneg = ak.sum(events.Generator.weight < 0)\n",
    "            ntot = len(events.Generator.weight)\n",
    "        else:\n",
    "            npos = len(events)\n",
    "            nneg = 0\n",
    "            ntot = len(events)            \n",
    "\n",
    "        # print(events.fields)\n",
    "        # print(type(events))\n",
    "        ############\n",
    "        # trigger\n",
    "        events = events.mask[events.HLT.IsoMu24 > 0.5]\n",
    "        ############\n",
    "        # muons\n",
    "        # logger.info(\">>> Muon selection >>> entries %s\",ak.sum((events.run!=None)))\n",
    "        sel_nmu = ak.count(events.Muon.pt,axis=-1) == 2\n",
    "        events = events.mask[sel_nmu]\n",
    "        muons = events.Muon\n",
    "        if not self.year == \"2017\":\n",
    "            sel_mu_1 = (muons.pt[:,0] > 26) & (muons.pt[:,1] > 20)\n",
    "        else:\n",
    "            sel_mu_1 = (muons.pt[:,0] > 29) & (muons.pt[:,1] > 20)\n",
    "        if not self.data:\n",
    "            sel_mu_2 = (muons.is_real[:,0] > 0.5) & (muons.is_real[:,1] > 0.5)\n",
    "            sel_mu_tot = sel_mu_1 & sel_mu_2\n",
    "        else:\n",
    "            sel_mu_tot = sel_mu_1\n",
    "        muons = muons.mask[sel_mu_tot]\n",
    "        events = events.mask[sel_mu_tot]\n",
    "        \n",
    "        # ############\n",
    "        # # jets\n",
    "        # # logger.info(\">>> Jet selection >>> entries %s\",ak.sum((events.run!=None)))\n",
    "        jets = events.Jet\n",
    "        # bjet\n",
    "        medium_bjet = (jets.btagDeepFlavB > 0.2770) & (jets.pt > 25) & (abs(jets.eta) < 2.4)\n",
    "        n_medium_bjet = ak.sum(medium_bjet,axis=1)\n",
    "        loose_bjet = (jets.btagDeepFlavB > 0.0494) & (jets.pt > 25) & (abs(jets.eta) < 2.4)\n",
    "        n_loose_bjet = ak.sum(loose_bjet,axis=1)\n",
    "        jets = jets.mask[(n_medium_bjet < 1) & (n_loose_bjet < 2)]\n",
    "\n",
    "        ljet_tag = (jets.btagDeepFlavB <= 0.0494)\n",
    "        n_ljet = ak.sum(ljet_tag,axis=1)\n",
    "        jets = jets.mask[n_ljet >= 2]\n",
    "        ljets = jets[ljet_tag]\n",
    "\n",
    "        # vbs cuts\n",
    "        sel_ljet_1 = (ljets.pt[:,0] > 35) & (ljets.pt[:,1] > 25)\n",
    "        sel_ljet_2 = ((ljets[:,0] + ljets[:,1]).mass > 400) & (np.abs(ljets[:,0].eta - ljets[:,1].eta) > 2.5)\n",
    "\n",
    "        ljets = ljets.mask[sel_ljet_1 & sel_ljet_2]\n",
    "        events = events.mask[sel_ljet_1 & sel_ljet_2]\n",
    "\n",
    "        ########\n",
    "        # Total\n",
    "        total_sel = ak.fill_none(events.run!=None, False)\n",
    "        events = events[total_sel]\n",
    "        muons = muons[total_sel]\n",
    "        ljets = ljets[total_sel]\n",
    "\n",
    "\n",
    "        # check passed events\n",
    "        npassed = len(events.run)\n",
    "\n",
    "        ############\n",
    "        # fill histograms\n",
    "        result[\"mass\"].fill(\n",
    "            dataset=dataset,\n",
    "            mass=(muons[:,0] + muons[:,1]).mass\n",
    "        )\n",
    "        result[\"ntot\"][dataset] += ntot\n",
    "        result[\"npos\"][dataset] += npos\n",
    "        result[\"nneg\"][dataset] += nneg\n",
    "        result[\"neff\"][dataset] += (npos-nneg)\n",
    "        result[\"npass\"][dataset] += npassed\n",
    "        return result\n",
    "\n",
    "    def postprocess(self, accumulator):\n",
    "        return accumulator\n"
   ]
  },
  {
   "cell_type": "code",
   "execution_count": 58,
   "metadata": {},
   "outputs": [],
   "source": [
    "fdict = {'WZZ': ['/data/pubfs/xiaoj/hmm/2ntuple/nanov7/obj_sel/WZZ/WZZ_BLnyzm87iPU.parquet', '/data/pubfs/xiaoj/hmm/2ntuple/nanov7/obj_sel/WZZ/WZZ_p2EgynRT573.parquet']}"
   ]
  },
  {
   "cell_type": "code",
   "execution_count": 59,
   "metadata": {},
   "outputs": [
    {
     "name": "stderr",
     "output_type": "stream",
     "text": [
      "/home/pku/xiaoj/miniconda3/envs/xcu/lib/python3.9/site-packages/coffea/nanoevents/schemas/nanoaod.py:193: RuntimeWarning: Missing cross-reference index for Electron_jetIdx => Jet\n",
      "  warnings.warn(\n"
     ]
    },
    {
     "data": {
      "application/vnd.jupyter.widget-view+json": {
       "model_id": "8ce531a2cafb4ed4884068755e8195e3",
       "version_major": 2,
       "version_minor": 0
      },
      "text/plain": [
       "Processing:   0%|          | 0/2 [00:00<?, ?chunk/s]"
      ]
     },
     "metadata": {},
     "output_type": "display_data"
    },
    {
     "name": "stderr",
     "output_type": "stream",
     "text": [
      "/home/pku/xiaoj/miniconda3/envs/xcu/lib/python3.9/site-packages/coffea/nanoevents/schemas/nanoaod.py:193: RuntimeWarning: Missing cross-reference index for Electron_photonIdx => Photon\n",
      "  warnings.warn(\n",
      "/home/pku/xiaoj/miniconda3/envs/xcu/lib/python3.9/site-packages/coffea/nanoevents/schemas/nanoaod.py:193: RuntimeWarning: Missing cross-reference index for FatJet_subJetIdx1 => SubJet\n",
      "  warnings.warn(\n",
      "/home/pku/xiaoj/miniconda3/envs/xcu/lib/python3.9/site-packages/coffea/nanoevents/schemas/nanoaod.py:193: RuntimeWarning: Missing cross-reference index for FatJet_subJetIdx2 => SubJet\n",
      "  warnings.warn(\n",
      "/home/pku/xiaoj/miniconda3/envs/xcu/lib/python3.9/site-packages/coffea/nanoevents/schemas/nanoaod.py:193: RuntimeWarning: Missing cross-reference index for FsrPhoton_muonIdx => Muon\n",
      "  warnings.warn(\n",
      "/home/pku/xiaoj/miniconda3/envs/xcu/lib/python3.9/site-packages/coffea/nanoevents/schemas/nanoaod.py:200: RuntimeWarning: Missing cross-reference target for Jet_electronIdx1 => Electron\n",
      "  warnings.warn(\n",
      "/home/pku/xiaoj/miniconda3/envs/xcu/lib/python3.9/site-packages/coffea/nanoevents/schemas/nanoaod.py:200: RuntimeWarning: Missing cross-reference target for Jet_electronIdx2 => Electron\n",
      "  warnings.warn(\n",
      "/home/pku/xiaoj/miniconda3/envs/xcu/lib/python3.9/site-packages/coffea/nanoevents/schemas/nanoaod.py:200: RuntimeWarning: Missing cross-reference target for Muon_fsrPhotonIdx => FsrPhoton\n",
      "  warnings.warn(\n",
      "/home/pku/xiaoj/miniconda3/envs/xcu/lib/python3.9/site-packages/coffea/nanoevents/schemas/nanoaod.py:193: RuntimeWarning: Missing cross-reference index for Photon_electronIdx => Electron\n",
      "  warnings.warn(\n",
      "/home/pku/xiaoj/miniconda3/envs/xcu/lib/python3.9/site-packages/coffea/nanoevents/schemas/nanoaod.py:193: RuntimeWarning: Missing cross-reference index for Photon_jetIdx => Jet\n",
      "  warnings.warn(\n",
      "/home/pku/xiaoj/miniconda3/envs/xcu/lib/python3.9/site-packages/coffea/nanoevents/schemas/nanoaod.py:193: RuntimeWarning: Missing cross-reference index for Tau_jetIdx => Jet\n",
      "  warnings.warn(\n",
      "/home/pku/xiaoj/miniconda3/envs/xcu/lib/python3.9/site-packages/coffea/nanoevents/schemas/nanoaod.py:193: RuntimeWarning: Missing cross-reference index for Electron_jetIdx => Jet\n",
      "  warnings.warn(\n",
      "/home/pku/xiaoj/miniconda3/envs/xcu/lib/python3.9/site-packages/coffea/nanoevents/schemas/nanoaod.py:193: RuntimeWarning: Missing cross-reference index for Electron_photonIdx => Photon\n",
      "  warnings.warn(\n",
      "/home/pku/xiaoj/miniconda3/envs/xcu/lib/python3.9/site-packages/coffea/nanoevents/schemas/nanoaod.py:193: RuntimeWarning: Missing cross-reference index for FatJet_subJetIdx1 => SubJet\n",
      "  warnings.warn(\n",
      "/home/pku/xiaoj/miniconda3/envs/xcu/lib/python3.9/site-packages/coffea/nanoevents/schemas/nanoaod.py:193: RuntimeWarning: Missing cross-reference index for FatJet_subJetIdx2 => SubJet\n",
      "  warnings.warn(\n",
      "/home/pku/xiaoj/miniconda3/envs/xcu/lib/python3.9/site-packages/coffea/nanoevents/schemas/nanoaod.py:193: RuntimeWarning: Missing cross-reference index for FsrPhoton_muonIdx => Muon\n",
      "  warnings.warn(\n",
      "/home/pku/xiaoj/miniconda3/envs/xcu/lib/python3.9/site-packages/coffea/nanoevents/schemas/nanoaod.py:200: RuntimeWarning: Missing cross-reference target for Jet_electronIdx1 => Electron\n",
      "  warnings.warn(\n",
      "/home/pku/xiaoj/miniconda3/envs/xcu/lib/python3.9/site-packages/coffea/nanoevents/schemas/nanoaod.py:200: RuntimeWarning: Missing cross-reference target for Jet_electronIdx2 => Electron\n",
      "  warnings.warn(\n",
      "/home/pku/xiaoj/miniconda3/envs/xcu/lib/python3.9/site-packages/coffea/nanoevents/schemas/nanoaod.py:200: RuntimeWarning: Missing cross-reference target for Muon_fsrPhotonIdx => FsrPhoton\n",
      "  warnings.warn(\n",
      "/home/pku/xiaoj/miniconda3/envs/xcu/lib/python3.9/site-packages/coffea/nanoevents/schemas/nanoaod.py:193: RuntimeWarning: Missing cross-reference index for Photon_electronIdx => Electron\n",
      "  warnings.warn(\n",
      "/home/pku/xiaoj/miniconda3/envs/xcu/lib/python3.9/site-packages/coffea/nanoevents/schemas/nanoaod.py:193: RuntimeWarning: Missing cross-reference index for Photon_jetIdx => Jet\n",
      "  warnings.warn(\n",
      "/home/pku/xiaoj/miniconda3/envs/xcu/lib/python3.9/site-packages/coffea/nanoevents/schemas/nanoaod.py:193: RuntimeWarning: Missing cross-reference index for Tau_jetIdx => Jet\n",
      "  warnings.warn(\n"
     ]
    }
   ],
   "source": [
    "results = run(\n",
    "    fdict,\n",
    "    \"Events\",\n",
    "    processor_instance= vbf_sel(year=\"2018\",data=False)\n",
    ")\n"
   ]
  },
  {
   "cell_type": "code",
   "execution_count": 21,
   "metadata": {},
   "outputs": [],
   "source": [
    "import pickle\n",
    "with open(\"test.pkl\", \"wb\") as f:\n",
    "    pickle.dump(results, f)"
   ]
  },
  {
   "cell_type": "code",
   "execution_count": 22,
   "metadata": {},
   "outputs": [],
   "source": [
    "with open(\"test.pkl\", \"rb\") as f:\n",
    "    hists = pickle.load(f)"
   ]
  },
  {
   "cell_type": "code",
   "execution_count": 34,
   "metadata": {},
   "outputs": [
    {
     "data": {
      "text/plain": [
       "[StairsArtists(stairs=<matplotlib.patches.StepPatch object at 0x7fc694ed4250>, errorbar=<ErrorbarContainer object of 3 artists>, legend_artist=<ErrorbarContainer object of 3 artists>)]"
      ]
     },
     "execution_count": 34,
     "metadata": {},
     "output_type": "execute_result"
    },
    {
     "data": {
      "image/png": "[encoded data removed]",
      "text/plain": [
       "<Figure size 432x288 with 1 Axes>"
      ]
     },
     "metadata": {
      "needs_background": "light"
     },
     "output_type": "display_data"
    }
   ],
   "source": [
    "a=hists['mass']\n",
    "b = a.to_hist().plot()"
   ]
  },
  {
   "cell_type": "code",
   "execution_count": 35,
   "metadata": {},
   "outputs": [
    {
     "data": {
      "image/png": "[encoded data removed]",
      "text/plain": [
       "<Figure size 432x288 with 1 Axes>"
      ]
     },
     "metadata": {
      "needs_background": "light"
     },
     "output_type": "display_data"
    }
   ],
   "source": [
    "a=results['mass']\n",
    "b = a.to_hist().plot()"
   ]
  },
  {
   "cell_type": "code",
   "execution_count": 25,
   "metadata": {},
   "outputs": [
    {
     "data": {
      "text/plain": [
       "defaultdict_accumulator(int, {'vbf': 650799})"
      ]
     },
     "execution_count": 25,
     "metadata": {},
     "output_type": "execute_result"
    }
   ],
   "source": [
    "results['ntot']"
   ]
  },
  {
   "cell_type": "code",
   "execution_count": 66,
   "metadata": {},
   "outputs": [],
   "source": [
    "# muons\n",
    "muons = events.Muon\n",
    "sel_mu_1 = (muons.mediumId) & (muons.pt > 15)  & (abs(muons.eta) < 2.4)\n",
    "sel_mu_2 = (abs(muons.dxy) < 0.2) & (abs(muons.dz) < 0.5)\n",
    "sel_mu_3 = (muons.pfIsoId >= 2) # loose relPFIso\n",
    "\n",
    "good_muon_mask = (sel_mu_1) & (sel_mu_2) & (sel_mu_3) \n",
    "# Rochester correction\n",
    "\n",
    "# Dress the muons by FSR Photons\n",
    "sel_good_muon = (ak.sum(good_muon_mask,axis=1) > 1)\n",
    "muons = muons.mask[sel_good_muon]\n",
    "good_muons = muons[good_muon_mask]\n",
    "events = events.mask[sel_good_muon]\n",
    "\n"
   ]
  },
  {
   "cell_type": "code",
   "execution_count": 67,
   "metadata": {},
   "outputs": [],
   "source": [
    "# https://gitlab.cern.ch/akhukhun/roccor\n",
    "# https://github.com/CoffeaTeam/coffea/blob/master/coffea/lookup_tools/rochester_lookup.py\n",
    "# https://github.com/TopEFT/topcoffea/blob/master/topcoffea/modules/corrections.py#L359\n",
    "def apply_rochester_correction(mu, is_mc=True, year='2018'):\n",
    "    if year=='2016': rochester_data = lookup_tools.txt_converters.convert_rochester_file(\"data/MuonScale/RoccoR2016.txt\", loaduncs=True)\n",
    "    elif year=='2017': rochester_data = lookup_tools.txt_converters.convert_rochester_file(\"data/MuonScale/RoccoR2017.txt\", loaduncs=True)\n",
    "    elif year=='2018': rochester_data = lookup_tools.txt_converters.convert_rochester_file(\"/data/pubfs/xiaoj/test/roc/RoccoR/RoccoR2018.txt\", loaduncs=True)\n",
    "    rochester = lookup_tools.rochester_lookup.rochester_lookup(rochester_data)\n",
    "    if is_mc:\n",
    "        hasgen = ~np.isnan(ak.fill_none(mu.matched_gen.pt, np.nan))\n",
    "        mc_rand = np.random.rand(*ak.to_numpy(ak.flatten(mu.pt)).shape)\n",
    "        mc_rand = ak.unflatten(mc_rand, ak.num(mu.pt, axis=1))\n",
    "        corrections = np.array(ak.flatten(ak.ones_like(mu.pt)))\n",
    "        errors = np.array(ak.flatten(ak.ones_like(mu.pt)))\n",
    "        \n",
    "        mc_kspread = rochester.kSpreadMC(mu.charge[hasgen],mu.pt[hasgen],mu.eta[hasgen],mu.phi[hasgen],mu.matched_gen.pt[hasgen])\n",
    "        mc_ksmear = rochester.kSmearMC(mu.charge[~hasgen],mu.pt[~hasgen],mu.eta[~hasgen],mu.phi[~hasgen],mu.nTrackerLayers[~hasgen],mc_rand[~hasgen])\n",
    "        errspread = rochester.kSpreadMCerror(mu.charge[hasgen],mu.pt[hasgen],mu.eta[hasgen],mu.phi[hasgen],mu.matched_gen.pt[hasgen])\n",
    "        errsmear = rochester.kSmearMCerror(mu.charge[~hasgen],mu.pt[~hasgen],mu.eta[~hasgen],mu.phi[~hasgen],mu.nTrackerLayers[~hasgen],mc_rand[~hasgen])\n",
    "        hasgen_flat = np.array(ak.flatten(hasgen))\n",
    "        corrections[hasgen_flat] = np.array(ak.flatten(mc_kspread))\n",
    "        corrections[~hasgen_flat] = np.array(ak.flatten(mc_ksmear))\n",
    "        errors[hasgen_flat] = np.array(ak.flatten(errspread))\n",
    "        errors[~hasgen_flat] = np.array(ak.flatten(errsmear))\n",
    "        corrections = ak.unflatten(corrections, ak.num(mu.pt, axis=1))\n",
    "        errors = ak.unflatten(errors, ak.num(mu.pt, axis=1))\n",
    "    else:\n",
    "        corrections = rochester.kScaleDT(mu.charge, mu.pt, mu.eta, mu.phi)\n",
    "        errors = rochester.kScaleDTerror(mu.charge, mu.pt, mu.eta, mu.phi)\n",
    "    \n",
    "    pt_nom = mu.pt * corrections\n",
    "    pt_err = mu.pt * errors\n",
    "    # tmp = np.array(ak.flatten(pt_nom + pt_err))\n",
    "    # tmp[tmp < 0] = 0\n",
    "    # pt_up = ak.unflatten(tmp, ak.num(pt_nom, axis=1))\n",
    "    # tmp = np.array(ak.flatten(pt_nom - pt_err))\n",
    "    # tmp[tmp < 0] = 0\n",
    "    # pt_down = ak.unflatten(tmp, ak.num(pt_nom, axis=1))\n",
    "    return pt_nom, pt_nom + pt_err, pt_nom - pt_err"
   ]
  },
  {
   "cell_type": "code",
   "execution_count": 68,
   "metadata": {},
   "outputs": [],
   "source": [
    "good_muons['newpt'] , good_muons['newpt_up'] , good_muons['newpt_down'] = apply_rochester_correction(good_muons)"
   ]
  },
  {
   "cell_type": "code",
   "execution_count": 69,
   "metadata": {},
   "outputs": [],
   "source": [
    "# final_mask = ak.fill_none(events.run!=None, False)\n",
    "# good_muons=good_muons[final_mask]\n",
    "# events = events[final_mask]\n"
   ]
  },
  {
   "cell_type": "code",
   "execution_count": 70,
   "metadata": {},
   "outputs": [],
   "source": [
    "# with up.recreate(\"new_test.root\", compression=None) as fout:\n",
    "#     fout['Events'] = {\n",
    "#         'Muon': good_muons,\n",
    "#     }\n",
    "\n",
    "# hah = up.lazy(\"new_test.root:Events\")\n",
    "# events = NanoEventsFactory.from_root(\"new_test.root\", schemaclass=BaseSchema).events()"
   ]
  },
  {
   "cell_type": "code",
   "execution_count": 71,
   "metadata": {},
   "outputs": [],
   "source": [
    "eles = events.Electron\n",
    "# electrons\n",
    "good_ele_mask = (eles.pt > 20) & (abs(eles.eta + eles.deltaEtaSC) < 2.5) & (eles.mvaFall17V2Iso_WP90)\n",
    "\n",
    "sel_no_ele = (ak.sum(good_ele_mask,axis=1) < 1)\n",
    "\n",
    "events = events.mask[sel_no_ele]"
   ]
  },
  {
   "cell_type": "code",
   "execution_count": 72,
   "metadata": {},
   "outputs": [],
   "source": [
    "def is_clean(obj_A, obj_B, drmin=0.4):\n",
    "   ## Method 1\n",
    "   # pair_obj = ak.cartesian([obj_A, obj_B],nested=True)\n",
    "   # obj1, obj2 = ak.unzip(pair_obj)\n",
    "   # dr_jm = obj1.delta_r(obj2)\n",
    "   # min_dr_jm = ak.min(dr_jm,axis=2)\n",
    "   # mask = min_dr_jm > drmin\n",
    "   \n",
    "   ## Method 2\n",
    "   objB_near, objB_dr = obj_A.nearest(obj_B, return_metric=True)\n",
    "   mask = ak.fill_none(objB_dr > drmin, True) # I guess to use True is because if there are no objB, all the objA are clean\n",
    "   return (mask)\n"
   ]
  },
  {
   "cell_type": "code",
   "execution_count": 73,
   "metadata": {},
   "outputs": [],
   "source": [
    "# jets\n",
    "jets = events.Jet\n",
    "# jet cleaned w.r.t. muons\n",
    "clean_jet_mask = is_clean(jets, good_muons, 0.4)\n",
    "# clean jets\n",
    "sel_clean_jet = (ak.sum(clean_jet_mask,axis=1) > 0)\n",
    "jets = jets.mask[sel_clean_jet]\n",
    "clean_jets = jets[clean_jet_mask]\n",
    "events = events.mask[sel_clean_jet]\n",
    "# sel_cleanj_1 = (clean_jets.pt > 25) & (abs(clean_jets.eta) < 4.7) & (clean_jets.isTight)\n",
    "\n",
    "# bjets \n",
    "# sel_bjet = (sel_jet) & "
   ]
  },
  {
   "cell_type": "code",
   "execution_count": 74,
   "metadata": {},
   "outputs": [],
   "source": [
    "total_sel = ak.fill_none(events.run!=None, False)\n",
    "events = events[total_sel]\n",
    "good_muons = good_muons[total_sel]\n",
    "clean_jets = clean_jets[total_sel]\n"
   ]
  },
  {
   "cell_type": "code",
   "execution_count": 36,
   "metadata": {},
   "outputs": [],
   "source": [
    "trigger = {}\n",
    "for idx, ihlt in enumerate(['IsoMu24']):\n",
    "    trigger[ihlt] = events.HLT[ihlt]\n",
    "jet_dict = {}\n",
    "for ibr in clean_jets.fields:\n",
    "    # cross indexing should be romoved, e.g., muonIdxG\n",
    "    if (not 'Idx' in ibr) and (not ibr.endswith('G')):\n",
    "        jet_dict[ibr] = clean_jets[ibr]"
   ]
  },
  {
   "cell_type": "code",
   "execution_count": 15,
   "metadata": {},
   "outputs": [],
   "source": [
    "with up.recreate(\"new_test.root\", compression=None) as fout:\n",
    "    fout['Events'] = {\n",
    "        'Jet': jet_dict,\n",
    "        'basic': {\n",
    "            'run':events.run,\n",
    "            'luminosityBlock': events.luminosityBlock,\n",
    "            'event': events.event,\n",
    "        },\n",
    "        'Muon': good_muons,\n",
    "        'MET': events.MET,\n",
    "        'PuppiMET': events.PuppiMET,\n",
    "        'HLT': trigger,\n",
    "    }"
   ]
  },
  {
   "cell_type": "code",
   "execution_count": 75,
   "metadata": {},
   "outputs": [],
   "source": [
    "new_eve = {}\n",
    "# muon info\n",
    "new_eve['nMuon'] = ak.count(good_muons.pt,axis=-1)\n",
    "for ibr in good_muons.fields:\n",
    "    new_eve[f'Muon_{ibr}'] = good_muons[ibr]\n",
    "# jet info\n",
    "new_eve['nJet'] = ak.count(clean_jets.pt,axis=-1)\n",
    "for ibr in clean_jets.fields:\n",
    "    if not ibr in ['muonIdxG','electronIdxG']:\n",
    "        new_eve[f'Jet_{ibr}'] = clean_jets[ibr]\n",
    "ak.to_parquet(new_eve,\"test1.parquet\")"
   ]
  },
  {
   "cell_type": "code",
   "execution_count": 76,
   "metadata": {},
   "outputs": [],
   "source": [
    "new_eve = {}\n",
    "# muon info\n",
    "new_eve['nMuon'] = ak.count(good_muons.pt,axis=-1)\n",
    "for ibr in good_muons.fields:\n",
    "    new_eve[f'Muon_{ibr}'] = good_muons[ibr]\n",
    "# jet info\n",
    "new_eve['nJet'] = ak.count(clean_jets.pt,axis=-1)\n",
    "for ibr in clean_jets.fields:\n",
    "    if not ibr in ['muonIdxG','electronIdxG']:\n",
    "        new_eve[f'Jet_{ibr}'] = clean_jets[ibr]\n",
    "\n",
    "eve_ak = ak.Array(new_eve)\n",
    "ak.to_parquet(eve_ak,\"test2.parquet\")"
   ]
  },
  {
   "cell_type": "code",
   "execution_count": 77,
   "metadata": {},
   "outputs": [],
   "source": [
    "a = ak.Array(\n",
    "    {\n",
    "        'Muon': good_muons,\n",
    "        'Jet': clean_jets,\n",
    "    }\n",
    ")\n",
    "ak.to_parquet(a,\"test3.parquet\")"
   ]
  },
  {
   "cell_type": "code",
   "execution_count": 2,
   "metadata": {},
   "outputs": [],
   "source": [
    "# events = NanoEventsFactory.from_parquet(\"test3.parquet\", schemaclass=BaseSchema)\n",
    "from coffea import processor\n",
    "\n",
    "class bare_sel(processor.ProcessorABC):\n",
    "    \"\"\"\n",
    "    Object selection\n",
    "    \"\"\"\n",
    "\n",
    "    def __init__(self):\n",
    "        self._accumulator = processor.dict_accumulator(\n",
    "            {\n",
    "                \"ntot\": processor.defaultdict_accumulator(int),\n",
    "                \"npos\": processor.defaultdict_accumulator(int),\n",
    "                \"nneg\": processor.defaultdict_accumulator(int),\n",
    "            }\n",
    "        )\n",
    "\n",
    "    @property\n",
    "    def accumulator(self):\n",
    "        return self._accumulator\n",
    "\n",
    "    def process(self, events):\n",
    "        result = self.accumulator.identity()\n",
    "        print(events.fields)\n",
    "        \n",
    "        dataset = events.metadata['dataset']\n",
    "        ntot = len(events)\n",
    "        result[\"ntot\"][dataset] += ntot\n",
    "        return result\n",
    "\n",
    "    def postprocess(self, accumulator):\n",
    "        return accumulator\n"
   ]
  },
  {
   "cell_type": "code",
   "execution_count": 4,
   "metadata": {},
   "outputs": [],
   "source": [
    "executor = processor.FuturesExecutor()"
   ]
  },
  {
   "cell_type": "code",
   "execution_count": 13,
   "metadata": {},
   "outputs": [],
   "source": [
    "events = ak.from_parquet(\"/data/pubfs/xiaoj/hmm/ntuple/nanov7/obj_sel/GluGluHToMuMu_M125/GluGluHToMuMu_M125_14VnDlvjKT3.parquet\")"
   ]
  },
  {
   "cell_type": "code",
   "execution_count": 15,
   "metadata": {},
   "outputs": [
    {
     "data": {
      "text/plain": [
       "[True, True, True, True, True]"
      ]
     },
     "execution_count": 15,
     "metadata": {},
     "output_type": "execute_result"
    }
   ],
   "source": [
    "events.HLT_IsoMu24[:5].to_list()"
   ]
  },
  {
   "cell_type": "code",
   "execution_count": 28,
   "metadata": {},
   "outputs": [],
   "source": [
    "muon_dict = {}\n",
    "for ibr in events.fields:\n",
    "    if ibr.startswith('Muon_'):\n",
    "        muon_dict[ibr.lstrip(\"Muon_\")] = events[ibr]\n",
    "muons = ak.zip(muon_dict, with_name=\"PtEtaPhiMCandidate\")"
   ]
  },
  {
   "cell_type": "code",
   "execution_count": 16,
   "metadata": {},
   "outputs": [],
   "source": [
    "events = events.mask[events.HLT_IsoMu24]"
   ]
  },
  {
   "cell_type": "code",
   "execution_count": 23,
   "metadata": {},
   "outputs": [],
   "source": [
    "muons = ak.zip({\n",
    "    'pt': events.Muon_pt,\n",
    "    'eta': events.Muon_eta,\n",
    "    'phi': events.Muon_phi,\n",
    "    'mass': events.Muon_mass,\n",
    "    'charge': events.Muon_charge,\n",
    "}\n",
    "    , with_name=\"PtEtaPhiMCandidate\")"
   ]
  },
  {
   "cell_type": "code",
   "execution_count": 29,
   "metadata": {},
   "outputs": [
    {
     "data": {
      "text/plain": [
       "[2.341838836669922,\n",
       " 0.2310517430305481,\n",
       " 1.2362124919891357,\n",
       " 2.3744890689849854,\n",
       " -1.093367338180542]"
      ]
     },
     "execution_count": 29,
     "metadata": {},
     "output_type": "execute_result"
    }
   ],
   "source": [
    "(muons[:,0]+muons[:,1]).eta[:5].to_list()"
   ]
  },
  {
   "cell_type": "code",
   "execution_count": 25,
   "metadata": {},
   "outputs": [
    {
     "data": {
      "text/plain": [
       "[2.341838836669922,\n",
       " 0.2310517430305481,\n",
       " 1.2362124919891357,\n",
       " 2.3744890689849854,\n",
       " -1.093367338180542]"
      ]
     },
     "execution_count": 25,
     "metadata": {},
     "output_type": "execute_result"
    }
   ],
   "source": [
    "(muons[:,0]+muons[:,1]).eta[:5].to_list()"
   ]
  },
  {
   "cell_type": "code",
   "execution_count": 31,
   "metadata": {},
   "outputs": [],
   "source": [
    "# muons.fields"
   ]
  },
  {
   "cell_type": "code",
   "execution_count": 20,
   "metadata": {},
   "outputs": [],
   "source": [
    "jet_dict = {}\n",
    "for ibr in events.fields:\n",
    "    if ibr.startswith('Jet_'):\n",
    "        jet_dict[ibr.lstrip(\"Jet_\")] = events[ibr]\n",
    "jets = ak.zip(jet_dict, with_name=\"PtEtaPhiMCandidate\")\n",
    "jets.eta[:5].to_list()\n"
   ]
  },
  {
   "cell_type": "code",
   "execution_count": 37,
   "metadata": {},
   "outputs": [],
   "source": [
    "medium_bjet = jets.btagDeepFlavB > 0.2770\n",
    "sel_n_medium_bjet = ak.sum(medium_bjet,axis=1)"
   ]
  },
  {
   "cell_type": "code",
   "execution_count": 43,
   "metadata": {},
   "outputs": [
    {
     "data": {
      "text/plain": [
       "[[False],\n",
       " [False],\n",
       " [False, False, False, False],\n",
       " [False],\n",
       " [False],\n",
       " [False],\n",
       " [False, False],\n",
       " [False],\n",
       " [False],\n",
       " [False, False, False],\n",
       " [False],\n",
       " [False, False],\n",
       " [False],\n",
       " [False, False],\n",
       " [False, False, False, False],\n",
       " [False, False],\n",
       " [False, False],\n",
       " [False],\n",
       " [False],\n",
       " [False, False, False],\n",
       " [False, False],\n",
       " [False, False, False],\n",
       " [False],\n",
       " [False, False],\n",
       " [False],\n",
       " [False],\n",
       " [False],\n",
       " [False],\n",
       " [False, False],\n",
       " [False],\n",
       " [False, False],\n",
       " [False, False, False, False],\n",
       " [False],\n",
       " [False, False],\n",
       " [False, False],\n",
       " [True, False],\n",
       " [False],\n",
       " [False],\n",
       " [False],\n",
       " [False, False, False],\n",
       " [False, False],\n",
       " [False],\n",
       " [False],\n",
       " [False],\n",
       " [False, False],\n",
       " [False],\n",
       " [False],\n",
       " [False],\n",
       " [False],\n",
       " [False],\n",
       " [False],\n",
       " [False],\n",
       " [False],\n",
       " [False],\n",
       " [False, False],\n",
       " [False, False],\n",
       " [False, False],\n",
       " [True],\n",
       " [False, False],\n",
       " [False, False],\n",
       " [False],\n",
       " [False],\n",
       " [False],\n",
       " [False],\n",
       " [False, False, False],\n",
       " [False],\n",
       " [False],\n",
       " [False],\n",
       " [False, False, False, True],\n",
       " [False, False, True],\n",
       " [False],\n",
       " [False, False],\n",
       " [False, False],\n",
       " [False, False, False],\n",
       " [False, False, False],\n",
       " [False],\n",
       " [False, False, True, False],\n",
       " [False, False, False],\n",
       " [False],\n",
       " [False, False, False],\n",
       " [False, False],\n",
       " [False, False],\n",
       " [False, False],\n",
       " [False],\n",
       " [False, False],\n",
       " [True],\n",
       " [True, False],\n",
       " [False, False],\n",
       " [False],\n",
       " [False],\n",
       " [False],\n",
       " [False, False, False],\n",
       " [False],\n",
       " [False],\n",
       " [False, False],\n",
       " [True, False],\n",
       " [False, False, False],\n",
       " [False],\n",
       " [False],\n",
       " [False, False],\n",
       " [False],\n",
       " [False, False],\n",
       " [False, False],\n",
       " [False],\n",
       " [False],\n",
       " [False, False],\n",
       " [False, False, False],\n",
       " [False, False],\n",
       " [False],\n",
       " [False, False, True],\n",
       " [False, False],\n",
       " [False],\n",
       " [False, False],\n",
       " [False],\n",
       " [False, False],\n",
       " [False, False],\n",
       " [False, False],\n",
       " [False, False],\n",
       " [False, False],\n",
       " [False, False],\n",
       " [False],\n",
       " [True, False, False, False, False],\n",
       " [False, False],\n",
       " [False],\n",
       " [True, False],\n",
       " [False],\n",
       " [False, False, False],\n",
       " [False, False, False],\n",
       " [False, False],\n",
       " [False, False],\n",
       " [False],\n",
       " [False, False],\n",
       " [False, False],\n",
       " [False],\n",
       " [False, False],\n",
       " [False, False],\n",
       " [False, False],\n",
       " [False, False, False],\n",
       " [False, False, False, False],\n",
       " [False, True],\n",
       " [False, False, False, False],\n",
       " [False],\n",
       " [False],\n",
       " [False],\n",
       " [False, False],\n",
       " [False, False, False],\n",
       " [False],\n",
       " [False],\n",
       " [False, False],\n",
       " [False],\n",
       " [False],\n",
       " [False, False],\n",
       " [False, False],\n",
       " [False],\n",
       " [False],\n",
       " [False],\n",
       " [False],\n",
       " [False],\n",
       " [False, False],\n",
       " [False, False],\n",
       " [False, False],\n",
       " [False],\n",
       " [False],\n",
       " [False],\n",
       " [False, False, False],\n",
       " [False],\n",
       " [False, False, False],\n",
       " [False],\n",
       " [False],\n",
       " [False, False],\n",
       " [False, False, False],\n",
       " [False],\n",
       " [False],\n",
       " [False],\n",
       " [False],\n",
       " [False],\n",
       " [False, False, False],\n",
       " [False, False, False],\n",
       " [False, False, False],\n",
       " [True],\n",
       " [False, False],\n",
       " [False],\n",
       " [False, False],\n",
       " [False, False, False],\n",
       " [False, True],\n",
       " [False, False],\n",
       " [False, False, False, False],\n",
       " [False],\n",
       " [False],\n",
       " [False, False],\n",
       " [False, False],\n",
       " [False],\n",
       " [False],\n",
       " [False, False],\n",
       " [False, False],\n",
       " [True, False, True, True],\n",
       " [False, False, False],\n",
       " [False],\n",
       " [False],\n",
       " [False, False, False, False],\n",
       " [False],\n",
       " [False, False],\n",
       " [False, False],\n",
       " [False],\n",
       " [False],\n",
       " [False, False],\n",
       " [False, False],\n",
       " [False],\n",
       " [False, False],\n",
       " [False, False],\n",
       " [False, False],\n",
       " [False, False],\n",
       " [True, False],\n",
       " [False],\n",
       " [False],\n",
       " [True, False],\n",
       " [False, False],\n",
       " [False],\n",
       " [False, False],\n",
       " [False, False],\n",
       " [False, False],\n",
       " [False],\n",
       " [False],\n",
       " [True, False],\n",
       " [False, False, False, False],\n",
       " [True],\n",
       " [False, False],\n",
       " [False, False, False],\n",
       " [False],\n",
       " [True],\n",
       " [False],\n",
       " [False, False],\n",
       " [False],\n",
       " [False, False],\n",
       " [False],\n",
       " [False],\n",
       " [False],\n",
       " [False, False, False],\n",
       " [False],\n",
       " [False],\n",
       " [False, False],\n",
       " [False],\n",
       " [False, False],\n",
       " [False, False, False, False],\n",
       " [False],\n",
       " [False, False],\n",
       " [False, False],\n",
       " [True, True],\n",
       " [False],\n",
       " [False],\n",
       " [False, False, False],\n",
       " [False, False],\n",
       " [False],\n",
       " [False, False, False],\n",
       " [False],\n",
       " [False, False],\n",
       " [False],\n",
       " [False, False],\n",
       " [False],\n",
       " [False],\n",
       " [False, False],\n",
       " [False],\n",
       " [False, False],\n",
       " [False],\n",
       " [False],\n",
       " [False],\n",
       " [False, False],\n",
       " [False, False, False],\n",
       " [False],\n",
       " [False],\n",
       " [False],\n",
       " [False, False, False, False],\n",
       " [False],\n",
       " [False],\n",
       " [False],\n",
       " [False],\n",
       " [False, False],\n",
       " [False],\n",
       " [False],\n",
       " [False],\n",
       " [True],\n",
       " [False],\n",
       " [False],\n",
       " [False, False, False, False, False],\n",
       " [False],\n",
       " [False, False, False],\n",
       " [False, False],\n",
       " [False],\n",
       " [False],\n",
       " [False],\n",
       " [False, False],\n",
       " [False, False],\n",
       " [False],\n",
       " [False, False, False],\n",
       " [False],\n",
       " [False],\n",
       " [False],\n",
       " [False, False],\n",
       " [False, False],\n",
       " [False],\n",
       " [False],\n",
       " [False],\n",
       " [False, False],\n",
       " [True, False],\n",
       " [False],\n",
       " [False],\n",
       " [False, False, False],\n",
       " [False, False],\n",
       " [False],\n",
       " [False],\n",
       " [False, False],\n",
       " [False, False],\n",
       " [False],\n",
       " [False, False],\n",
       " [False, False],\n",
       " [False, False, False],\n",
       " [False, False],\n",
       " [False, False],\n",
       " [False, False, False],\n",
       " [False],\n",
       " [False],\n",
       " [False, False],\n",
       " [False, False, False, False, False],\n",
       " [False],\n",
       " [False, False, False],\n",
       " [False, False, False, False],\n",
       " [False, True, False],\n",
       " [False, False],\n",
       " [False, False, False],\n",
       " [False, False],\n",
       " [False],\n",
       " [True, False],\n",
       " [False],\n",
       " [False, False],\n",
       " [False, False, False, False],\n",
       " [True],\n",
       " [False],\n",
       " [False, False],\n",
       " [False, False],\n",
       " [False, False, False, False],\n",
       " [False],\n",
       " [False],\n",
       " [False],\n",
       " [False, True],\n",
       " [False, False, False],\n",
       " [False],\n",
       " [False, False],\n",
       " [False],\n",
       " [False, False],\n",
       " [False, False],\n",
       " [False],\n",
       " [False, False, False],\n",
       " [False],\n",
       " [False, False, False, False],\n",
       " [False, False, False, False],\n",
       " [False],\n",
       " [False, False, False],\n",
       " [False, False, False],\n",
       " [False],\n",
       " [False],\n",
       " [False, False, False, False],\n",
       " [False],\n",
       " [False, False],\n",
       " [False, False],\n",
       " [False, False, False, False],\n",
       " [False, False, False],\n",
       " [False, False],\n",
       " [False],\n",
       " [False],\n",
       " [False, False, False, False, False],\n",
       " [False, False, False],\n",
       " [True, False, False],\n",
       " [False, False, False, False],\n",
       " [False],\n",
       " [False],\n",
       " [True],\n",
       " [False, False],\n",
       " [False, False, False],\n",
       " [False],\n",
       " [False],\n",
       " [False],\n",
       " [False],\n",
       " [False],\n",
       " [False, False],\n",
       " [True, False, False],\n",
       " [False],\n",
       " [False],\n",
       " [False],\n",
       " [False],\n",
       " [False],\n",
       " [False, False, False, False],\n",
       " [False, False, False, False, False],\n",
       " [False],\n",
       " [False, False],\n",
       " [False, False],\n",
       " [False, False],\n",
       " [False],\n",
       " [False],\n",
       " [False, False, False],\n",
       " [False, False, False],\n",
       " [False, False, False],\n",
       " [False, False],\n",
       " [False, False],\n",
       " [False],\n",
       " [False],\n",
       " [False],\n",
       " [False],\n",
       " [False, False],\n",
       " [False, False],\n",
       " [False],\n",
       " [False, False],\n",
       " [False, False],\n",
       " [False],\n",
       " [False, False],\n",
       " [False],\n",
       " [False, False, True, False],\n",
       " [False, False, False],\n",
       " [True, False, False, False],\n",
       " [False, False],\n",
       " [False, False, False, False],\n",
       " [False, False],\n",
       " [False],\n",
       " [False, False, False, False],\n",
       " [False],\n",
       " [False, False],\n",
       " [False, False],\n",
       " [False],\n",
       " [False, False, False, False],\n",
       " [False, False],\n",
       " [False],\n",
       " [False],\n",
       " [False, False],\n",
       " [False, False],\n",
       " [False],\n",
       " [False],\n",
       " [False, False, False],\n",
       " [False, False, False],\n",
       " [False, False, False],\n",
       " [False, False],\n",
       " [False],\n",
       " [False, False, False],\n",
       " [False],\n",
       " [True],\n",
       " [False],\n",
       " [False],\n",
       " [False, False, False],\n",
       " [False, False],\n",
       " [False],\n",
       " [False],\n",
       " [True],\n",
       " [False],\n",
       " [False],\n",
       " [False, False],\n",
       " [False, False, False],\n",
       " [False],\n",
       " [False, False, False],\n",
       " [False],\n",
       " [False],\n",
       " [False, False],\n",
       " [False, False],\n",
       " [False],\n",
       " [False, False, False],\n",
       " [False, False],\n",
       " [False, False],\n",
       " [False, True, False],\n",
       " [False, False],\n",
       " [False, False],\n",
       " [False],\n",
       " [False],\n",
       " [False, False],\n",
       " [False],\n",
       " [False],\n",
       " [False],\n",
       " [False],\n",
       " [False, False],\n",
       " [False, False],\n",
       " [False],\n",
       " [False],\n",
       " [False],\n",
       " [False],\n",
       " [False],\n",
       " [False, False],\n",
       " [False],\n",
       " [False, False],\n",
       " [False],\n",
       " [False],\n",
       " [False, False],\n",
       " [False],\n",
       " [False],\n",
       " [False],\n",
       " [False, False],\n",
       " [False, False],\n",
       " [False],\n",
       " [False, False],\n",
       " [False],\n",
       " [False],\n",
       " [False, False, False],\n",
       " [False],\n",
       " [False],\n",
       " [False],\n",
       " [False, False],\n",
       " [False],\n",
       " [False, False],\n",
       " [False, False],\n",
       " [False, False],\n",
       " [False, False],\n",
       " [False],\n",
       " [False, False],\n",
       " [False],\n",
       " [False, False, False],\n",
       " [False, False, False],\n",
       " [False],\n",
       " [False],\n",
       " [False, False, False, False, False],\n",
       " [False],\n",
       " [False, False],\n",
       " [False, False],\n",
       " [False],\n",
       " [False, False, False],\n",
       " [False, False, False, False, False, False],\n",
       " [False, False],\n",
       " [False, False, False],\n",
       " [False],\n",
       " [False],\n",
       " [False],\n",
       " [False],\n",
       " [False],\n",
       " [False, False, False],\n",
       " [False, True],\n",
       " [False],\n",
       " [False],\n",
       " [False],\n",
       " [False],\n",
       " [False],\n",
       " [False, False, False, False],\n",
       " [False, False, False],\n",
       " [False],\n",
       " [False, False],\n",
       " [False],\n",
       " [False, False],\n",
       " [True],\n",
       " [False, False],\n",
       " [False, False],\n",
       " [False, False, False, False, False],\n",
       " [False],\n",
       " [False, False],\n",
       " [False, False, False],\n",
       " [False],\n",
       " [False, False],\n",
       " [False, False],\n",
       " [False, False],\n",
       " [False, False],\n",
       " [False, False],\n",
       " [False, False],\n",
       " [False],\n",
       " [False, False, True],\n",
       " [False],\n",
       " [False, False],\n",
       " [False],\n",
       " [False, False],\n",
       " [False, False],\n",
       " [False],\n",
       " [False, False],\n",
       " [False],\n",
       " [False, False],\n",
       " [False],\n",
       " [False, False],\n",
       " [False, False],\n",
       " [False, False],\n",
       " [False, False],\n",
       " [False, False],\n",
       " [False],\n",
       " [False],\n",
       " [False, False],\n",
       " [False],\n",
       " [False],\n",
       " [False, False],\n",
       " [False, False],\n",
       " [False],\n",
       " [False],\n",
       " [False],\n",
       " [False, False],\n",
       " [False, False],\n",
       " [False],\n",
       " [False, False, False, False],\n",
       " [False],\n",
       " [False],\n",
       " [False, False],\n",
       " [False, False],\n",
       " [False, False, False, False, False, False, False],\n",
       " [False, False, False],\n",
       " [False],\n",
       " [False],\n",
       " [False],\n",
       " [False, False],\n",
       " [False, False],\n",
       " [False, False],\n",
       " [False, False, False],\n",
       " [False, False],\n",
       " [False, False, False],\n",
       " [False, False],\n",
       " [False, False],\n",
       " [False, False, False, False, False],\n",
       " [False, False],\n",
       " [False, False],\n",
       " [False],\n",
       " [False],\n",
       " [False],\n",
       " [False, False],\n",
       " [False, False],\n",
       " [False],\n",
       " [False],\n",
       " [False],\n",
       " [False, False],\n",
       " [False, False],\n",
       " [False, False, False],\n",
       " [False, False],\n",
       " [False],\n",
       " [False],\n",
       " [False],\n",
       " [False],\n",
       " [False],\n",
       " [False],\n",
       " [False, False],\n",
       " [False, False],\n",
       " [False],\n",
       " [False, False, False, False],\n",
       " [False, False, False, False, False],\n",
       " [False],\n",
       " [False, False, False],\n",
       " [False],\n",
       " [False],\n",
       " [False],\n",
       " [False, False],\n",
       " [False, False],\n",
       " [False, False],\n",
       " [True],\n",
       " [False, False, False],\n",
       " [False],\n",
       " [False, False, False, False],\n",
       " [False, False],\n",
       " [False, False, False],\n",
       " [False],\n",
       " [False],\n",
       " [False, False],\n",
       " [False, False],\n",
       " [False, False, False, False, False],\n",
       " [False, False, False],\n",
       " [False, False],\n",
       " [False],\n",
       " [False],\n",
       " [False],\n",
       " [False],\n",
       " [False, False, False],\n",
       " [False, False],\n",
       " [False],\n",
       " [False, False, False],\n",
       " [False, False],\n",
       " [False],\n",
       " [False],\n",
       " [False, False],\n",
       " [False],\n",
       " [False],\n",
       " [False, False, False],\n",
       " [False, False, False],\n",
       " [True],\n",
       " [False, False],\n",
       " [False],\n",
       " [False, False, False, False, True],\n",
       " [False],\n",
       " [False, False, False],\n",
       " [False],\n",
       " [False, False, False],\n",
       " [False],\n",
       " [False, True],\n",
       " [False, False],\n",
       " [False, False],\n",
       " [False, False, False],\n",
       " [False],\n",
       " [False],\n",
       " [False, False, False, False, False],\n",
       " [False, False],\n",
       " [False],\n",
       " [False],\n",
       " [False, False, False],\n",
       " [False, False, False, False],\n",
       " [False],\n",
       " [False, False],\n",
       " [False, False, False],\n",
       " [False],\n",
       " [False],\n",
       " [False],\n",
       " [False, False],\n",
       " [False, False, False, False],\n",
       " [False],\n",
       " [False],\n",
       " [False, False, False],\n",
       " [False, False],\n",
       " [False, False],\n",
       " [False, False, False],\n",
       " [False],\n",
       " [False],\n",
       " [False, False, False, False, False],\n",
       " [False],\n",
       " [False],\n",
       " [False],\n",
       " [False, False],\n",
       " [False, False, False],\n",
       " [False],\n",
       " [False],\n",
       " [False],\n",
       " [False],\n",
       " [False, False],\n",
       " [False, False],\n",
       " [False],\n",
       " [False],\n",
       " [False, False, False, False, False],\n",
       " [False, False],\n",
       " [False],\n",
       " [False, False],\n",
       " [False, False, False],\n",
       " [False],\n",
       " [False, False, False],\n",
       " [False, False, False],\n",
       " [False],\n",
       " [False, False],\n",
       " [False],\n",
       " [False],\n",
       " [False, False],\n",
       " [False, False],\n",
       " [False],\n",
       " [False],\n",
       " [False],\n",
       " [False, False, False],\n",
       " [False, False, False],\n",
       " [False, False],\n",
       " [False, False],\n",
       " [False],\n",
       " [False],\n",
       " [False],\n",
       " [False, False],\n",
       " [False],\n",
       " [False],\n",
       " [False],\n",
       " [False],\n",
       " [False, False, False, False],\n",
       " [False],\n",
       " [False],\n",
       " [False, False],\n",
       " [False],\n",
       " [False],\n",
       " [False],\n",
       " [False],\n",
       " [False],\n",
       " [False],\n",
       " [False, False],\n",
       " [False, False, False, False],\n",
       " [False, False, False, False],\n",
       " [False, False],\n",
       " [False, False],\n",
       " [False, False],\n",
       " [False, False],\n",
       " [False],\n",
       " [False, False],\n",
       " [False, False],\n",
       " [False],\n",
       " [False, False, False],\n",
       " [False, False, False],\n",
       " [False],\n",
       " [False, False],\n",
       " [False, False],\n",
       " [False],\n",
       " [False],\n",
       " [False, False, False],\n",
       " [False],\n",
       " [False],\n",
       " [False, False],\n",
       " [False, False],\n",
       " [False],\n",
       " [False, False, False, False],\n",
       " [False, False, False, False],\n",
       " [False, False, False],\n",
       " [False],\n",
       " [False],\n",
       " [False],\n",
       " [False],\n",
       " [False, False, False],\n",
       " [False, False, False],\n",
       " [False, False, False],\n",
       " [False],\n",
       " [False],\n",
       " [False],\n",
       " [False],\n",
       " [False, False],\n",
       " [False, False],\n",
       " [False, False, True, False],\n",
       " [False, False],\n",
       " [False, False, False],\n",
       " [False],\n",
       " [False, False, False],\n",
       " [False, False],\n",
       " [False, False, False],\n",
       " [False, False],\n",
       " [False, False],\n",
       " [False, False],\n",
       " [False, False],\n",
       " [False],\n",
       " [False, False, False],\n",
       " [False],\n",
       " [False, False, False],\n",
       " [False, False, False],\n",
       " [True, False, False],\n",
       " [False],\n",
       " [False, False],\n",
       " [False],\n",
       " [False, False, False],\n",
       " [False, False],\n",
       " [False, False, False],\n",
       " [False],\n",
       " [False, False],\n",
       " [False, False],\n",
       " [False, False],\n",
       " [False],\n",
       " [False],\n",
       " [False],\n",
       " [False],\n",
       " [False, False],\n",
       " [False],\n",
       " [False, False],\n",
       " [False],\n",
       " [False, False, False],\n",
       " [False],\n",
       " [False, False],\n",
       " [False, False],\n",
       " [False, False],\n",
       " [False, False, False],\n",
       " [False],\n",
       " [False],\n",
       " [False],\n",
       " [False],\n",
       " [False],\n",
       " [False],\n",
       " [False],\n",
       " [False, False],\n",
       " [False, False],\n",
       " [True, False, False],\n",
       " [False],\n",
       " [False],\n",
       " [False, False],\n",
       " [False, False],\n",
       " [False, False],\n",
       " [False],\n",
       " [False, False, False],\n",
       " [False, False],\n",
       " [False],\n",
       " [False, False],\n",
       " [False],\n",
       " [False],\n",
       " [False, False],\n",
       " [False],\n",
       " [False],\n",
       " [False, False, False, False, False],\n",
       " [False, False],\n",
       " [False],\n",
       " [False],\n",
       " [False],\n",
       " [False],\n",
       " [False],\n",
       " [False],\n",
       " [False],\n",
       " [False],\n",
       " [False, False],\n",
       " [False, False],\n",
       " [False],\n",
       " [True, False, False],\n",
       " [False, True, False],\n",
       " [False],\n",
       " [False],\n",
       " [False],\n",
       " [False],\n",
       " [False, False],\n",
       " [False],\n",
       " [False, False],\n",
       " [False],\n",
       " [False, False],\n",
       " [False],\n",
       " [False, False],\n",
       " [False],\n",
       " [False, False],\n",
       " [False],\n",
       " [False],\n",
       " [False, False],\n",
       " [False, False],\n",
       " [False, False],\n",
       " [False],\n",
       " [False],\n",
       " [False],\n",
       " [False],\n",
       " [False, False],\n",
       " [False],\n",
       " [False, False],\n",
       " [False, False, False],\n",
       " [False],\n",
       " [False],\n",
       " [False, False, False],\n",
       " [False, False, False, False, False, False, False],\n",
       " [False, False],\n",
       " [False],\n",
       " [False],\n",
       " [False],\n",
       " [False, False],\n",
       " [False, False, False, False],\n",
       " [False, False],\n",
       " [False, False],\n",
       " [False, False],\n",
       " [False, False],\n",
       " [False],\n",
       " [False, False, False, False],\n",
       " [False, False],\n",
       " [False],\n",
       " [True, False, False, False],\n",
       " [False],\n",
       " [False, False],\n",
       " [False],\n",
       " [False],\n",
       " [False],\n",
       " [False],\n",
       " [False],\n",
       " [False, False, False, False, False],\n",
       " [False, False],\n",
       " [False, False],\n",
       " [False, False, False],\n",
       " [False, False, False],\n",
       " [False],\n",
       " [False, False, False, False, False],\n",
       " [True],\n",
       " [False, False, False, False, False, False],\n",
       " [False, False],\n",
       " [False],\n",
       " [False],\n",
       " [True, False],\n",
       " [False],\n",
       " [False],\n",
       " [False],\n",
       " [False, False],\n",
       " [False, False],\n",
       " [False, False],\n",
       " [False, False],\n",
       " [False],\n",
       " [False],\n",
       " [False, False],\n",
       " [False],\n",
       " [False],\n",
       " [False],\n",
       " [False],\n",
       " [False, False, False],\n",
       " [False],\n",
       " [False],\n",
       " [False, False, False],\n",
       " [False],\n",
       " [False],\n",
       " [False, False],\n",
       " [False],\n",
       " [False, False],\n",
       " [False, False],\n",
       " [False, False],\n",
       " [False],\n",
       " [False],\n",
       " [False, False],\n",
       " [False],\n",
       " [False],\n",
       " [False, False],\n",
       " [False],\n",
       " [False],\n",
       " [False, False],\n",
       " [False],\n",
       " [False, False],\n",
       " [False, False, False],\n",
       " [False],\n",
       " [False],\n",
       " [False, False],\n",
       " [False, False, False],\n",
       " [False],\n",
       " [False, False],\n",
       " [False],\n",
       " [False, False],\n",
       " [False, False],\n",
       " [False, False],\n",
       " [False],\n",
       " [False],\n",
       " [False, True],\n",
       " [False],\n",
       " [False, False, False, False],\n",
       " [False],\n",
       " [False, False],\n",
       " [False],\n",
       " [False, False],\n",
       " [False],\n",
       " [False],\n",
       " [False],\n",
       " ...]"
      ]
     },
     "execution_count": 43,
     "metadata": {},
     "output_type": "execute_result"
    }
   ],
   "source": [
    "medium_bjet.to_list()"
   ]
  },
  {
   "cell_type": "code",
   "execution_count": 44,
   "metadata": {},
   "outputs": [
    {
     "data": {
      "text/plain": [
       "[0, 0, 0, 0, 0, 1]"
      ]
     },
     "execution_count": 44,
     "metadata": {},
     "output_type": "execute_result"
    }
   ],
   "source": [
    "sel_n_medium_bjet[30:36].to_list()"
   ]
  },
  {
   "cell_type": "code",
   "execution_count": 40,
   "metadata": {},
   "outputs": [],
   "source": [
    "### JES JER\n",
    "def apply_jet_corrections(year, corr_type=\"jet\"):\n",
    "    extract = extractor()\n",
    "    extract.add_weight_sets(\n",
    "        [\n",
    "            f\"* * {abs_path('jes/2018/Autumn18_V19_MC_L1FastJet_AK4PFchs.jec.txt')}\",\n",
    "            f\"* * {abs_path('jes/2018/Autumn18_V19_MC_L2Relative_AK4PFchs.jec.txt')}\",\n",
    "            f\"* * {abs_path('jes/2018/Autumn18_V19_MC_L3Absolute_AK4PFchs.jec.txt')}\",\n",
    "            f\"* * {abs_path('jes/2018/Autumn18_V19_MC_L2L3Residual_AK4PFchs.jec.txt')}\",\n",
    "            f\"* * {abs_path('jes/2018/Regrouped_Autumn18_V19_MC_UncertaintySources_AK4PFchs.junc.txt')}\",\n",
    "            f\"* * {abs_path('jer/2018/Autumn18_V7b_MC_PtResolution_AK4PFchs.jr.txt')}\",\n",
    "            f\"* * {abs_path('jer/2018/Autumn18_V7b_MC_SF_AK4PFchs.jersf.txt')}\",\n",
    "        ]\n",
    "    )\n",
    "\n",
    "    extract.finalize()\n",
    "    evaluator = extract.make_evaluator()\n",
    "\n",
    "    jec_names = dir(evaluator)\n",
    "    print(jec_names)\n",
    "    jec_inputs = {name: evaluator[name] for name in jec_names}\n",
    "    jec_stack = JECStack(jec_inputs)\n",
    "    name_map = jec_stack.blank_name_map\n",
    "    name_map['JetPt'] = 'pt'\n",
    "    name_map['JetMass'] = 'mass'\n",
    "    name_map['JetEta'] = 'eta'\n",
    "    name_map['JetPhi'] = 'phi'\n",
    "    name_map['JetA'] = 'area'\n",
    "    name_map['ptGenJet'] = 'pt_gen'\n",
    "    name_map['ptRaw'] = 'pt_raw'\n",
    "    name_map['massRaw'] = 'mass_raw'\n",
    "    name_map['Rho'] = 'rho'\n",
    "    name_map['METpt'] = 'pt'\n",
    "    name_map['METphi'] = 'phi'\n",
    "    name_map['UnClusteredEnergyDeltaX'] = 'MetUnclustEnUpDeltaX'\n",
    "    name_map['UnClusteredEnergyDeltaY'] = 'MetUnclustEnUpDeltaY'\n",
    "    if corr_type=='met': return CorrectedMETFactory(name_map)\n",
    "    return CorrectedJetsFactory(name_map, jec_stack)\n"
   ]
  },
  {
   "cell_type": "code",
   "execution_count": 41,
   "metadata": {},
   "outputs": [],
   "source": [
    "good_jets = clean_jets"
   ]
  },
  {
   "cell_type": "code",
   "execution_count": 42,
   "metadata": {},
   "outputs": [
    {
     "name": "stderr",
     "output_type": "stream",
     "text": [
      "/home/pku/xiaoj/miniconda3/envs/xcu/lib/python3.9/site-packages/coffea/lookup_tools/txt_converters.py:288: UserWarning: JERSF file is in the new format with split-out systematic, only parsing totals!!!\n",
      "  warnings.warn(\n"
     ]
    },
    {
     "name": "stdout",
     "output_type": "stream",
     "text": [
      "['Autumn18_V19_MC_L1FastJet_AK4PFchs', 'Autumn18_V19_MC_L2L3Residual_AK4PFchs', 'Autumn18_V19_MC_L2Relative_AK4PFchs', 'Autumn18_V19_MC_L3Absolute_AK4PFchs', 'Autumn18_V7b_MC_PtResolution_AK4PFchs', 'Autumn18_V7b_MC_SF_AK4PFchs', 'Regrouped_Autumn18_V19_MC_UncertaintySources_AK4PFchs_Absolute', 'Regrouped_Autumn18_V19_MC_UncertaintySources_AK4PFchs_Absolute_2018', 'Regrouped_Autumn18_V19_MC_UncertaintySources_AK4PFchs_BBEC1', 'Regrouped_Autumn18_V19_MC_UncertaintySources_AK4PFchs_BBEC1_2018', 'Regrouped_Autumn18_V19_MC_UncertaintySources_AK4PFchs_EC2', 'Regrouped_Autumn18_V19_MC_UncertaintySources_AK4PFchs_EC2_2018', 'Regrouped_Autumn18_V19_MC_UncertaintySources_AK4PFchs_FlavorQCD', 'Regrouped_Autumn18_V19_MC_UncertaintySources_AK4PFchs_HF', 'Regrouped_Autumn18_V19_MC_UncertaintySources_AK4PFchs_HF_2018', 'Regrouped_Autumn18_V19_MC_UncertaintySources_AK4PFchs_RelativeBal', 'Regrouped_Autumn18_V19_MC_UncertaintySources_AK4PFchs_RelativeSample_2018', 'Regrouped_Autumn18_V19_MC_UncertaintySources_AK4PFchs_Total']\n"
     ]
    }
   ],
   "source": [
    "if not False:\n",
    "    good_jets[\"pt_raw\"] = (1 - good_jets.rawFactor)*good_jets.pt\n",
    "    good_jets[\"mass_raw\"] = (1 - good_jets.rawFactor)*good_jets.mass\n",
    "    good_jets[\"pt_gen\"] =ak.values_astype(ak.fill_none(good_jets.matched_gen.pt, 0), np.float32)\n",
    "    good_jets[\"rho\"] = ak.broadcast_arrays(events.fixedGridRhoFastjetAll, good_jets.pt)[0]\n",
    "    events_cache = events.caches[0]\n",
    "    corrected_jets = apply_jet_corrections('2018', corr_type='jets').build(good_jets, lazy_cache=events_cache)\n",
    "    jesr_unc = [i for i in corrected_jets.fields if i.startswith(\"JES\") or i.startswith(\"JER\")]\n",
    "    good_jets[\"pt\"] = corrected_jets.pt\n",
    "    good_jets[\"mass\"] = corrected_jets.mass\n",
    "    for ibr in jesr_unc:\n",
    "        good_jets[f\"pt_{ibr}_up\"] = corrected_jets[ibr].up.pt\n",
    "        good_jets[f\"pt_{ibr}_down\"] = corrected_jets[ibr].down.pt\n",
    "        good_jets[f\"mass_{ibr}_up\"] = corrected_jets[ibr].up.mass\n",
    "        good_jets[f\"mass_{ibr}_down\"] = corrected_jets[ibr].down.mass\n",
    "    # ordered by new pt: high -> low\n",
    "    index = ak.argsort(good_jets.pt, ascending=False)\n",
    "    good_jets = good_jets[index]\n"
   ]
  },
  {
   "cell_type": "code",
   "execution_count": 48,
   "metadata": {},
   "outputs": [],
   "source": [
    "def corrected_polar_met(met_pt, met_phi, obj_pt, obj_phi, obj_pt_orig, deltas=None):\n",
    "    sj, cj = np.sin(obj_phi), np.cos(obj_phi)\n",
    "    x = met_pt * np.cos(met_phi) + ak.sum(\n",
    "        obj_pt * cj - obj_pt_orig * cj, axis=1\n",
    "    )\n",
    "    y = met_pt * np.sin(met_phi) + ak.sum(\n",
    "        obj_pt * sj - obj_pt_orig * sj, axis=1\n",
    "    )\n",
    "    if deltas:\n",
    "        positive, dx, dy = deltas\n",
    "        x = x + dx if positive else x - dx\n",
    "        y = y + dy if positive else y - dy\n",
    "    \n",
    "    # return ak.zip({\"pt\": np.hypot(x, y), \"phi\": np.arctan2(y, x)})\n",
    "    return np.hypot(x, y), np.arctan2(y, x)\n"
   ]
  },
  {
   "cell_type": "code",
   "execution_count": null,
   "metadata": {},
   "outputs": [],
   "source": []
  },
  {
   "cell_type": "code",
   "execution_count": 49,
   "metadata": {},
   "outputs": [],
   "source": [
    "MET['pt_roccorr'], MET['phi_roccorr'] = corrected_polar_met(MET.pt,MET.phi,good_muons.newpt,good_muons.phi,good_muons.phi)\n",
    "\n",
    "# the jer is applied after considering roccorr on Muon\n",
    "MET['pt'], MET['phi'] = corrected_polar_met(MET['pt_roccorr'],MET['phi_roccorr'],good_jets[\"pt\"],good_jets[\"phi\"],good_jets[\"pt_raw\"])\n",
    "MET['pt_UnclusteredEnergy_up'], MET['phi_UnclusteredEnergy_up'] = corrected_polar_met(\n",
    "    MET['pt_roccorr'],\n",
    "    MET['phi_roccorr'],\n",
    "    good_jets[\"pt\"],\n",
    "    good_jets[\"phi\"],\n",
    "    good_jets[\"pt_raw\"],\n",
    "    (\n",
    "        True,\n",
    "        MET.MetUnclustEnUpDeltaX,\n",
    "        MET.MetUnclustEnUpDeltaY,\n",
    "    ),\n",
    ")\n",
    "MET['pt_UnclusteredEnergy_down'], MET['phi_UnclusteredEnergy_down'] = corrected_polar_met(\n",
    "    MET['pt_roccorr'],\n",
    "    MET['phi_roccorr'],\n",
    "    good_jets[\"pt\"],\n",
    "    good_jets[\"phi\"],\n",
    "    good_jets[\"pt_raw\"],\n",
    "    (\n",
    "        False,\n",
    "        MET.MetUnclustEnUpDeltaX,\n",
    "        MET.MetUnclustEnUpDeltaY,\n",
    "    ),\n",
    ")\n",
    "for ibr in jesr_unc:\n",
    "    MET[f\"pt_{ibr}_up\"], MET[f\"phi_{ibr}_up\"] = corrected_polar_met(MET['pt'],MET['phi'],good_jets[f\"pt_{ibr}_up\"],good_jets[\"phi\"],good_jets[\"pt_raw\"])\n",
    "    MET[f\"pt_{ibr}_down\"], MET[f\"phi_{ibr}_down\"] = corrected_polar_met(MET['pt'],MET['phi'],good_jets[f\"pt_{ibr}_down\"],good_jets[\"phi\"],good_jets[\"pt_raw\"])\n"
   ]
  },
  {
   "cell_type": "code",
   "execution_count": 52,
   "metadata": {},
   "outputs": [],
   "source": [
    "with up.recreate(\"new_test.root\", compression=None) as fout:\n",
    "    fout['Events'] = {\n",
    "        'MET': MET,\n",
    "    }"
   ]
  },
  {
   "cell_type": "code",
   "execution_count": 59,
   "metadata": {},
   "outputs": [
    {
     "name": "stdout",
     "output_type": "stream",
     "text": [
      "29531\n"
     ]
    },
    {
     "data": {
      "text/plain": [
       "{\n",
       "    \"class\": \"IndexedOptionArray64\",\n",
       "    \"index\": \"i64\",\n",
       "    \"content\": \"float32\"\n",
       "}"
      ]
     },
     "execution_count": 59,
     "metadata": {},
     "output_type": "execute_result"
    }
   ],
   "source": [
    "print(len(MET.pt))\n",
    "MET.pt.layout.form"
   ]
  },
  {
   "cell_type": "code",
   "execution_count": 60,
   "metadata": {},
   "outputs": [
    {
     "data": {
      "text/plain": [
       "array([ 37,  94, 110, ..., 116, 149, 251], dtype=int32)"
      ]
     },
     "execution_count": 60,
     "metadata": {},
     "output_type": "execute_result"
    }
   ],
   "source": [
    "np.array(ak.to_list(MET.pt),dtype=np.int32)"
   ]
  },
  {
   "cell_type": "code",
   "execution_count": 63,
   "metadata": {},
   "outputs": [
    {
     "data": {
      "text/plain": [
       "array([ 37.932514,  94.55633 , 110.74531 , ..., 116.96571 , 149.32442 ,\n",
       "       251.36964 ], dtype=float32)"
      ]
     },
     "execution_count": 63,
     "metadata": {},
     "output_type": "execute_result"
    }
   ],
   "source": [
    "MET.pt.to_numpy().data"
   ]
  },
  {
   "cell_type": "code",
   "execution_count": 40,
   "metadata": {},
   "outputs": [
    {
     "data": {
      "text/plain": [
       "[[64.12452697753906, 23.723495483398438],\n",
       " [77.15625, 30.405256271362305],\n",
       " None,\n",
       " [141.04873657226562, 23.364160537719727],\n",
       " None]"
      ]
     },
     "execution_count": 40,
     "metadata": {},
     "output_type": "execute_result"
    }
   ],
   "source": [
    "good_muons.pt[0:5].to_list()"
   ]
  },
  {
   "cell_type": "code",
   "execution_count": 41,
   "metadata": {},
   "outputs": [
    {
     "data": {
      "text/plain": [
       "[[64.13423919677734, 23.719892501831055],\n",
       " [77.39348602294922, 30.450531005859375],\n",
       " None,\n",
       " [141.38211059570312, 23.37615394592285],\n",
       " None]"
      ]
     },
     "execution_count": 41,
     "metadata": {},
     "output_type": "execute_result"
    }
   ],
   "source": [
    "good_muons.newpt[0:5].to_list()"
   ]
  },
  {
   "cell_type": "code",
   "execution_count": 23,
   "metadata": {},
   "outputs": [
    {
     "data": {
      "text/plain": [
       "{\n",
       "    \"class\": \"IndexedOptionArray64\",\n",
       "    \"index\": \"i64\",\n",
       "    \"content\": {\n",
       "        \"class\": \"VirtualArray\",\n",
       "        \"form\": {\n",
       "            \"class\": \"IndexedArray64\",\n",
       "            \"index\": \"i64\",\n",
       "            \"content\": {\n",
       "                \"class\": \"VirtualArray\",\n",
       "                \"form\": {\n",
       "                    \"class\": \"NumpyArray\",\n",
       "                    \"itemsize\": 4,\n",
       "                    \"format\": \"f\",\n",
       "                    \"primitive\": \"float32\",\n",
       "                    \"parameters\": {\n",
       "                        \"__doc__\": \"phi\"\n",
       "                    },\n",
       "                    \"form_key\": \"MET_phi%2C%21load\"\n",
       "                },\n",
       "                \"has_length\": true\n",
       "            }\n",
       "        },\n",
       "        \"has_length\": true,\n",
       "        \"parameters\": {\n",
       "            \"__doc__\": \"phi\"\n",
       "        }\n",
       "    }\n",
       "}"
      ]
     },
     "execution_count": 23,
     "metadata": {},
     "output_type": "execute_result"
    }
   ],
   "source": [
    "MET.phi.layout.form"
   ]
  },
  {
   "cell_type": "code",
   "execution_count": 45,
   "metadata": {},
   "outputs": [
    {
     "ename": "AttributeError",
     "evalue": "no field named 'pt_orig'\n\n(https://github.com/scikit-hep/awkward-1.0/blob/1.7.0/src/awkward/highlevel.py#L1131)",
     "output_type": "error",
     "traceback": [
      "\u001b[0;31m---------------------------------------------------------------------------\u001b[0m",
      "\u001b[0;31mAttributeError\u001b[0m                            Traceback (most recent call last)",
      "\u001b[0;32m/tmp/ipykernel_242866/4120367154.py\u001b[0m in \u001b[0;36m<module>\u001b[0;34m\u001b[0m\n\u001b[0;32m----> 1\u001b[0;31m \u001b[0mMET\u001b[0m\u001b[0;34m.\u001b[0m\u001b[0mpt_orig\u001b[0m\u001b[0;34m.\u001b[0m\u001b[0mlayout\u001b[0m\u001b[0;34m.\u001b[0m\u001b[0mform\u001b[0m\u001b[0;34m\u001b[0m\u001b[0;34m\u001b[0m\u001b[0m\n\u001b[0m",
      "\u001b[0;32m~/miniconda3/envs/xcu/lib/python3.9/site-packages/awkward/highlevel.py\u001b[0m in \u001b[0;36m__getattr__\u001b[0;34m(self, where)\u001b[0m\n\u001b[1;32m   1127\u001b[0m                     )\n\u001b[1;32m   1128\u001b[0m             \u001b[0;32melse\u001b[0m\u001b[0;34m:\u001b[0m\u001b[0;34m\u001b[0m\u001b[0;34m\u001b[0m\u001b[0m\n\u001b[0;32m-> 1129\u001b[0;31m                 raise AttributeError(\n\u001b[0m\u001b[1;32m   1130\u001b[0m                     \u001b[0;34m\"no field named {0}\"\u001b[0m\u001b[0;34m.\u001b[0m\u001b[0mformat\u001b[0m\u001b[0;34m(\u001b[0m\u001b[0mrepr\u001b[0m\u001b[0;34m(\u001b[0m\u001b[0mwhere\u001b[0m\u001b[0;34m)\u001b[0m\u001b[0;34m)\u001b[0m\u001b[0;34m\u001b[0m\u001b[0;34m\u001b[0m\u001b[0m\n\u001b[1;32m   1131\u001b[0m                     \u001b[0;34m+\u001b[0m \u001b[0mak\u001b[0m\u001b[0;34m.\u001b[0m\u001b[0m_util\u001b[0m\u001b[0;34m.\u001b[0m\u001b[0mexception_suffix\u001b[0m\u001b[0;34m(\u001b[0m\u001b[0m__file__\u001b[0m\u001b[0;34m)\u001b[0m\u001b[0;34m\u001b[0m\u001b[0;34m\u001b[0m\u001b[0m\n",
      "\u001b[0;31mAttributeError\u001b[0m: no field named 'pt_orig'\n\n(https://github.com/scikit-hep/awkward-1.0/blob/1.7.0/src/awkward/highlevel.py#L1131)"
     ]
    }
   ],
   "source": [
    "MET.pt_orig.layout.form"
   ]
  },
  {
   "cell_type": "code",
   "execution_count": 72,
   "metadata": {},
   "outputs": [
    {
     "name": "stdout",
     "output_type": "stream",
     "text": [
      "['Autumn18_V19_MC_L1FastJet_AK4PFchs', 'Autumn18_V19_MC_L2L3Residual_AK4PFchs', 'Autumn18_V19_MC_L2Relative_AK4PFchs', 'Autumn18_V19_MC_L3Absolute_AK4PFchs', 'Regrouped_Autumn18_V19_MC_UncertaintySources_AK4PFchs_Absolute', 'Regrouped_Autumn18_V19_MC_UncertaintySources_AK4PFchs_Absolute_2018', 'Regrouped_Autumn18_V19_MC_UncertaintySources_AK4PFchs_BBEC1', 'Regrouped_Autumn18_V19_MC_UncertaintySources_AK4PFchs_BBEC1_2018', 'Regrouped_Autumn18_V19_MC_UncertaintySources_AK4PFchs_EC2', 'Regrouped_Autumn18_V19_MC_UncertaintySources_AK4PFchs_EC2_2018', 'Regrouped_Autumn18_V19_MC_UncertaintySources_AK4PFchs_FlavorQCD', 'Regrouped_Autumn18_V19_MC_UncertaintySources_AK4PFchs_HF', 'Regrouped_Autumn18_V19_MC_UncertaintySources_AK4PFchs_HF_2018', 'Regrouped_Autumn18_V19_MC_UncertaintySources_AK4PFchs_RelativeBal', 'Regrouped_Autumn18_V19_MC_UncertaintySources_AK4PFchs_RelativeSample_2018', 'Regrouped_Autumn18_V19_MC_UncertaintySources_AK4PFchs_Total', 'Summer19UL18_JRV2_MC_PtResolution_AK4PFchs', 'Summer19UL18_JRV2_MC_SF_AK4PFchs']\n"
     ]
    }
   ],
   "source": [
    "is_data = False\n",
    "met = events.MET\n",
    "\n",
    "if not is_data:\n",
    "    clean_jets[\"pt_raw\"] = (1 - clean_jets.rawFactor)*clean_jets.pt\n",
    "    clean_jets[\"mass_raw\"] = (1 - clean_jets.rawFactor)*clean_jets.mass\n",
    "    clean_jets[\"pt_gen\"] =ak.values_astype(ak.fill_none(clean_jets.matched_gen.pt, 0), np.float32)\n",
    "    clean_jets[\"rho\"] = ak.broadcast_arrays(events.fixedGridRhoFastjetAll, clean_jets.pt)[0]\n",
    "    events_cache = events.caches[0]\n",
    "    new_clean_jets = apply_jet_corrections(2018, corr_type='jets').build(clean_jets, lazy_cache=events_cache)\n",
    "    # new_met = apply_jet_corrections(2018, corr_type='met').build(met, new_clean_jets, lazy_cache=events_cache)\n",
    "    # # SYSTEMATICS\n",
    "    # cleanedJets=ApplyJetSystematics(cleanedJets,syst_var)\n",
    "    # met=ApplyJetCorrections(year, corr_type='met').build(met_raw, cleanedJets, lazy_cache=events_cache)\n",
    "    \n",
    "    # clean_jets['JER_up'] = new_clean_jets.JER.up"
   ]
  },
  {
   "cell_type": "code",
   "execution_count": 63,
   "metadata": {},
   "outputs": [
    {
     "data": {
      "text/plain": [
       "[None, None, [70.88551330566406, 33.272789001464844]]"
      ]
     },
     "execution_count": 63,
     "metadata": {},
     "output_type": "execute_result"
    }
   ],
   "source": [
    "events.HLT.IsoMu24"
   ]
  },
  {
   "cell_type": "code",
   "execution_count": 64,
   "metadata": {},
   "outputs": [
    {
     "data": {
      "text/plain": [
       "[None, None, [69.25, 32.9375]]"
      ]
     },
     "execution_count": 64,
     "metadata": {},
     "output_type": "execute_result"
    }
   ],
   "source": [
    "clean_jets[134:137].pt.to_list()"
   ]
  },
  {
   "cell_type": "code",
   "execution_count": 81,
   "metadata": {},
   "outputs": [],
   "source": []
  },
  {
   "cell_type": "code",
   "execution_count": 9,
   "metadata": {},
   "outputs": [
    {
     "name": "stdout",
     "output_type": "stream",
     "text": [
      "DYJetsToLL_M-50_6MqpOcfdyIe.parquet\n",
      "DYJetsToLL_M-50_70glydpsBW2.parquet\n",
      "DYJetsToLL_M-50_8tFJCZv2l50.parquet\n",
      "DYJetsToLL_M-50_DILzGaKBYyE.parquet\n",
      "DYJetsToLL_M-50_f1sgDC6OZmR.parquet\n",
      "DYJetsToLL_M-50_k4T9R5cngjp.parquet\n",
      "DYJetsToLL_M-50_NZ5dIr71A9p.parquet\n",
      "DYJetsToLL_M-50_Ptu93J7YxCe.parquet\n",
      "DYJetsToLL_M-50_T6uYXnzSbyE.parquet\n",
      "DYJetsToLL_M-50_ubM0QvfyLwA.parquet\n",
      "DYJetsToLL_M-50_xei0UmCb9Xk.parquet\n"
     ]
    },
    {
     "data": {
      "text/plain": [
       "0"
      ]
     },
     "execution_count": 9,
     "metadata": {},
     "output_type": "execute_result"
    }
   ],
   "source": [
    "import os\n",
    "os.system(\"ls /data/pubfs/xiaoj/hmm/ntuple/nanov7/obj_sel/DYJetsToLL_M-50\")"
   ]
  },
  {
   "cell_type": "code",
   "execution_count": 10,
   "metadata": {},
   "outputs": [],
   "source": [
    "input_dict={\n",
    "    'DYJetsToLL_M-50': [\n",
    "        '/data/pubfs/xiaoj/hmm/ntuple/nanov7/obj_sel/DYJetsToLL_M-50/DYJetsToLL_M-50_6MqpOcfdyIe.parquet',\n",
    "        '/data/pubfs/xiaoj/hmm/ntuple/nanov7/obj_sel/DYJetsToLL_M-50/DYJetsToLL_M-50_70glydpsBW2.parquet',\n",
    "        '/data/pubfs/xiaoj/hmm/ntuple/nanov7/obj_sel/DYJetsToLL_M-50/DYJetsToLL_M-50_8tFJCZv2l50.parquet',\n",
    "        '/data/pubfs/xiaoj/hmm/ntuple/nanov7/obj_sel/DYJetsToLL_M-50/DYJetsToLL_M-50_DILzGaKBYyE.parquet',\n",
    "        '/data/pubfs/xiaoj/hmm/ntuple/nanov7/obj_sel/DYJetsToLL_M-50/DYJetsToLL_M-50_f1sgDC6OZmR.parquet',\n",
    "        '/data/pubfs/xiaoj/hmm/ntuple/nanov7/obj_sel/DYJetsToLL_M-50/DYJetsToLL_M-50_T6uYXnzSbyE.parquet',\n",
    "        '/data/pubfs/xiaoj/hmm/ntuple/nanov7/obj_sel/DYJetsToLL_M-50/DYJetsToLL_M-50_xei0UmCb9Xk.parquet',        \n",
    "    ],\n",
    "}"
   ]
  },
  {
   "cell_type": "code",
   "execution_count": 11,
   "metadata": {},
   "outputs": [
    {
     "data": {
      "application/vnd.jupyter.widget-view+json": {
       "model_id": "f01e2162917d497aac164ebd3ed6d656",
       "version_major": 2,
       "version_minor": 0
      },
      "text/plain": [
       "Processing:   0%|          | 0/7 [00:00<?, ?chunk/s]"
      ]
     },
     "metadata": {},
     "output_type": "display_data"
    },
    {
     "name": "stderr",
     "output_type": "stream",
     "text": [
      "/home/pku/xiaoj/miniconda3/envs/xcu/lib/python3.9/site-packages/coffea/processor/executor.py:261: UserWarning: Cancelling 5 running jobs (likely due to an exception)\n",
      "  warnings.warn(\n"
     ]
    },
    {
     "ename": "NameError",
     "evalue": "name 'events' is not defined\n\nFailed processing file: WorkItem(dataset='DYJetsToLL_M-50', filename='/data/pubfs/xiaoj/hmm/ntuple/nanov7/obj_sel/DYJetsToLL_M-50/DYJetsToLL_M-50_6MqpOcfdyIe.parquet', treename='Events', entrystart=0, entrystop=0, fileuuid='', usermeta=None)",
     "output_type": "error",
     "traceback": [
      "\u001b[0;31m---------------------------------------------------------------------------\u001b[0m",
      "\u001b[0;31m_RemoteTraceback\u001b[0m                          Traceback (most recent call last)",
      "\u001b[0;31m_RemoteTraceback\u001b[0m: \n\"\"\"\nTraceback (most recent call last):\n  File \"/home/pku/xiaoj/miniconda3/envs/xcu/lib/python3.9/concurrent/futures/process.py\", line 243, in _process_worker\n    r = call_item.fn(*call_item.args, **call_item.kwargs)\n  File \"/home/pku/xiaoj/miniconda3/envs/xcu/lib/python3.9/site-packages/coffea/processor/executor.py\", line 197, in __call__\n    out = self.function(*args, **kwargs)\n  File \"/home/pku/xiaoj/miniconda3/envs/xcu/lib/python3.9/site-packages/coffea/processor/executor.py\", line 972, in automatic_retries\n    raise e\n  File \"/home/pku/xiaoj/miniconda3/envs/xcu/lib/python3.9/site-packages/coffea/processor/executor.py\", line 960, in automatic_retries\n    return func(*args, **kwargs)\n  File \"/home/pku/xiaoj/miniconda3/envs/xcu/lib/python3.9/site-packages/coffea/processor/executor.py\", line 1209, in _work_function\n    raise type(e)(str(e) + file_trace).with_traceback(\n  File \"/home/pku/xiaoj/miniconda3/envs/xcu/lib/python3.9/site-packages/coffea/processor/executor.py\", line 1206, in _work_function\n    out = processor_instance.process(events)\n  File \"/tmp/ipykernel_220487/3314935925.py\", line 23, in process\n    result = self.accumulator.identity()\n  File \"/tmp/ipykernel_220487/3314935925.py\", line 19, in accumulator\n    print(events.fields)\nNameError: name 'events' is not defined\n\nFailed processing file: WorkItem(dataset='DYJetsToLL_M-50', filename='/data/pubfs/xiaoj/hmm/ntuple/nanov7/obj_sel/DYJetsToLL_M-50/DYJetsToLL_M-50_6MqpOcfdyIe.parquet', treename='Events', entrystart=0, entrystop=0, fileuuid='', usermeta=None)\n\"\"\"",
      "\nThe above exception was the direct cause of the following exception:\n",
      "\u001b[0;31mNameError\u001b[0m                                 Traceback (most recent call last)",
      "\u001b[0;32m/tmp/ipykernel_220487/1884147714.py\u001b[0m in \u001b[0;36m<module>\u001b[0;34m\u001b[0m\n\u001b[0;32m----> 1\u001b[0;31m results = processor.run_parquet_job(\n\u001b[0m\u001b[1;32m      2\u001b[0m     \u001b[0minput_dict\u001b[0m\u001b[0;34m,\u001b[0m\u001b[0;34m\u001b[0m\u001b[0;34m\u001b[0m\u001b[0m\n\u001b[1;32m      3\u001b[0m     \u001b[0;34m'Events'\u001b[0m\u001b[0;34m,\u001b[0m\u001b[0;34m\u001b[0m\u001b[0;34m\u001b[0m\u001b[0m\n\u001b[1;32m      4\u001b[0m     \u001b[0mprocessor_instance\u001b[0m\u001b[0;34m=\u001b[0m\u001b[0mbare_sel\u001b[0m\u001b[0;34m(\u001b[0m\u001b[0;34m)\u001b[0m\u001b[0;34m,\u001b[0m\u001b[0;34m\u001b[0m\u001b[0;34m\u001b[0m\u001b[0m\n\u001b[1;32m      5\u001b[0m     \u001b[0mexecutor\u001b[0m\u001b[0;34m=\u001b[0m\u001b[0mprocessor\u001b[0m\u001b[0;34m.\u001b[0m\u001b[0mfutures_executor\u001b[0m\u001b[0;34m,\u001b[0m\u001b[0;34m\u001b[0m\u001b[0;34m\u001b[0m\u001b[0m\n",
      "\u001b[0;32m~/miniconda3/envs/xcu/lib/python3.9/site-packages/coffea/processor/__init__.py\u001b[0m in \u001b[0;36m_run_x_job\u001b[0;34m(fileset, treename, processor_instance, executor, executor_args, pre_executor, pre_args, chunksize, maxchunks, metadata_cache, dynamic_chunksize, format)\u001b[0m\n\u001b[1;32m    102\u001b[0m     )\n\u001b[1;32m    103\u001b[0m \u001b[0;34m\u001b[0m\u001b[0m\n\u001b[0;32m--> 104\u001b[0;31m     return run(\n\u001b[0m\u001b[1;32m    105\u001b[0m         \u001b[0mfileset\u001b[0m\u001b[0;34m,\u001b[0m\u001b[0;34m\u001b[0m\u001b[0;34m\u001b[0m\u001b[0m\n\u001b[1;32m    106\u001b[0m         \u001b[0mtreename\u001b[0m\u001b[0;34m,\u001b[0m\u001b[0;34m\u001b[0m\u001b[0;34m\u001b[0m\u001b[0m\n",
      "\u001b[0;32m~/miniconda3/envs/xcu/lib/python3.9/site-packages/coffea/processor/executor.py\u001b[0m in \u001b[0;36m__call__\u001b[0;34m(self, fileset, treename, processor_instance)\u001b[0m\n\u001b[1;32m   1335\u001b[0m \u001b[0;34m\u001b[0m\u001b[0m\n\u001b[1;32m   1336\u001b[0m         \u001b[0mexecutor\u001b[0m \u001b[0;34m=\u001b[0m \u001b[0mself\u001b[0m\u001b[0;34m.\u001b[0m\u001b[0mexecutor\u001b[0m\u001b[0;34m.\u001b[0m\u001b[0mcopy\u001b[0m\u001b[0;34m(\u001b[0m\u001b[0;34m**\u001b[0m\u001b[0mexe_args\u001b[0m\u001b[0;34m)\u001b[0m\u001b[0;34m\u001b[0m\u001b[0;34m\u001b[0m\u001b[0m\n\u001b[0;32m-> 1337\u001b[0;31m         \u001b[0mwrapped_out\u001b[0m \u001b[0;34m=\u001b[0m \u001b[0mexecutor\u001b[0m\u001b[0;34m(\u001b[0m\u001b[0mchunks\u001b[0m\u001b[0;34m,\u001b[0m \u001b[0mclosure\u001b[0m\u001b[0;34m,\u001b[0m \u001b[0;32mNone\u001b[0m\u001b[0;34m)\u001b[0m\u001b[0;34m\u001b[0m\u001b[0;34m\u001b[0m\u001b[0m\n\u001b[0m\u001b[1;32m   1338\u001b[0m \u001b[0;34m\u001b[0m\u001b[0m\n\u001b[1;32m   1339\u001b[0m         \u001b[0mprocessor_instance\u001b[0m\u001b[0;34m.\u001b[0m\u001b[0mpostprocess\u001b[0m\u001b[0;34m(\u001b[0m\u001b[0mwrapped_out\u001b[0m\u001b[0;34m[\u001b[0m\u001b[0;34m\"out\"\u001b[0m\u001b[0;34m]\u001b[0m\u001b[0;34m)\u001b[0m\u001b[0;34m\u001b[0m\u001b[0;34m\u001b[0m\u001b[0m\n",
      "\u001b[0;32m~/miniconda3/envs/xcu/lib/python3.9/site-packages/coffea/processor/executor.py\u001b[0m in \u001b[0;36m__call__\u001b[0;34m(self, items, function, accumulator)\u001b[0m\n\u001b[1;32m    578\u001b[0m             \u001b[0;31m# assume its a class then\u001b[0m\u001b[0;34m\u001b[0m\u001b[0;34m\u001b[0m\u001b[0m\n\u001b[1;32m    579\u001b[0m             \u001b[0;32mwith\u001b[0m \u001b[0mself\u001b[0m\u001b[0;34m.\u001b[0m\u001b[0mpool\u001b[0m\u001b[0;34m(\u001b[0m\u001b[0mmax_workers\u001b[0m\u001b[0;34m=\u001b[0m\u001b[0mself\u001b[0m\u001b[0;34m.\u001b[0m\u001b[0mworkers\u001b[0m\u001b[0;34m)\u001b[0m \u001b[0;32mas\u001b[0m \u001b[0mpoolinstance\u001b[0m\u001b[0;34m:\u001b[0m\u001b[0;34m\u001b[0m\u001b[0;34m\u001b[0m\u001b[0m\n\u001b[0;32m--> 580\u001b[0;31m                 \u001b[0;32mreturn\u001b[0m \u001b[0mprocesswith\u001b[0m\u001b[0;34m(\u001b[0m\u001b[0mpool\u001b[0m\u001b[0;34m=\u001b[0m\u001b[0mpoolinstance\u001b[0m\u001b[0;34m)\u001b[0m\u001b[0;34m\u001b[0m\u001b[0;34m\u001b[0m\u001b[0m\n\u001b[0m\u001b[1;32m    581\u001b[0m \u001b[0;34m\u001b[0m\u001b[0m\n\u001b[1;32m    582\u001b[0m \u001b[0;34m\u001b[0m\u001b[0m\n",
      "\u001b[0;32m~/miniconda3/envs/xcu/lib/python3.9/site-packages/coffea/processor/executor.py\u001b[0m in \u001b[0;36mprocesswith\u001b[0;34m(pool)\u001b[0m\n\u001b[1;32m    560\u001b[0m             )\n\u001b[1;32m    561\u001b[0m             \u001b[0;32mtry\u001b[0m\u001b[0;34m:\u001b[0m\u001b[0;34m\u001b[0m\u001b[0;34m\u001b[0m\u001b[0m\n\u001b[0;32m--> 562\u001b[0;31m                 return accumulate(\n\u001b[0m\u001b[1;32m    563\u001b[0m                     tqdm(\n\u001b[1;32m    564\u001b[0m                         \u001b[0mgen\u001b[0m \u001b[0;32mif\u001b[0m \u001b[0mself\u001b[0m\u001b[0;34m.\u001b[0m\u001b[0mcompression\u001b[0m \u001b[0;32mis\u001b[0m \u001b[0;32mNone\u001b[0m \u001b[0;32melse\u001b[0m \u001b[0mmap\u001b[0m\u001b[0;34m(\u001b[0m\u001b[0m_decompress\u001b[0m\u001b[0;34m,\u001b[0m \u001b[0mgen\u001b[0m\u001b[0;34m)\u001b[0m\u001b[0;34m,\u001b[0m\u001b[0;34m\u001b[0m\u001b[0;34m\u001b[0m\u001b[0m\n",
      "\u001b[0;32m~/miniconda3/envs/xcu/lib/python3.9/site-packages/coffea/processor/accumulator.py\u001b[0m in \u001b[0;36maccumulate\u001b[0;34m(items, accum)\u001b[0m\n\u001b[1;32m     87\u001b[0m     \u001b[0;32mtry\u001b[0m\u001b[0;34m:\u001b[0m\u001b[0;34m\u001b[0m\u001b[0;34m\u001b[0m\u001b[0m\n\u001b[1;32m     88\u001b[0m         \u001b[0;32mif\u001b[0m \u001b[0maccum\u001b[0m \u001b[0;32mis\u001b[0m \u001b[0;32mNone\u001b[0m\u001b[0;34m:\u001b[0m\u001b[0;34m\u001b[0m\u001b[0;34m\u001b[0m\u001b[0m\n\u001b[0;32m---> 89\u001b[0;31m             \u001b[0maccum\u001b[0m \u001b[0;34m=\u001b[0m \u001b[0mnext\u001b[0m\u001b[0;34m(\u001b[0m\u001b[0mgen\u001b[0m\u001b[0;34m)\u001b[0m\u001b[0;34m\u001b[0m\u001b[0;34m\u001b[0m\u001b[0m\n\u001b[0m\u001b[1;32m     90\u001b[0m             \u001b[0;31m# we want to produce a new object so that the input is not mutated\u001b[0m\u001b[0;34m\u001b[0m\u001b[0;34m\u001b[0m\u001b[0m\n\u001b[1;32m     91\u001b[0m             \u001b[0maccum\u001b[0m \u001b[0;34m=\u001b[0m \u001b[0madd\u001b[0m\u001b[0;34m(\u001b[0m\u001b[0maccum\u001b[0m\u001b[0;34m,\u001b[0m \u001b[0mnext\u001b[0m\u001b[0;34m(\u001b[0m\u001b[0mgen\u001b[0m\u001b[0;34m)\u001b[0m\u001b[0;34m)\u001b[0m\u001b[0;34m\u001b[0m\u001b[0;34m\u001b[0m\u001b[0m\n",
      "\u001b[0;32m~/miniconda3/envs/xcu/lib/python3.9/site-packages/coffea/processor/accumulator.py\u001b[0m in \u001b[0;36m<genexpr>\u001b[0;34m(.0)\u001b[0m\n\u001b[1;32m     84\u001b[0m     \u001b[0mitems\u001b[0m\u001b[0;34m:\u001b[0m \u001b[0mIterable\u001b[0m\u001b[0;34m[\u001b[0m\u001b[0mOptional\u001b[0m\u001b[0;34m[\u001b[0m\u001b[0mAccumulatable\u001b[0m\u001b[0;34m]\u001b[0m\u001b[0;34m]\u001b[0m\u001b[0;34m,\u001b[0m \u001b[0maccum\u001b[0m\u001b[0;34m:\u001b[0m \u001b[0mOptional\u001b[0m\u001b[0;34m[\u001b[0m\u001b[0mAccumulatable\u001b[0m\u001b[0;34m]\u001b[0m \u001b[0;34m=\u001b[0m \u001b[0;32mNone\u001b[0m\u001b[0;34m\u001b[0m\u001b[0;34m\u001b[0m\u001b[0m\n\u001b[1;32m     85\u001b[0m ) -> Optional[Accumulatable]:\n\u001b[0;32m---> 86\u001b[0;31m     \u001b[0mgen\u001b[0m \u001b[0;34m=\u001b[0m \u001b[0;34m(\u001b[0m\u001b[0mx\u001b[0m \u001b[0;32mfor\u001b[0m \u001b[0mx\u001b[0m \u001b[0;32min\u001b[0m \u001b[0mitems\u001b[0m \u001b[0;32mif\u001b[0m \u001b[0mx\u001b[0m \u001b[0;32mis\u001b[0m \u001b[0;32mnot\u001b[0m \u001b[0;32mNone\u001b[0m\u001b[0;34m)\u001b[0m\u001b[0;34m\u001b[0m\u001b[0;34m\u001b[0m\u001b[0m\n\u001b[0m\u001b[1;32m     87\u001b[0m     \u001b[0;32mtry\u001b[0m\u001b[0;34m:\u001b[0m\u001b[0;34m\u001b[0m\u001b[0;34m\u001b[0m\u001b[0m\n\u001b[1;32m     88\u001b[0m         \u001b[0;32mif\u001b[0m \u001b[0maccum\u001b[0m \u001b[0;32mis\u001b[0m \u001b[0;32mNone\u001b[0m\u001b[0;34m:\u001b[0m\u001b[0;34m\u001b[0m\u001b[0;34m\u001b[0m\u001b[0m\n",
      "\u001b[0;32m~/miniconda3/envs/xcu/lib/python3.9/site-packages/tqdm/notebook.py\u001b[0m in \u001b[0;36m__iter__\u001b[0;34m(self)\u001b[0m\n\u001b[1;32m    255\u001b[0m     \u001b[0;32mdef\u001b[0m \u001b[0m__iter__\u001b[0m\u001b[0;34m(\u001b[0m\u001b[0mself\u001b[0m\u001b[0;34m)\u001b[0m\u001b[0;34m:\u001b[0m\u001b[0;34m\u001b[0m\u001b[0;34m\u001b[0m\u001b[0m\n\u001b[1;32m    256\u001b[0m         \u001b[0;32mtry\u001b[0m\u001b[0;34m:\u001b[0m\u001b[0;34m\u001b[0m\u001b[0;34m\u001b[0m\u001b[0m\n\u001b[0;32m--> 257\u001b[0;31m             \u001b[0;32mfor\u001b[0m \u001b[0mobj\u001b[0m \u001b[0;32min\u001b[0m \u001b[0msuper\u001b[0m\u001b[0;34m(\u001b[0m\u001b[0mtqdm_notebook\u001b[0m\u001b[0;34m,\u001b[0m \u001b[0mself\u001b[0m\u001b[0;34m)\u001b[0m\u001b[0;34m.\u001b[0m\u001b[0m__iter__\u001b[0m\u001b[0;34m(\u001b[0m\u001b[0;34m)\u001b[0m\u001b[0;34m:\u001b[0m\u001b[0;34m\u001b[0m\u001b[0;34m\u001b[0m\u001b[0m\n\u001b[0m\u001b[1;32m    258\u001b[0m                 \u001b[0;31m# return super(tqdm...) will not catch exception\u001b[0m\u001b[0;34m\u001b[0m\u001b[0;34m\u001b[0m\u001b[0m\n\u001b[1;32m    259\u001b[0m                 \u001b[0;32myield\u001b[0m \u001b[0mobj\u001b[0m\u001b[0;34m\u001b[0m\u001b[0;34m\u001b[0m\u001b[0m\n",
      "\u001b[0;32m~/miniconda3/envs/xcu/lib/python3.9/site-packages/tqdm/std.py\u001b[0m in \u001b[0;36m__iter__\u001b[0;34m(self)\u001b[0m\n\u001b[1;32m   1178\u001b[0m \u001b[0;34m\u001b[0m\u001b[0m\n\u001b[1;32m   1179\u001b[0m         \u001b[0;32mtry\u001b[0m\u001b[0;34m:\u001b[0m\u001b[0;34m\u001b[0m\u001b[0;34m\u001b[0m\u001b[0m\n\u001b[0;32m-> 1180\u001b[0;31m             \u001b[0;32mfor\u001b[0m \u001b[0mobj\u001b[0m \u001b[0;32min\u001b[0m \u001b[0miterable\u001b[0m\u001b[0;34m:\u001b[0m\u001b[0;34m\u001b[0m\u001b[0;34m\u001b[0m\u001b[0m\n\u001b[0m\u001b[1;32m   1181\u001b[0m                 \u001b[0;32myield\u001b[0m \u001b[0mobj\u001b[0m\u001b[0;34m\u001b[0m\u001b[0;34m\u001b[0m\u001b[0m\n\u001b[1;32m   1182\u001b[0m                 \u001b[0;31m# Update and possibly print the progressbar.\u001b[0m\u001b[0;34m\u001b[0m\u001b[0;34m\u001b[0m\u001b[0m\n",
      "\u001b[0;32m~/miniconda3/envs/xcu/lib/python3.9/site-packages/coffea/processor/executor.py\u001b[0m in \u001b[0;36m_futures_handler\u001b[0;34m(futures, timeout)\u001b[0m\n\u001b[1;32m    246\u001b[0m                 \u001b[0;32mwhile\u001b[0m \u001b[0mdone\u001b[0m\u001b[0;34m:\u001b[0m\u001b[0;34m\u001b[0m\u001b[0;34m\u001b[0m\u001b[0m\n\u001b[1;32m    247\u001b[0m                     \u001b[0;32mtry\u001b[0m\u001b[0;34m:\u001b[0m\u001b[0;34m\u001b[0m\u001b[0;34m\u001b[0m\u001b[0m\n\u001b[0;32m--> 248\u001b[0;31m                         \u001b[0;32myield\u001b[0m \u001b[0mdone\u001b[0m\u001b[0;34m.\u001b[0m\u001b[0mpop\u001b[0m\u001b[0;34m(\u001b[0m\u001b[0;34m)\u001b[0m\u001b[0;34m.\u001b[0m\u001b[0mresult\u001b[0m\u001b[0;34m(\u001b[0m\u001b[0;34m)\u001b[0m\u001b[0;34m\u001b[0m\u001b[0;34m\u001b[0m\u001b[0m\n\u001b[0m\u001b[1;32m    249\u001b[0m                     \u001b[0;32mexcept\u001b[0m \u001b[0mconcurrent\u001b[0m\u001b[0;34m.\u001b[0m\u001b[0mfutures\u001b[0m\u001b[0;34m.\u001b[0m\u001b[0mCancelledError\u001b[0m\u001b[0;34m:\u001b[0m\u001b[0;34m\u001b[0m\u001b[0;34m\u001b[0m\u001b[0m\n\u001b[1;32m    250\u001b[0m                         \u001b[0;32mpass\u001b[0m\u001b[0;34m\u001b[0m\u001b[0;34m\u001b[0m\u001b[0m\n",
      "\u001b[0;32m~/miniconda3/envs/xcu/lib/python3.9/concurrent/futures/_base.py\u001b[0m in \u001b[0;36mresult\u001b[0;34m(self, timeout)\u001b[0m\n\u001b[1;32m    436\u001b[0m                     \u001b[0;32mraise\u001b[0m \u001b[0mCancelledError\u001b[0m\u001b[0;34m(\u001b[0m\u001b[0;34m)\u001b[0m\u001b[0;34m\u001b[0m\u001b[0;34m\u001b[0m\u001b[0m\n\u001b[1;32m    437\u001b[0m                 \u001b[0;32melif\u001b[0m \u001b[0mself\u001b[0m\u001b[0;34m.\u001b[0m\u001b[0m_state\u001b[0m \u001b[0;34m==\u001b[0m \u001b[0mFINISHED\u001b[0m\u001b[0;34m:\u001b[0m\u001b[0;34m\u001b[0m\u001b[0;34m\u001b[0m\u001b[0m\n\u001b[0;32m--> 438\u001b[0;31m                     \u001b[0;32mreturn\u001b[0m \u001b[0mself\u001b[0m\u001b[0;34m.\u001b[0m\u001b[0m__get_result\u001b[0m\u001b[0;34m(\u001b[0m\u001b[0;34m)\u001b[0m\u001b[0;34m\u001b[0m\u001b[0;34m\u001b[0m\u001b[0m\n\u001b[0m\u001b[1;32m    439\u001b[0m \u001b[0;34m\u001b[0m\u001b[0m\n\u001b[1;32m    440\u001b[0m                 \u001b[0mself\u001b[0m\u001b[0;34m.\u001b[0m\u001b[0m_condition\u001b[0m\u001b[0;34m.\u001b[0m\u001b[0mwait\u001b[0m\u001b[0;34m(\u001b[0m\u001b[0mtimeout\u001b[0m\u001b[0;34m)\u001b[0m\u001b[0;34m\u001b[0m\u001b[0;34m\u001b[0m\u001b[0m\n",
      "\u001b[0;32m~/miniconda3/envs/xcu/lib/python3.9/concurrent/futures/_base.py\u001b[0m in \u001b[0;36m__get_result\u001b[0;34m(self)\u001b[0m\n\u001b[1;32m    388\u001b[0m         \u001b[0;32mif\u001b[0m \u001b[0mself\u001b[0m\u001b[0;34m.\u001b[0m\u001b[0m_exception\u001b[0m\u001b[0;34m:\u001b[0m\u001b[0;34m\u001b[0m\u001b[0;34m\u001b[0m\u001b[0m\n\u001b[1;32m    389\u001b[0m             \u001b[0;32mtry\u001b[0m\u001b[0;34m:\u001b[0m\u001b[0;34m\u001b[0m\u001b[0;34m\u001b[0m\u001b[0m\n\u001b[0;32m--> 390\u001b[0;31m                 \u001b[0;32mraise\u001b[0m \u001b[0mself\u001b[0m\u001b[0;34m.\u001b[0m\u001b[0m_exception\u001b[0m\u001b[0;34m\u001b[0m\u001b[0;34m\u001b[0m\u001b[0m\n\u001b[0m\u001b[1;32m    391\u001b[0m             \u001b[0;32mfinally\u001b[0m\u001b[0;34m:\u001b[0m\u001b[0;34m\u001b[0m\u001b[0;34m\u001b[0m\u001b[0m\n\u001b[1;32m    392\u001b[0m                 \u001b[0;31m# Break a reference cycle with the exception in self._exception\u001b[0m\u001b[0;34m\u001b[0m\u001b[0;34m\u001b[0m\u001b[0m\n",
      "\u001b[0;31mNameError\u001b[0m: name 'events' is not defined\n\nFailed processing file: WorkItem(dataset='DYJetsToLL_M-50', filename='/data/pubfs/xiaoj/hmm/ntuple/nanov7/obj_sel/DYJetsToLL_M-50/DYJetsToLL_M-50_6MqpOcfdyIe.parquet', treename='Events', entrystart=0, entrystop=0, fileuuid='', usermeta=None)"
     ]
    }
   ],
   "source": [
    "results = processor.run_parquet_job(\n",
    "    input_dict,\n",
    "    'Events',\n",
    "    processor_instance=bare_sel(),\n",
    "    executor=processor.futures_executor,\n",
    "    executor_args={\"schema\": BaseSchema, \"workers\": 100},\n",
    "    # chunksize=int(cfg['chunksize']),\n",
    "    maxchunks=None,\n",
    ")\n"
   ]
  },
  {
   "cell_type": "code",
   "execution_count": 7,
   "metadata": {},
   "outputs": [
    {
     "data": {
      "text/plain": [
       "defaultdict_accumulator(int, {'DYJetsToLL_M-50': 43505})"
      ]
     },
     "execution_count": 7,
     "metadata": {},
     "output_type": "execute_result"
    }
   ],
   "source": [
    "results['ntot']"
   ]
  },
  {
   "cell_type": "code",
   "execution_count": 56,
   "metadata": {},
   "outputs": [
    {
     "data": {
      "text/plain": [
       "[[0.54833984375, 0.428955078125],\n",
       " [0.5185546875, 0.54833984375, 0.478759765625, 0.52880859375, 0.5185546875],\n",
       " [0.46875,\n",
       "  0.5185546875,\n",
       "  0.44873046875,\n",
       "  0.458740234375,\n",
       "  0.498779296875,\n",
       "  0.478759765625],\n",
       " [0.53857421875, 0.5185546875, 0.52880859375],\n",
       " [0.5087890625]]"
      ]
     },
     "execution_count": 56,
     "metadata": {},
     "output_type": "execute_result"
    }
   ],
   "source": [
    "eve.Jet_area[0:5].to_list()"
   ]
  },
  {
   "cell_type": "code",
   "execution_count": null,
   "metadata": {},
   "outputs": [],
   "source": []
  },
  {
   "cell_type": "markdown",
   "metadata": {},
   "source": [
    "## Don't remove, the place to make the \"clean\" with cartesian clear"
   ]
  },
  {
   "cell_type": "code",
   "execution_count": null,
   "metadata": {},
   "outputs": [
    {
     "data": {
      "text/plain": [
       "<Array [[[0.0113], [4.6, ... 0.00839], [1.43]]] type='3 * var * var * float32'>"
      ]
     },
     "execution_count": 135,
     "metadata": {},
     "output_type": "execute_result"
    }
   ],
   "source": [
    "jtmp = jets[0:3]\n",
    "mtmp = good_muons[0:3]\n",
    "\n",
    "pair_obj = ak.cartesian([jtmp, mtmp],nested=True)\n",
    "obj1, obj2 = ak.unzip(pair_obj)\n",
    "obj1.delta_r(obj2)"
   ]
  },
  {
   "cell_type": "code",
   "execution_count": null,
   "metadata": {},
   "outputs": [
    {
     "data": {
      "text/plain": [
       "[[[0.011299419216811657], [4.601864337921143]],\n",
       " [[0.005097805988043547, 3.1803181171417236],\n",
       "  [3.207820415496826, 0.028553511947393417],\n",
       "  [4.776998043060303, 3.171268939971924]],\n",
       " [[0.00838739424943924], [1.430845856666565]]]"
      ]
     },
     "execution_count": 136,
     "metadata": {},
     "output_type": "execute_result"
    }
   ],
   "source": [
    "obj1.delta_r(obj2).to_list()"
   ]
  },
  {
   "cell_type": "code",
   "execution_count": null,
   "metadata": {},
   "outputs": [
    {
     "data": {
      "text/plain": [
       "[[[57.96875], [19.421875]],\n",
       " [[47.28125, 47.28125], [35.3125, 35.3125], [28.03125, 28.03125]],\n",
       " [[35.96875], [15.609375]]]"
      ]
     },
     "execution_count": 137,
     "metadata": {},
     "output_type": "execute_result"
    }
   ],
   "source": [
    "obj1.pt.to_list()"
   ]
  },
  {
   "cell_type": "code",
   "execution_count": null,
   "metadata": {},
   "outputs": [
    {
     "data": {
      "text/plain": [
       "[[[53.41250228881836], [53.41250228881836]],\n",
       " [[42.005924224853516, 31.437562942504883],\n",
       "  [42.005924224853516, 31.437562942504883],\n",
       "  [42.005924224853516, 31.437562942504883]],\n",
       " [[32.56406784057617], [32.56406784057617]]]"
      ]
     },
     "execution_count": 138,
     "metadata": {},
     "output_type": "execute_result"
    }
   ],
   "source": [
    "obj2.pt.to_list()"
   ]
  },
  {
   "cell_type": "code",
   "execution_count": null,
   "metadata": {},
   "outputs": [
    {
     "data": {
      "text/plain": [
       "[[0.011299419216811657, 4.601864337921143],\n",
       " [0.005097805988043547, 0.028553511947393417, 3.171268939971924],\n",
       " [0.00838739424943924, 1.430845856666565]]"
      ]
     },
     "execution_count": 139,
     "metadata": {},
     "output_type": "execute_result"
    }
   ],
   "source": [
    "a = obj1.delta_r(obj2)\n",
    "ak.min(a,axis=2).to_list()"
   ]
  },
  {
   "cell_type": "code",
   "execution_count": null,
   "metadata": {},
   "outputs": [
    {
     "data": {
      "text/plain": [
       "[[57.96875, 19.421875], [47.28125, 35.3125, 28.03125], [35.96875, 15.609375]]"
      ]
     },
     "execution_count": 140,
     "metadata": {},
     "output_type": "execute_result"
    }
   ],
   "source": [
    "jtmp.pt.to_list()"
   ]
  },
  {
   "cell_type": "code",
   "execution_count": null,
   "metadata": {},
   "outputs": [
    {
     "data": {
      "text/plain": [
       "[[53.41250228881836],\n",
       " [42.005924224853516, 31.437562942504883],\n",
       " [32.56406784057617]]"
      ]
     },
     "execution_count": 141,
     "metadata": {},
     "output_type": "execute_result"
    }
   ],
   "source": [
    "mtmp.pt.to_list()"
   ]
  },
  {
   "cell_type": "code",
   "execution_count": null,
   "metadata": {},
   "outputs": [
    {
     "data": {
      "text/plain": [
       "[[0.011299419216811657],\n",
       " [0.005097805988043547, 3.1803181171417236],\n",
       " [0.00838739424943924]]"
      ]
     },
     "execution_count": 142,
     "metadata": {},
     "output_type": "execute_result"
    }
   ],
   "source": [
    "jtmp[:,0].delta_r(mtmp).to_list()"
   ]
  },
  {
   "cell_type": "code",
   "execution_count": null,
   "metadata": {},
   "outputs": [
    {
     "data": {
      "text/plain": [
       "[[4.601864337921143],\n",
       " [3.207820415496826, 0.028553511947393417],\n",
       " [1.430845856666565]]"
      ]
     },
     "execution_count": 143,
     "metadata": {},
     "output_type": "execute_result"
    }
   ],
   "source": [
    "jtmp[:,1].delta_r(mtmp).to_list()"
   ]
  },
  {
   "cell_type": "code",
   "execution_count": null,
   "metadata": {},
   "outputs": [
    {
     "data": {
      "text/plain": [
       "[0.011299419216811657, 0.005097805988043547, 0.00838739424943924]"
      ]
     },
     "execution_count": 144,
     "metadata": {},
     "output_type": "execute_result"
    }
   ],
   "source": [
    "jtmp[:,0].delta_r(mtmp[:,0]).to_list()"
   ]
  },
  {
   "cell_type": "code",
   "execution_count": null,
   "metadata": {},
   "outputs": [
    {
     "data": {
      "text/plain": [
       "[[19.421875], [28.03125], [15.609375]]"
      ]
     },
     "execution_count": 145,
     "metadata": {},
     "output_type": "execute_result"
    }
   ],
   "source": [
    "a = obj1.delta_r(obj2)\n",
    "b = ak.min(a,axis=2)\n",
    "c = (b > 0.4)\n",
    "clean_jets = jtmp[c]\n",
    "(clean_jets.pt).to_list()"
   ]
  },
  {
   "cell_type": "code",
   "execution_count": null,
   "metadata": {},
   "outputs": [],
   "source": []
  }
 ],
 "metadata": {
  "interpreter": {
   "hash": "5cb26a57e8c3bacca127120453f50d259d8e56da38e094311726df11d012d06d"
  },
  "kernelspec": {
   "display_name": "Python 3.9.7 64-bit ('xcu': conda)",
   "language": "python",
   "name": "python3"
  },
  "language_info": {
   "codemirror_mode": {
    "name": "ipython",
    "version": 3
   },
   "file_extension": ".py",
   "mimetype": "text/x-python",
   "name": "python",
   "nbconvert_exporter": "python",
   "pygments_lexer": "ipython3",
   "version": "3.9.9"
  },
  "orig_nbformat": 4
 },
 "nbformat": 4,
 "nbformat_minor": 2
}
